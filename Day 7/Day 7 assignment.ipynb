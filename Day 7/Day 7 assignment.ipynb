{
 "cells": [
  {
   "cell_type": "markdown",
   "metadata": {},
   "source": [
    "# 1.Program to copy the contents of one file to another using a for loop."
   ]
  },
  {
   "cell_type": "code",
   "execution_count": 7,
   "metadata": {},
   "outputs": [
    {
     "name": "stdout",
     "output_type": "stream",
     "text": [
      "Hello LetsUpgrade!!!\n",
      "Hello LetsUpgrade!!!\n"
     ]
    }
   ],
   "source": [
    "f1 = open(\"File1.txt\",'w')\n",
    "f1.write(\"Hello LetsUpgrade!!!\")\n",
    "f1.close()\n",
    "\n",
    "f2 = open(\"File2.txt\",'w')\n",
    "f1 = open(\"File1.txt\",'r')\n",
    "\n",
    "for line in f1:\n",
    "    f2.write(line)\n",
    "    f2.close()\n",
    "f1.close()\n",
    "\n",
    "f1 = open(\"File1.txt\",'r')\n",
    "f2 = open(\"File2.txt\",'r')\n",
    "\n",
    "print(f1.read())\n",
    "print(f2.read())\n",
    "\n",
    "f1.close()\n",
    "f2.close()"
   ]
  },
  {
   "cell_type": "markdown",
   "metadata": {},
   "source": [
    "# 2.Python program to find maximum and minimum values in the dictionary."
   ]
  },
  {
   "cell_type": "code",
   "execution_count": 19,
   "metadata": {},
   "outputs": [
    {
     "name": "stdout",
     "output_type": "stream",
     "text": [
      "Maximum: LetsUpgrade\n",
      "Minimum: 111\n"
     ]
    }
   ],
   "source": [
    "dict = {'A':\"Akshata\", 'B':\"LetsUpgrade\", 'C':\"AI ML\",'D':\"111\"}\n",
    "\n",
    "for value in dict.values():\n",
    "    try:\n",
    "        if value > max1:\n",
    "            max1 = value\n",
    "        if value < min1:\n",
    "            min1 = value\n",
    "    except:\n",
    "        max1 = value\n",
    "        min1 = value\n",
    "\n",
    "print(\"Maximum:\",max1)\n",
    "print(\"Minimum:\",min1)\n"
   ]
  },
  {
   "cell_type": "code",
   "execution_count": null,
   "metadata": {},
   "outputs": [],
   "source": []
  }
 ],
 "metadata": {
  "kernelspec": {
   "display_name": "Python 3",
   "language": "python",
   "name": "python3"
  },
  "language_info": {
   "codemirror_mode": {
    "name": "ipython",
    "version": 3
   },
   "file_extension": ".py",
   "mimetype": "text/x-python",
   "name": "python",
   "nbconvert_exporter": "python",
   "pygments_lexer": "ipython3",
   "version": "3.8.3"
  }
 },
 "nbformat": 4,
 "nbformat_minor": 4
}
