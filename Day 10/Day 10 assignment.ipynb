{
 "cells": [
  {
   "cell_type": "markdown",
   "metadata": {},
   "source": [
    "# 1.Create an element-wise comparison (greater, greater_equal, less and less_equal) of two given arrays."
   ]
  },
  {
   "cell_type": "code",
   "execution_count": 1,
   "metadata": {},
   "outputs": [],
   "source": [
    "import numpy as np"
   ]
  },
  {
   "cell_type": "code",
   "execution_count": 5,
   "metadata": {},
   "outputs": [
    {
     "name": "stdout",
     "output_type": "stream",
     "text": [
      "Is greater? [False False  True]\n",
      "Is greater and equal? [False  True  True]\n",
      "Is less than? [ True False False]\n",
      "Is less than or equal? [ True  True False]\n"
     ]
    }
   ],
   "source": [
    "a1 = np.array([1, 11, 111])\n",
    "a2 = np.array([5, 11, 100])\n",
    "print(\"Is greater?\",np.greater(a1,a2))\n",
    "print(\"Is greater and equal?\",np.greater_equal(a1,a2))\n",
    "print(\"Is less than?\",np.less(a1,a2))\n",
    "print(\"Is less than or equal?\",np.less_equal(a1,a2))"
   ]
  },
  {
   "cell_type": "markdown",
   "metadata": {},
   "source": [
    "# 2.Write a NumPy program to create an array of 10 zeros,10 ones, 10 fives"
   ]
  },
  {
   "cell_type": "code",
   "execution_count": 6,
   "metadata": {},
   "outputs": [
    {
     "name": "stdout",
     "output_type": "stream",
     "text": [
      "An array of 10 zeros:\n",
      "[0. 0. 0. 0. 0. 0. 0. 0. 0. 0.]\n",
      "An array of 10 ones:\n",
      "[1. 1. 1. 1. 1. 1. 1. 1. 1. 1.]\n",
      "An array of 10 fives:\n",
      "[5. 5. 5. 5. 5. 5. 5. 5. 5. 5.]\n"
     ]
    }
   ],
   "source": [
    "a1=np.zeros(10)\n",
    "print(\"An array of 10 zeros:\")\n",
    "print(a1)\n",
    "a2=np.ones(10)\n",
    "print(\"An array of 10 ones:\")\n",
    "print(a2)\n",
    "a3=np.ones(10)*5\n",
    "print(\"An array of 10 fives:\")\n",
    "print(a3)"
   ]
  },
  {
   "cell_type": "markdown",
   "metadata": {},
   "source": [
    "# 3.Write a NumPy program to compute sum of all elements, sum of each column and sum of each row of a given array."
   ]
  },
  {
   "cell_type": "code",
   "execution_count": 7,
   "metadata": {},
   "outputs": [
    {
     "name": "stdout",
     "output_type": "stream",
     "text": [
      "Original array:\n",
      "[[ 1  2  3  4]\n",
      " [ 5  6  7  8]\n",
      " [ 9 10 11 12]]\n",
      "Sum of all elements:\n",
      "78\n",
      "Sum of each column:\n",
      "[15 18 21 24]\n",
      "Sum of each row:\n",
      "[10 26 42]\n"
     ]
    }
   ],
   "source": [
    "a1=np.array([[1,2,3,4],[5,6,7,8],[9,10,11,12]])\n",
    "print(\"Original array:\")\n",
    "print(a1)\n",
    "print(\"Sum of all elements:\")\n",
    "print(np.sum(a1))\n",
    "print(\"Sum of each column:\")\n",
    "print(np.sum(a1, axis=0))\n",
    "print(\"Sum of each row:\")\n",
    "print(np.sum(a1, axis=1))"
   ]
  },
  {
   "cell_type": "markdown",
   "metadata": {},
   "source": [
    "# 4.Write a NumPy program to add, subtract, multiply, divide arguments element-wise."
   ]
  },
  {
   "cell_type": "code",
   "execution_count": 9,
   "metadata": {},
   "outputs": [
    {
     "name": "stdout",
     "output_type": "stream",
     "text": [
      "Addition:\n",
      "9\n",
      "Subtraction:\n",
      "1\n",
      "Multiplication:\n",
      "20\n",
      "Division:\n",
      "1.25\n"
     ]
    }
   ],
   "source": [
    "print(\"Addition:\")\n",
    "print(np.add(5, 4))\n",
    "print(\"Subtraction:\")\n",
    "print(np.subtract(5, 4))\n",
    "print(\"Multiplication:\")\n",
    "print(np.multiply(5, 4))\n",
    "print(\"Division:\")\n",
    "print(np.divide(5, 4))"
   ]
  },
  {
   "cell_type": "markdown",
   "metadata": {},
   "source": [
    "# 5.Write a NumPy program to compute the trigonometric sine, cosine and tangent array of angles given in degree."
   ]
  },
  {
   "cell_type": "code",
   "execution_count": 12,
   "metadata": {},
   "outputs": [
    {
     "name": "stdout",
     "output_type": "stream",
     "text": [
      "sine of given angles:\n",
      "[0.         0.5        0.70710678 0.8660254  1.        ]\n",
      "cosine of angles given:\n",
      "[1.00000000e+00 8.66025404e-01 7.07106781e-01 5.00000000e-01\n",
      " 6.12323400e-17]\n",
      "tangent of angles given:\n",
      "[0.00000000e+00 5.77350269e-01 1.00000000e+00 1.73205081e+00\n",
      " 1.63312394e+16]\n"
     ]
    }
   ],
   "source": [
    "angles = np.array([0, 30, 45, 60, 90])\n",
    "print(\"sine of given angles:\")\n",
    "print(np.sin(angles * np.pi / 180.))\n",
    "print(\"cosine of angles given:\")\n",
    "print(np.cos(angles * np.pi / 180.))\n",
    "print(\"tangent of angles given:\")\n",
    "print(np.tan(angles * np.pi / 180.))"
   ]
  },
  {
   "cell_type": "code",
   "execution_count": null,
   "metadata": {},
   "outputs": [],
   "source": []
  }
 ],
 "metadata": {
  "kernelspec": {
   "display_name": "Python 3",
   "language": "python",
   "name": "python3"
  },
  "language_info": {
   "codemirror_mode": {
    "name": "ipython",
    "version": 3
   },
   "file_extension": ".py",
   "mimetype": "text/x-python",
   "name": "python",
   "nbconvert_exporter": "python",
   "pygments_lexer": "ipython3",
   "version": "3.8.3"
  }
 },
 "nbformat": 4,
 "nbformat_minor": 4
}
