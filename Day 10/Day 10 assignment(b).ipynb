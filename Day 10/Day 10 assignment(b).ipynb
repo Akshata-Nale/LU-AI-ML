{
 "cells": [
  {
   "cell_type": "markdown",
   "metadata": {},
   "source": [
    "# 6.Write a Pandas program to create and display a DataFrame from a specified dictionary data which has the index labels."
   ]
  },
  {
   "cell_type": "code",
   "execution_count": 8,
   "metadata": {},
   "outputs": [
    {
     "name": "stdout",
     "output_type": "stream",
     "text": [
      "   Name  Score Qualify\n",
      "1     A   12.0     yes\n",
      "2     B    9.0      no\n",
      "3     C   16.5     yes\n",
      "4     D   10.0     yes\n",
      "5     E    9.0      no\n",
      "6     F   20.0     yes\n",
      "7     G   14.5     yes\n",
      "8     H   10.0     yes\n",
      "9     I    8.0      no\n",
      "10    J   19.0     yes\n"
     ]
    }
   ],
   "source": [
    "import pandas as pd\n",
    "\n",
    "exam_data  = {'Name': ['A', 'B', 'C', 'D', 'E', 'F', 'G', 'H', 'I', 'J'],\n",
    "        'Score': [12, 9, 16.5, 10, 9, 20, 14.5,10, 8, 19],\n",
    "        'Qualify': ['yes', 'no', 'yes', 'yes', 'no', 'yes', 'yes', 'yes', 'no', 'yes']}\n",
    "labels = ['1', '2', '3', '4', '5', '6', '7', '8', '9', '10']\n",
    "df = pd.DataFrame(exam_data , index=labels)\n",
    "print(df)"
   ]
  },
  {
   "cell_type": "markdown",
   "metadata": {},
   "source": [
    "# 7.Write a Pandas program to select the 'name' and 'score' columns from the following DataFrame."
   ]
  },
  {
   "cell_type": "code",
   "execution_count": 9,
   "metadata": {},
   "outputs": [
    {
     "name": "stdout",
     "output_type": "stream",
     "text": [
      "Select specific columns:\n",
      "   Name  Score\n",
      "1     A   12.0\n",
      "2     B    9.0\n",
      "3     C   16.5\n",
      "4     D   10.0\n",
      "5     E    9.0\n",
      "6     F   20.0\n",
      "7     G   14.5\n",
      "8     H   10.0\n",
      "9     I    8.0\n",
      "10    J   19.0\n"
     ]
    }
   ],
   "source": [
    "df = pd.DataFrame(exam_data , index=labels)\n",
    "print(\"Select specific columns:\")\n",
    "print(df[['Name', 'Score']])"
   ]
  },
  {
   "cell_type": "markdown",
   "metadata": {},
   "source": [
    "# 8.Write a Pandas program to join the two given dataframes along rows and assign all data."
   ]
  },
  {
   "cell_type": "code",
   "execution_count": 10,
   "metadata": {},
   "outputs": [
    {
     "name": "stdout",
     "output_type": "stream",
     "text": [
      "Original DataFrames:\n",
      "  student_id name  marks\n",
      "0         S1    A     10\n",
      "1         S2    B     20\n",
      "2         S3    C     30\n",
      "3         S4    D     40\n",
      "4         S5    E     50\n",
      "-------------------------------------\n",
      "  student_id name  marks\n",
      "0         S4    F     60\n",
      "1         S5    G     70\n",
      "2         S6    H     80\n",
      "3         S7    I     90\n",
      "4         S8    J    100\n",
      "\n",
      "Join the two dataframes along rows:\n",
      "  student_id name  marks\n",
      "0         S1    A     10\n",
      "1         S2    B     20\n",
      "2         S3    C     30\n",
      "3         S4    D     40\n",
      "4         S5    E     50\n",
      "0         S4    F     60\n",
      "1         S5    G     70\n",
      "2         S6    H     80\n",
      "3         S7    I     90\n",
      "4         S8    J    100\n"
     ]
    }
   ],
   "source": [
    "import pandas as pd\n",
    "student_data1 = pd.DataFrame({\n",
    "        'student_id': ['S1', 'S2', 'S3', 'S4', 'S5'],\n",
    "         'name': ['A', 'B', 'C', 'D', 'E'], \n",
    "        'marks': [10, 20, 30, 40, 50]})\n",
    "\n",
    "student_data2 = pd.DataFrame({\n",
    "        'student_id': ['S4', 'S5', 'S6', 'S7', 'S8'],\n",
    "        'name': ['F', 'G', 'H', 'I', 'J'], \n",
    "        'marks': [60, 70, 80, 90, 100]})\n",
    "\n",
    "print(\"Original DataFrames:\")\n",
    "print(student_data1)\n",
    "print(\"-------------------------------------\")\n",
    "print(student_data2)\n",
    "print(\"\\nJoin the two dataframes along rows:\")\n",
    "result_data = pd.concat([student_data1, student_data2])\n",
    "print(result_data)"
   ]
  },
  {
   "cell_type": "markdown",
   "metadata": {},
   "source": [
    "# 9.Write a Pandas program to detect missing values of a given DataFrame. Display True or False."
   ]
  },
  {
   "cell_type": "code",
   "execution_count": 11,
   "metadata": {},
   "outputs": [
    {
     "name": "stdout",
     "output_type": "stream",
     "text": [
      "Original Orders DataFrame:\n",
      "    ord_no  purch_amt  customer_id\n",
      "0      1.0     150.50         3002\n",
      "1      NaN     270.65         3001\n",
      "2      3.0      65.26         3001\n",
      "3      4.0     110.50         3003\n",
      "4      NaN     948.50         3002\n",
      "5      6.0    2400.60         3001\n",
      "6      NaN    5760.00         3001\n",
      "7      8.0    1983.43         3004\n",
      "8     45.0    2480.40         3003\n",
      "9     52.0     250.45         3002\n",
      "10     NaN      75.29         3001\n",
      "11    86.0    3045.60         3001\n",
      "\n",
      "Missing values of the said dataframe:\n",
      "    ord_no  purch_amt  customer_id\n",
      "0    False      False        False\n",
      "1     True      False        False\n",
      "2    False      False        False\n",
      "3    False      False        False\n",
      "4     True      False        False\n",
      "5    False      False        False\n",
      "6     True      False        False\n",
      "7    False      False        False\n",
      "8    False      False        False\n",
      "9    False      False        False\n",
      "10    True      False        False\n",
      "11   False      False        False\n"
     ]
    }
   ],
   "source": [
    "import pandas as pd\n",
    "import numpy as np\n",
    "pd.set_option('display.max_rows', None)\n",
    "df = pd.DataFrame({\n",
    "'ord_no':[1,np.nan,3,4,np.nan,6,np.nan,8,45,52,np.nan,86],\n",
    "'purch_amt':[150.5,270.65,65.26,110.5,948.5,2400.6,5760,1983.43,2480.4,250.45, 75.29,3045.6],\n",
    "'customer_id':[3002,3001,3001,3003,3002,3001,3001,3004,3003,3002,3001,3001]})\n",
    "print(\"Original Orders DataFrame:\")\n",
    "print(df)\n",
    "print(\"\\nMissing values of the said dataframe:\")\n",
    "print(df.isna())"
   ]
  },
  {
   "cell_type": "markdown",
   "metadata": {},
   "source": [
    "# 10.Write a Pandas program to create and display a one-dimensional array-like object containing an array of data."
   ]
  },
  {
   "cell_type": "code",
   "execution_count": 12,
   "metadata": {},
   "outputs": [
    {
     "name": "stdout",
     "output_type": "stream",
     "text": [
      "Prime numbers:\n",
      "0     2\n",
      "1     3\n",
      "2     5\n",
      "3     7\n",
      "4    11\n",
      "5    13\n",
      "6    17\n",
      "7    19\n",
      "dtype: int64\n"
     ]
    }
   ],
   "source": [
    "import pandas as pd\n",
    "ds = pd.Series([2, 3, 5, 7, 11, 13, 17, 19])\n",
    "print(\"Prime numbers:\")\n",
    "print(ds)"
   ]
  },
  {
   "cell_type": "code",
   "execution_count": null,
   "metadata": {},
   "outputs": [],
   "source": []
  }
 ],
 "metadata": {
  "kernelspec": {
   "display_name": "Python 3",
   "language": "python",
   "name": "python3"
  },
  "language_info": {
   "codemirror_mode": {
    "name": "ipython",
    "version": 3
   },
   "file_extension": ".py",
   "mimetype": "text/x-python",
   "name": "python",
   "nbconvert_exporter": "python",
   "pygments_lexer": "ipython3",
   "version": "3.8.3"
  }
 },
 "nbformat": 4,
 "nbformat_minor": 4
}
