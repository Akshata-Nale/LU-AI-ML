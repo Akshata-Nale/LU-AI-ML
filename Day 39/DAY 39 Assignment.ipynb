{
 "cells": [
  {
   "cell_type": "markdown",
   "metadata": {
    "id": "HQak1KylA8QE"
   },
   "source": [
    "**Question 1:**\n",
    " Do the market basket analysis with Bread_Basket dataset."
   ]
  },
  {
   "cell_type": "code",
   "execution_count": 2,
   "metadata": {
    "executionInfo": {
     "elapsed": 1371,
     "status": "ok",
     "timestamp": 1604129692655,
     "user": {
      "displayName": "Imad Khanzada",
      "photoUrl": "https://lh3.googleusercontent.com/a-/AOh14GglUSPC1xTBFmnNxhIdCYGqq_23ydifOGEG9nMW=s64",
      "userId": "18384988035224797336"
     },
     "user_tz": -330
    },
    "id": "yp_z06LwB3S2"
   },
   "outputs": [],
   "source": [
    "##Importing all Libraries \n",
    "import pandas as pd\n",
    "import numpy as np\n",
    "import seaborn as sns\n",
    "import matplotlib.pyplot as plt\n",
    "%matplotlib inline\n",
    "import os\n",
    "\n",
    "##For Market Basket Analysis\n",
    "from mlxtend.frequent_patterns import apriori\n",
    "from mlxtend.frequent_patterns import association_rules\n"
   ]
  },
  {
   "cell_type": "code",
   "execution_count": 9,
   "metadata": {},
   "outputs": [],
   "source": [
    "os.chdir('J:/AIML/39. 29-10-20/')"
   ]
  },
  {
   "cell_type": "code",
   "execution_count": 10,
   "metadata": {
    "executionInfo": {
     "elapsed": 2703,
     "status": "ok",
     "timestamp": 1604129694007,
     "user": {
      "displayName": "Imad Khanzada",
      "photoUrl": "https://lh3.googleusercontent.com/a-/AOh14GglUSPC1xTBFmnNxhIdCYGqq_23ydifOGEG9nMW=s64",
      "userId": "18384988035224797336"
     },
     "user_tz": -330
    },
    "id": "rtyAThvhCory"
   },
   "outputs": [],
   "source": [
    "bb=pd.read_csv('BreadBasket_DMS - Arindam Dev.csv')"
   ]
  },
  {
   "cell_type": "code",
   "execution_count": 11,
   "metadata": {
    "colab": {
     "base_uri": "https://localhost:8080/",
     "height": 297
    },
    "executionInfo": {
     "elapsed": 2686,
     "status": "ok",
     "timestamp": 1604129694010,
     "user": {
      "displayName": "Imad Khanzada",
      "photoUrl": "https://lh3.googleusercontent.com/a-/AOh14GglUSPC1xTBFmnNxhIdCYGqq_23ydifOGEG9nMW=s64",
      "userId": "18384988035224797336"
     },
     "user_tz": -330
    },
    "id": "UkoCWDTNC1H2",
    "outputId": "2b70d8c6-0e68-42bd-9a8f-21ab057ff61a"
   },
   "outputs": [
    {
     "data": {
      "text/html": [
       "<div>\n",
       "<style scoped>\n",
       "    .dataframe tbody tr th:only-of-type {\n",
       "        vertical-align: middle;\n",
       "    }\n",
       "\n",
       "    .dataframe tbody tr th {\n",
       "        vertical-align: top;\n",
       "    }\n",
       "\n",
       "    .dataframe thead th {\n",
       "        text-align: right;\n",
       "    }\n",
       "</style>\n",
       "<table border=\"1\" class=\"dataframe\">\n",
       "  <thead>\n",
       "    <tr style=\"text-align: right;\">\n",
       "      <th></th>\n",
       "      <th>Date</th>\n",
       "      <th>Time</th>\n",
       "      <th>Transaction</th>\n",
       "      <th>Item</th>\n",
       "    </tr>\n",
       "  </thead>\n",
       "  <tbody>\n",
       "    <tr>\n",
       "      <th>0</th>\n",
       "      <td>2016-10-30</td>\n",
       "      <td>09:58:11</td>\n",
       "      <td>1</td>\n",
       "      <td>Bread</td>\n",
       "    </tr>\n",
       "    <tr>\n",
       "      <th>1</th>\n",
       "      <td>2016-10-30</td>\n",
       "      <td>10:05:34</td>\n",
       "      <td>2</td>\n",
       "      <td>Scandinavian</td>\n",
       "    </tr>\n",
       "    <tr>\n",
       "      <th>2</th>\n",
       "      <td>2016-10-30</td>\n",
       "      <td>10:05:34</td>\n",
       "      <td>2</td>\n",
       "      <td>Scandinavian</td>\n",
       "    </tr>\n",
       "    <tr>\n",
       "      <th>3</th>\n",
       "      <td>2016-10-30</td>\n",
       "      <td>10:07:57</td>\n",
       "      <td>3</td>\n",
       "      <td>Hot chocolate</td>\n",
       "    </tr>\n",
       "    <tr>\n",
       "      <th>4</th>\n",
       "      <td>2016-10-30</td>\n",
       "      <td>10:07:57</td>\n",
       "      <td>3</td>\n",
       "      <td>Jam</td>\n",
       "    </tr>\n",
       "    <tr>\n",
       "      <th>5</th>\n",
       "      <td>2016-10-30</td>\n",
       "      <td>10:07:57</td>\n",
       "      <td>3</td>\n",
       "      <td>Cookies</td>\n",
       "    </tr>\n",
       "    <tr>\n",
       "      <th>6</th>\n",
       "      <td>2016-10-30</td>\n",
       "      <td>10:08:41</td>\n",
       "      <td>4</td>\n",
       "      <td>Muffin</td>\n",
       "    </tr>\n",
       "    <tr>\n",
       "      <th>7</th>\n",
       "      <td>2016-10-30</td>\n",
       "      <td>10:13:03</td>\n",
       "      <td>5</td>\n",
       "      <td>Coffee</td>\n",
       "    </tr>\n",
       "  </tbody>\n",
       "</table>\n",
       "</div>"
      ],
      "text/plain": [
       "         Date      Time  Transaction           Item\n",
       "0  2016-10-30  09:58:11            1          Bread\n",
       "1  2016-10-30  10:05:34            2   Scandinavian\n",
       "2  2016-10-30  10:05:34            2   Scandinavian\n",
       "3  2016-10-30  10:07:57            3  Hot chocolate\n",
       "4  2016-10-30  10:07:57            3            Jam\n",
       "5  2016-10-30  10:07:57            3        Cookies\n",
       "6  2016-10-30  10:08:41            4         Muffin\n",
       "7  2016-10-30  10:13:03            5         Coffee"
      ]
     },
     "execution_count": 11,
     "metadata": {},
     "output_type": "execute_result"
    }
   ],
   "source": [
    "bb.head(8)"
   ]
  },
  {
   "cell_type": "code",
   "execution_count": 12,
   "metadata": {
    "colab": {
     "base_uri": "https://localhost:8080/"
    },
    "executionInfo": {
     "elapsed": 2666,
     "status": "ok",
     "timestamp": 1604129694012,
     "user": {
      "displayName": "Imad Khanzada",
      "photoUrl": "https://lh3.googleusercontent.com/a-/AOh14GglUSPC1xTBFmnNxhIdCYGqq_23ydifOGEG9nMW=s64",
      "userId": "18384988035224797336"
     },
     "user_tz": -330
    },
    "id": "Ks6TBLyBC4ZK",
    "outputId": "089aed21-9ea2-4fc6-af18-b6da0751aff0"
   },
   "outputs": [
    {
     "data": {
      "text/plain": [
       "(21293, 4)"
      ]
     },
     "execution_count": 12,
     "metadata": {},
     "output_type": "execute_result"
    }
   ],
   "source": [
    "##First observation Shape and info\n",
    "bb.shape"
   ]
  },
  {
   "cell_type": "code",
   "execution_count": 14,
   "metadata": {
    "colab": {
     "base_uri": "https://localhost:8080/"
    },
    "executionInfo": {
     "elapsed": 2648,
     "status": "ok",
     "timestamp": 1604129694014,
     "user": {
      "displayName": "Imad Khanzada",
      "photoUrl": "https://lh3.googleusercontent.com/a-/AOh14GglUSPC1xTBFmnNxhIdCYGqq_23ydifOGEG9nMW=s64",
      "userId": "18384988035224797336"
     },
     "user_tz": -330
    },
    "id": "Bbq6ViMMDR02",
    "outputId": "556ffce2-0821-4545-bfe9-b2caf43bcc78"
   },
   "outputs": [
    {
     "name": "stdout",
     "output_type": "stream",
     "text": [
      "<class 'pandas.core.frame.DataFrame'>\n",
      "RangeIndex: 21293 entries, 0 to 21292\n",
      "Data columns (total 4 columns):\n",
      " #   Column       Non-Null Count  Dtype \n",
      "---  ------       --------------  ----- \n",
      " 0   Date         21293 non-null  object\n",
      " 1   Time         21293 non-null  object\n",
      " 2   Transaction  21293 non-null  int64 \n",
      " 3   Item         21293 non-null  object\n",
      "dtypes: int64(1), object(3)\n",
      "memory usage: 665.5+ KB\n"
     ]
    }
   ],
   "source": [
    "bb.info()"
   ]
  },
  {
   "cell_type": "code",
   "execution_count": 15,
   "metadata": {
    "colab": {
     "base_uri": "https://localhost:8080/",
     "height": 80
    },
    "executionInfo": {
     "elapsed": 2627,
     "status": "ok",
     "timestamp": 1604129694016,
     "user": {
      "displayName": "Imad Khanzada",
      "photoUrl": "https://lh3.googleusercontent.com/a-/AOh14GglUSPC1xTBFmnNxhIdCYGqq_23ydifOGEG9nMW=s64",
      "userId": "18384988035224797336"
     },
     "user_tz": -330
    },
    "id": "uT0fWKgrHxQs",
    "outputId": "f5c7b170-19d0-41c1-efd0-f6db29d093a3"
   },
   "outputs": [
    {
     "data": {
      "text/html": [
       "<div>\n",
       "<style scoped>\n",
       "    .dataframe tbody tr th:only-of-type {\n",
       "        vertical-align: middle;\n",
       "    }\n",
       "\n",
       "    .dataframe tbody tr th {\n",
       "        vertical-align: top;\n",
       "    }\n",
       "\n",
       "    .dataframe thead th {\n",
       "        text-align: right;\n",
       "    }\n",
       "</style>\n",
       "<table border=\"1\" class=\"dataframe\">\n",
       "  <thead>\n",
       "    <tr style=\"text-align: right;\">\n",
       "      <th></th>\n",
       "      <th>count</th>\n",
       "      <th>mean</th>\n",
       "      <th>std</th>\n",
       "      <th>min</th>\n",
       "      <th>25%</th>\n",
       "      <th>50%</th>\n",
       "      <th>75%</th>\n",
       "      <th>max</th>\n",
       "    </tr>\n",
       "  </thead>\n",
       "  <tbody>\n",
       "    <tr>\n",
       "      <th>Transaction</th>\n",
       "      <td>21293.0</td>\n",
       "      <td>4951.990889</td>\n",
       "      <td>2787.7584</td>\n",
       "      <td>1.0</td>\n",
       "      <td>2548.0</td>\n",
       "      <td>5067.0</td>\n",
       "      <td>7329.0</td>\n",
       "      <td>9684.0</td>\n",
       "    </tr>\n",
       "  </tbody>\n",
       "</table>\n",
       "</div>"
      ],
      "text/plain": [
       "               count         mean        std  min     25%     50%     75%  \\\n",
       "Transaction  21293.0  4951.990889  2787.7584  1.0  2548.0  5067.0  7329.0   \n",
       "\n",
       "                max  \n",
       "Transaction  9684.0  "
      ]
     },
     "execution_count": 15,
     "metadata": {},
     "output_type": "execute_result"
    }
   ],
   "source": [
    "bb.describe().T"
   ]
  },
  {
   "cell_type": "code",
   "execution_count": 16,
   "metadata": {
    "colab": {
     "base_uri": "https://localhost:8080/"
    },
    "executionInfo": {
     "elapsed": 2608,
     "status": "ok",
     "timestamp": 1604129694018,
     "user": {
      "displayName": "Imad Khanzada",
      "photoUrl": "https://lh3.googleusercontent.com/a-/AOh14GglUSPC1xTBFmnNxhIdCYGqq_23ydifOGEG9nMW=s64",
      "userId": "18384988035224797336"
     },
     "user_tz": -330
    },
    "id": "qb5GHx0eDUPp",
    "outputId": "1f63cd60-2053-4470-87a2-38f60f48a245"
   },
   "outputs": [
    {
     "data": {
      "text/plain": [
       "Date           0\n",
       "Time           0\n",
       "Transaction    0\n",
       "Item           0\n",
       "dtype: int64"
      ]
     },
     "execution_count": 16,
     "metadata": {},
     "output_type": "execute_result"
    }
   ],
   "source": [
    "#Checking the missing values in dataset \n",
    "bb.isnull().sum()"
   ]
  },
  {
   "cell_type": "code",
   "execution_count": 17,
   "metadata": {
    "colab": {
     "base_uri": "https://localhost:8080/"
    },
    "executionInfo": {
     "elapsed": 2590,
     "status": "ok",
     "timestamp": 1604129694020,
     "user": {
      "displayName": "Imad Khanzada",
      "photoUrl": "https://lh3.googleusercontent.com/a-/AOh14GglUSPC1xTBFmnNxhIdCYGqq_23ydifOGEG9nMW=s64",
      "userId": "18384988035224797336"
     },
     "user_tz": -330
    },
    "id": "JYTCkpfNDmGk",
    "outputId": "b40698ff-d1ca-4dd4-acef-5e5ee0d795ab"
   },
   "outputs": [
    {
     "data": {
      "text/plain": [
       "Date            159\n",
       "Time           8240\n",
       "Transaction    9531\n",
       "Item             95\n",
       "dtype: int64"
      ]
     },
     "execution_count": 17,
     "metadata": {},
     "output_type": "execute_result"
    }
   ],
   "source": [
    "bb.nunique()"
   ]
  },
  {
   "cell_type": "markdown",
   "metadata": {
    "id": "ZdCIBlW4PQW0"
   },
   "source": [
    "**Data Pre-processing**"
   ]
  },
  {
   "cell_type": "code",
   "execution_count": 19,
   "metadata": {
    "colab": {
     "base_uri": "https://localhost:8080/",
     "height": 49
    },
    "executionInfo": {
     "elapsed": 2568,
     "status": "ok",
     "timestamp": 1604129694022,
     "user": {
      "displayName": "Imad Khanzada",
      "photoUrl": "https://lh3.googleusercontent.com/a-/AOh14GglUSPC1xTBFmnNxhIdCYGqq_23ydifOGEG9nMW=s64",
      "userId": "18384988035224797336"
     },
     "user_tz": -330
    },
    "id": "jPD9oN-OL5Jd",
    "outputId": "079f0348-7d6e-467a-8f57-29c4c1910a82"
   },
   "outputs": [
    {
     "data": {
      "text/html": [
       "<div>\n",
       "<style scoped>\n",
       "    .dataframe tbody tr th:only-of-type {\n",
       "        vertical-align: middle;\n",
       "    }\n",
       "\n",
       "    .dataframe tbody tr th {\n",
       "        vertical-align: top;\n",
       "    }\n",
       "\n",
       "    .dataframe thead th {\n",
       "        text-align: right;\n",
       "    }\n",
       "</style>\n",
       "<table border=\"1\" class=\"dataframe\">\n",
       "  <thead>\n",
       "    <tr style=\"text-align: right;\">\n",
       "      <th></th>\n",
       "      <th>Date</th>\n",
       "      <th>Time</th>\n",
       "      <th>Transaction</th>\n",
       "      <th>Item</th>\n",
       "    </tr>\n",
       "  </thead>\n",
       "  <tbody>\n",
       "  </tbody>\n",
       "</table>\n",
       "</div>"
      ],
      "text/plain": [
       "Empty DataFrame\n",
       "Columns: [Date, Time, Transaction, Item]\n",
       "Index: []"
      ]
     },
     "execution_count": 19,
     "metadata": {},
     "output_type": "execute_result"
    }
   ],
   "source": [
    "#checking is there  any 0 or negative transaction in the dataset\n",
    "bb[bb['Transaction']<=0].head()"
   ]
  },
  {
   "cell_type": "markdown",
   "metadata": {
    "id": "KsWKAllpH24F"
   },
   "source": [
    "### Description of Item"
   ]
  },
  {
   "cell_type": "code",
   "execution_count": 20,
   "metadata": {
    "colab": {
     "base_uri": "https://localhost:8080/"
    },
    "executionInfo": {
     "elapsed": 2546,
     "status": "ok",
     "timestamp": 1604129694024,
     "user": {
      "displayName": "Imad Khanzada",
      "photoUrl": "https://lh3.googleusercontent.com/a-/AOh14GglUSPC1xTBFmnNxhIdCYGqq_23ydifOGEG9nMW=s64",
      "userId": "18384988035224797336"
     },
     "user_tz": -330
    },
    "id": "ZFt8kiQ4I1WR",
    "outputId": "adaecf66-0256-4903-c2e4-d0a9f7b4c2ee"
   },
   "outputs": [
    {
     "data": {
      "text/plain": [
       "array(['Bread', 'Scandinavian', 'Hot chocolate', 'Jam', 'Cookies',\n",
       "       'Muffin', 'Coffee', 'Pastry', 'Medialuna', 'Tea', 'NONE',\n",
       "       'Tartine', 'Basket', 'Mineral water', 'Farm House', 'Fudge',\n",
       "       'Juice', \"Ella's Kitchen Pouches\", 'Victorian Sponge', 'Frittata',\n",
       "       'Hearty & Seasonal', 'Soup', 'Pick and Mix Bowls', 'Smoothies',\n",
       "       'Cake', 'Mighty Protein', 'Chicken sand', 'Coke',\n",
       "       'My-5 Fruit Shoot', 'Focaccia', 'Sandwich', 'Alfajores', 'Eggs',\n",
       "       'Brownie', 'Dulce de Leche', 'Honey', 'The BART', 'Granola',\n",
       "       'Fairy Doors', 'Empanadas', 'Keeping It Local', 'Art Tray',\n",
       "       'Bowl Nic Pitt', 'Bread Pudding', 'Adjustment', 'Truffles',\n",
       "       'Chimichurri Oil', 'Bacon', 'Spread', 'Kids biscuit', 'Siblings',\n",
       "       'Caramel bites', 'Jammie Dodgers', 'Tiffin', 'Olum & polenta',\n",
       "       'Polenta', 'The Nomad', 'Hack the stack', 'Bakewell',\n",
       "       'Lemon and coconut', 'Toast', 'Scone', 'Crepes', 'Vegan mincepie',\n",
       "       'Bare Popcorn', 'Muesli', 'Crisps', 'Pintxos', 'Gingerbread syrup',\n",
       "       'Panatone', 'Brioche and salami', 'Afternoon with the baker',\n",
       "       'Salad', 'Chicken Stew', 'Spanish Brunch',\n",
       "       'Raspberry shortbread sandwich', 'Extra Salami or Feta',\n",
       "       'Duck egg', 'Baguette', \"Valentine's card\", 'Tshirt',\n",
       "       'Vegan Feast', 'Postcard', 'Nomad bag', 'Chocolates',\n",
       "       'Coffee granules ', 'Drinking chocolate spoons ',\n",
       "       'Christmas common', 'Argentina Night', 'Half slice Monster ',\n",
       "       'Gift voucher', 'Cherry me Dried fruit', 'Mortimer', 'Raw bars',\n",
       "       'Tacos/Fajita'], dtype=object)"
      ]
     },
     "execution_count": 20,
     "metadata": {},
     "output_type": "execute_result"
    }
   ],
   "source": [
    "bb['Item'].unique()"
   ]
  },
  {
   "cell_type": "code",
   "execution_count": 21,
   "metadata": {
    "colab": {
     "base_uri": "https://localhost:8080/"
    },
    "executionInfo": {
     "elapsed": 2528,
     "status": "ok",
     "timestamp": 1604129694026,
     "user": {
      "displayName": "Imad Khanzada",
      "photoUrl": "https://lh3.googleusercontent.com/a-/AOh14GglUSPC1xTBFmnNxhIdCYGqq_23ydifOGEG9nMW=s64",
      "userId": "18384988035224797336"
     },
     "user_tz": -330
    },
    "id": "slVWShBAJDVt",
    "outputId": "acc7a0a5-1628-47a8-9c48-188f9cd18f57"
   },
   "outputs": [
    {
     "data": {
      "text/plain": [
       "95"
      ]
     },
     "execution_count": 21,
     "metadata": {},
     "output_type": "execute_result"
    }
   ],
   "source": [
    "bb['Item'].nunique()"
   ]
  },
  {
   "cell_type": "markdown",
   "metadata": {
    "id": "IolFDcrzN71U"
   },
   "source": [
    "**NONE VALUES**"
   ]
  },
  {
   "cell_type": "code",
   "execution_count": 22,
   "metadata": {
    "colab": {
     "base_uri": "https://localhost:8080/",
     "height": 419
    },
    "executionInfo": {
     "elapsed": 2503,
     "status": "ok",
     "timestamp": 1604129694027,
     "user": {
      "displayName": "Imad Khanzada",
      "photoUrl": "https://lh3.googleusercontent.com/a-/AOh14GglUSPC1xTBFmnNxhIdCYGqq_23ydifOGEG9nMW=s64",
      "userId": "18384988035224797336"
     },
     "user_tz": -330
    },
    "id": "8VCLMAi9MYMA",
    "outputId": "22004872-0405-418f-d02e-68f0b935794c"
   },
   "outputs": [
    {
     "data": {
      "text/html": [
       "<div>\n",
       "<style scoped>\n",
       "    .dataframe tbody tr th:only-of-type {\n",
       "        vertical-align: middle;\n",
       "    }\n",
       "\n",
       "    .dataframe tbody tr th {\n",
       "        vertical-align: top;\n",
       "    }\n",
       "\n",
       "    .dataframe thead th {\n",
       "        text-align: right;\n",
       "    }\n",
       "</style>\n",
       "<table border=\"1\" class=\"dataframe\">\n",
       "  <thead>\n",
       "    <tr style=\"text-align: right;\">\n",
       "      <th></th>\n",
       "      <th>Date</th>\n",
       "      <th>Time</th>\n",
       "      <th>Transaction</th>\n",
       "      <th>Item</th>\n",
       "    </tr>\n",
       "  </thead>\n",
       "  <tbody>\n",
       "    <tr>\n",
       "      <th>26</th>\n",
       "      <td>2016-10-30</td>\n",
       "      <td>10:27:21</td>\n",
       "      <td>11</td>\n",
       "      <td>NONE</td>\n",
       "    </tr>\n",
       "    <tr>\n",
       "      <th>38</th>\n",
       "      <td>2016-10-30</td>\n",
       "      <td>10:34:36</td>\n",
       "      <td>15</td>\n",
       "      <td>NONE</td>\n",
       "    </tr>\n",
       "    <tr>\n",
       "      <th>39</th>\n",
       "      <td>2016-10-30</td>\n",
       "      <td>10:34:36</td>\n",
       "      <td>15</td>\n",
       "      <td>NONE</td>\n",
       "    </tr>\n",
       "    <tr>\n",
       "      <th>66</th>\n",
       "      <td>2016-10-30</td>\n",
       "      <td>11:05:30</td>\n",
       "      <td>29</td>\n",
       "      <td>NONE</td>\n",
       "    </tr>\n",
       "    <tr>\n",
       "      <th>80</th>\n",
       "      <td>2016-10-30</td>\n",
       "      <td>11:37:10</td>\n",
       "      <td>37</td>\n",
       "      <td>NONE</td>\n",
       "    </tr>\n",
       "    <tr>\n",
       "      <th>...</th>\n",
       "      <td>...</td>\n",
       "      <td>...</td>\n",
       "      <td>...</td>\n",
       "      <td>...</td>\n",
       "    </tr>\n",
       "    <tr>\n",
       "      <th>21108</th>\n",
       "      <td>2017-04-08</td>\n",
       "      <td>11:54:22</td>\n",
       "      <td>9590</td>\n",
       "      <td>NONE</td>\n",
       "    </tr>\n",
       "    <tr>\n",
       "      <th>21122</th>\n",
       "      <td>2017-04-08</td>\n",
       "      <td>12:58:25</td>\n",
       "      <td>9599</td>\n",
       "      <td>NONE</td>\n",
       "    </tr>\n",
       "    <tr>\n",
       "      <th>21254</th>\n",
       "      <td>2017-04-09</td>\n",
       "      <td>12:01:07</td>\n",
       "      <td>9666</td>\n",
       "      <td>NONE</td>\n",
       "    </tr>\n",
       "    <tr>\n",
       "      <th>21255</th>\n",
       "      <td>2017-04-09</td>\n",
       "      <td>12:04:13</td>\n",
       "      <td>9667</td>\n",
       "      <td>NONE</td>\n",
       "    </tr>\n",
       "    <tr>\n",
       "      <th>21266</th>\n",
       "      <td>2017-04-09</td>\n",
       "      <td>12:31:28</td>\n",
       "      <td>9672</td>\n",
       "      <td>NONE</td>\n",
       "    </tr>\n",
       "  </tbody>\n",
       "</table>\n",
       "<p>786 rows × 4 columns</p>\n",
       "</div>"
      ],
      "text/plain": [
       "             Date      Time  Transaction  Item\n",
       "26     2016-10-30  10:27:21           11  NONE\n",
       "38     2016-10-30  10:34:36           15  NONE\n",
       "39     2016-10-30  10:34:36           15  NONE\n",
       "66     2016-10-30  11:05:30           29  NONE\n",
       "80     2016-10-30  11:37:10           37  NONE\n",
       "...           ...       ...          ...   ...\n",
       "21108  2017-04-08  11:54:22         9590  NONE\n",
       "21122  2017-04-08  12:58:25         9599  NONE\n",
       "21254  2017-04-09  12:01:07         9666  NONE\n",
       "21255  2017-04-09  12:04:13         9667  NONE\n",
       "21266  2017-04-09  12:31:28         9672  NONE\n",
       "\n",
       "[786 rows x 4 columns]"
      ]
     },
     "execution_count": 22,
     "metadata": {},
     "output_type": "execute_result"
    }
   ],
   "source": [
    "##Checking  the NONE item in dataset\n",
    "bb[bb['Item']=='NONE']"
   ]
  },
  {
   "cell_type": "code",
   "execution_count": 23,
   "metadata": {
    "colab": {
     "base_uri": "https://localhost:8080/"
    },
    "executionInfo": {
     "elapsed": 2484,
     "status": "ok",
     "timestamp": 1604129694029,
     "user": {
      "displayName": "Imad Khanzada",
      "photoUrl": "https://lh3.googleusercontent.com/a-/AOh14GglUSPC1xTBFmnNxhIdCYGqq_23ydifOGEG9nMW=s64",
      "userId": "18384988035224797336"
     },
     "user_tz": -330
    },
    "id": "vEES_jaUMyqU",
    "outputId": "25d6761a-ec21-49d5-cf9c-30341eeb0b3a"
   },
   "outputs": [
    {
     "data": {
      "text/plain": [
       "Date           786\n",
       "Time           786\n",
       "Transaction    786\n",
       "Item           786\n",
       "dtype: int64"
      ]
     },
     "execution_count": 23,
     "metadata": {},
     "output_type": "execute_result"
    }
   ],
   "source": [
    "#Counting the NONE Values \n",
    "bb[bb['Item']=='NONE'].count()"
   ]
  },
  {
   "cell_type": "code",
   "execution_count": 24,
   "metadata": {
    "executionInfo": {
     "elapsed": 2467,
     "status": "ok",
     "timestamp": 1604129694030,
     "user": {
      "displayName": "Imad Khanzada",
      "photoUrl": "https://lh3.googleusercontent.com/a-/AOh14GglUSPC1xTBFmnNxhIdCYGqq_23ydifOGEG9nMW=s64",
      "userId": "18384988035224797336"
     },
     "user_tz": -330
    },
    "id": "l2ii2JGzNJXm"
   },
   "outputs": [],
   "source": [
    "##Droping the NONE Values in dataset\n",
    "bb.drop(bb[bb['Item']=='NONE'].index,inplace=True)"
   ]
  },
  {
   "cell_type": "code",
   "execution_count": 25,
   "metadata": {
    "colab": {
     "base_uri": "https://localhost:8080/"
    },
    "executionInfo": {
     "elapsed": 2452,
     "status": "ok",
     "timestamp": 1604129694032,
     "user": {
      "displayName": "Imad Khanzada",
      "photoUrl": "https://lh3.googleusercontent.com/a-/AOh14GglUSPC1xTBFmnNxhIdCYGqq_23ydifOGEG9nMW=s64",
      "userId": "18384988035224797336"
     },
     "user_tz": -330
    },
    "id": "woo0u5vyNmLk",
    "outputId": "e20325a7-0a52-4608-cf0f-53773c0e81d1"
   },
   "outputs": [
    {
     "data": {
      "text/plain": [
       "(20507, 4)"
      ]
     },
     "execution_count": 25,
     "metadata": {},
     "output_type": "execute_result"
    }
   ],
   "source": [
    "bb.shape"
   ]
  },
  {
   "cell_type": "code",
   "execution_count": 26,
   "metadata": {
    "colab": {
     "base_uri": "https://localhost:8080/"
    },
    "executionInfo": {
     "elapsed": 2439,
     "status": "ok",
     "timestamp": 1604129694040,
     "user": {
      "displayName": "Imad Khanzada",
      "photoUrl": "https://lh3.googleusercontent.com/a-/AOh14GglUSPC1xTBFmnNxhIdCYGqq_23ydifOGEG9nMW=s64",
      "userId": "18384988035224797336"
     },
     "user_tz": -330
    },
    "id": "C0lKAq4mNwH3",
    "outputId": "9970bb34-45be-434b-e277-b5d71a1bf64e"
   },
   "outputs": [
    {
     "data": {
      "text/plain": [
       "Date           0\n",
       "Time           0\n",
       "Transaction    0\n",
       "Item           0\n",
       "dtype: int64"
      ]
     },
     "execution_count": 26,
     "metadata": {},
     "output_type": "execute_result"
    }
   ],
   "source": [
    "#Counting the NONE Values \n",
    "bb[bb['Item']=='NONE'].count()"
   ]
  },
  {
   "cell_type": "markdown",
   "metadata": {
    "id": "YcG1z30IP_2K"
   },
   "source": [
    "**Feature Engineering**"
   ]
  },
  {
   "cell_type": "code",
   "execution_count": 27,
   "metadata": {
    "executionInfo": {
     "elapsed": 2425,
     "status": "ok",
     "timestamp": 1604129694043,
     "user": {
      "displayName": "Imad Khanzada",
      "photoUrl": "https://lh3.googleusercontent.com/a-/AOh14GglUSPC1xTBFmnNxhIdCYGqq_23ydifOGEG9nMW=s64",
      "userId": "18384988035224797336"
     },
     "user_tz": -330
    },
    "id": "Pkg8a2SfD2Fk"
   },
   "outputs": [],
   "source": [
    "##Adding month ,year , hour f each transaction\n",
    "bb['Date'] = pd.to_datetime(bb['Date'], errors='coerce')\n",
    "bb['Year'] = bb['Date'].dt.year\n",
    "bb['Month'] = bb['Date'].dt.month\n",
    "bb['Hour'] = bb['Date'].dt.hour"
   ]
  },
  {
   "cell_type": "code",
   "execution_count": 28,
   "metadata": {
    "colab": {
     "base_uri": "https://localhost:8080/",
     "height": 204
    },
    "executionInfo": {
     "elapsed": 3135,
     "status": "ok",
     "timestamp": 1604129694774,
     "user": {
      "displayName": "Imad Khanzada",
      "photoUrl": "https://lh3.googleusercontent.com/a-/AOh14GglUSPC1xTBFmnNxhIdCYGqq_23ydifOGEG9nMW=s64",
      "userId": "18384988035224797336"
     },
     "user_tz": -330
    },
    "id": "yZVHLhtMQpAK",
    "outputId": "74d261d3-f9ab-4255-a86c-55fcf8e999d2"
   },
   "outputs": [
    {
     "data": {
      "text/html": [
       "<div>\n",
       "<style scoped>\n",
       "    .dataframe tbody tr th:only-of-type {\n",
       "        vertical-align: middle;\n",
       "    }\n",
       "\n",
       "    .dataframe tbody tr th {\n",
       "        vertical-align: top;\n",
       "    }\n",
       "\n",
       "    .dataframe thead th {\n",
       "        text-align: right;\n",
       "    }\n",
       "</style>\n",
       "<table border=\"1\" class=\"dataframe\">\n",
       "  <thead>\n",
       "    <tr style=\"text-align: right;\">\n",
       "      <th></th>\n",
       "      <th>Date</th>\n",
       "      <th>Time</th>\n",
       "      <th>Transaction</th>\n",
       "      <th>Item</th>\n",
       "      <th>Year</th>\n",
       "      <th>Month</th>\n",
       "      <th>Hour</th>\n",
       "    </tr>\n",
       "  </thead>\n",
       "  <tbody>\n",
       "    <tr>\n",
       "      <th>0</th>\n",
       "      <td>2016-10-30</td>\n",
       "      <td>2021-01-25 09:58:11</td>\n",
       "      <td>1</td>\n",
       "      <td>Bread</td>\n",
       "      <td>2016</td>\n",
       "      <td>10</td>\n",
       "      <td>9</td>\n",
       "    </tr>\n",
       "    <tr>\n",
       "      <th>1</th>\n",
       "      <td>2016-10-30</td>\n",
       "      <td>2021-01-25 10:05:34</td>\n",
       "      <td>2</td>\n",
       "      <td>Scandinavian</td>\n",
       "      <td>2016</td>\n",
       "      <td>10</td>\n",
       "      <td>10</td>\n",
       "    </tr>\n",
       "    <tr>\n",
       "      <th>2</th>\n",
       "      <td>2016-10-30</td>\n",
       "      <td>2021-01-25 10:05:34</td>\n",
       "      <td>2</td>\n",
       "      <td>Scandinavian</td>\n",
       "      <td>2016</td>\n",
       "      <td>10</td>\n",
       "      <td>10</td>\n",
       "    </tr>\n",
       "    <tr>\n",
       "      <th>3</th>\n",
       "      <td>2016-10-30</td>\n",
       "      <td>2021-01-25 10:07:57</td>\n",
       "      <td>3</td>\n",
       "      <td>Hot chocolate</td>\n",
       "      <td>2016</td>\n",
       "      <td>10</td>\n",
       "      <td>10</td>\n",
       "    </tr>\n",
       "    <tr>\n",
       "      <th>4</th>\n",
       "      <td>2016-10-30</td>\n",
       "      <td>2021-01-25 10:07:57</td>\n",
       "      <td>3</td>\n",
       "      <td>Jam</td>\n",
       "      <td>2016</td>\n",
       "      <td>10</td>\n",
       "      <td>10</td>\n",
       "    </tr>\n",
       "  </tbody>\n",
       "</table>\n",
       "</div>"
      ],
      "text/plain": [
       "        Date                Time  Transaction           Item  Year  Month  \\\n",
       "0 2016-10-30 2021-01-25 09:58:11            1          Bread  2016     10   \n",
       "1 2016-10-30 2021-01-25 10:05:34            2   Scandinavian  2016     10   \n",
       "2 2016-10-30 2021-01-25 10:05:34            2   Scandinavian  2016     10   \n",
       "3 2016-10-30 2021-01-25 10:07:57            3  Hot chocolate  2016     10   \n",
       "4 2016-10-30 2021-01-25 10:07:57            3            Jam  2016     10   \n",
       "\n",
       "   Hour  \n",
       "0     9  \n",
       "1    10  \n",
       "2    10  \n",
       "3    10  \n",
       "4    10  "
      ]
     },
     "execution_count": 28,
     "metadata": {},
     "output_type": "execute_result"
    }
   ],
   "source": [
    "bb['Time']=pd.to_datetime(bb['Time'])\n",
    "bb['Hour']=bb['Time'].dt.hour\n",
    "bb.head()"
   ]
  },
  {
   "cell_type": "code",
   "execution_count": 29,
   "metadata": {
    "colab": {
     "base_uri": "https://localhost:8080/",
     "height": 204
    },
    "executionInfo": {
     "elapsed": 3111,
     "status": "ok",
     "timestamp": 1604129694776,
     "user": {
      "displayName": "Imad Khanzada",
      "photoUrl": "https://lh3.googleusercontent.com/a-/AOh14GglUSPC1xTBFmnNxhIdCYGqq_23ydifOGEG9nMW=s64",
      "userId": "18384988035224797336"
     },
     "user_tz": -330
    },
    "id": "MRpGnv4ROjx_",
    "outputId": "f72bfccf-411f-4c7c-9a34-cc0dce622f3c"
   },
   "outputs": [
    {
     "data": {
      "text/html": [
       "<div>\n",
       "<style scoped>\n",
       "    .dataframe tbody tr th:only-of-type {\n",
       "        vertical-align: middle;\n",
       "    }\n",
       "\n",
       "    .dataframe tbody tr th {\n",
       "        vertical-align: top;\n",
       "    }\n",
       "\n",
       "    .dataframe thead th {\n",
       "        text-align: right;\n",
       "    }\n",
       "</style>\n",
       "<table border=\"1\" class=\"dataframe\">\n",
       "  <thead>\n",
       "    <tr style=\"text-align: right;\">\n",
       "      <th></th>\n",
       "      <th>Date</th>\n",
       "      <th>Time</th>\n",
       "      <th>Transaction</th>\n",
       "      <th>Item</th>\n",
       "      <th>Year</th>\n",
       "      <th>Month</th>\n",
       "      <th>Hour</th>\n",
       "      <th>Month_year</th>\n",
       "    </tr>\n",
       "  </thead>\n",
       "  <tbody>\n",
       "    <tr>\n",
       "      <th>0</th>\n",
       "      <td>2016-10-30</td>\n",
       "      <td>2021-01-25 09:58:11</td>\n",
       "      <td>1</td>\n",
       "      <td>Bread</td>\n",
       "      <td>2016</td>\n",
       "      <td>10</td>\n",
       "      <td>9</td>\n",
       "      <td>2016-10</td>\n",
       "    </tr>\n",
       "    <tr>\n",
       "      <th>1</th>\n",
       "      <td>2016-10-30</td>\n",
       "      <td>2021-01-25 10:05:34</td>\n",
       "      <td>2</td>\n",
       "      <td>Scandinavian</td>\n",
       "      <td>2016</td>\n",
       "      <td>10</td>\n",
       "      <td>10</td>\n",
       "      <td>2016-10</td>\n",
       "    </tr>\n",
       "    <tr>\n",
       "      <th>2</th>\n",
       "      <td>2016-10-30</td>\n",
       "      <td>2021-01-25 10:05:34</td>\n",
       "      <td>2</td>\n",
       "      <td>Scandinavian</td>\n",
       "      <td>2016</td>\n",
       "      <td>10</td>\n",
       "      <td>10</td>\n",
       "      <td>2016-10</td>\n",
       "    </tr>\n",
       "    <tr>\n",
       "      <th>3</th>\n",
       "      <td>2016-10-30</td>\n",
       "      <td>2021-01-25 10:07:57</td>\n",
       "      <td>3</td>\n",
       "      <td>Hot chocolate</td>\n",
       "      <td>2016</td>\n",
       "      <td>10</td>\n",
       "      <td>10</td>\n",
       "      <td>2016-10</td>\n",
       "    </tr>\n",
       "    <tr>\n",
       "      <th>4</th>\n",
       "      <td>2016-10-30</td>\n",
       "      <td>2021-01-25 10:07:57</td>\n",
       "      <td>3</td>\n",
       "      <td>Jam</td>\n",
       "      <td>2016</td>\n",
       "      <td>10</td>\n",
       "      <td>10</td>\n",
       "      <td>2016-10</td>\n",
       "    </tr>\n",
       "  </tbody>\n",
       "</table>\n",
       "</div>"
      ],
      "text/plain": [
       "        Date                Time  Transaction           Item  Year  Month  \\\n",
       "0 2016-10-30 2021-01-25 09:58:11            1          Bread  2016     10   \n",
       "1 2016-10-30 2021-01-25 10:05:34            2   Scandinavian  2016     10   \n",
       "2 2016-10-30 2021-01-25 10:05:34            2   Scandinavian  2016     10   \n",
       "3 2016-10-30 2021-01-25 10:07:57            3  Hot chocolate  2016     10   \n",
       "4 2016-10-30 2021-01-25 10:07:57            3            Jam  2016     10   \n",
       "\n",
       "   Hour Month_year  \n",
       "0     9    2016-10  \n",
       "1    10    2016-10  \n",
       "2    10    2016-10  \n",
       "3    10    2016-10  \n",
       "4    10    2016-10  "
      ]
     },
     "execution_count": 29,
     "metadata": {},
     "output_type": "execute_result"
    }
   ],
   "source": [
    "##by Month-Year\n",
    "bb['Month_year'] = pd.to_datetime(bb['Date']).dt.to_period('M')\n",
    "bb.head()"
   ]
  },
  {
   "cell_type": "code",
   "execution_count": 30,
   "metadata": {
    "colab": {
     "base_uri": "https://localhost:8080/"
    },
    "executionInfo": {
     "elapsed": 3092,
     "status": "ok",
     "timestamp": 1604129694778,
     "user": {
      "displayName": "Imad Khanzada",
      "photoUrl": "https://lh3.googleusercontent.com/a-/AOh14GglUSPC1xTBFmnNxhIdCYGqq_23ydifOGEG9nMW=s64",
      "userId": "18384988035224797336"
     },
     "user_tz": -330
    },
    "id": "fnUpHMY2JZrh",
    "outputId": "05688d8c-6a79-4750-f3c8-df96f8d1a670"
   },
   "outputs": [
    {
     "data": {
      "text/plain": [
       "Coffee           5471\n",
       "Bread            3325\n",
       "Tea              1435\n",
       "Cake             1025\n",
       "Pastry            856\n",
       "Sandwich          771\n",
       "Medialuna         616\n",
       "Hot chocolate     590\n",
       "Cookies           540\n",
       "Brownie           379\n",
       "Farm House        374\n",
       "Muffin            370\n",
       "Alfajores         369\n",
       "Juice             369\n",
       "Soup              342\n",
       "Scone             327\n",
       "Toast             318\n",
       "Scandinavian      277\n",
       "Truffles          193\n",
       "Coke              185\n",
       "Name: Item, dtype: int64"
      ]
     },
     "execution_count": 30,
     "metadata": {},
     "output_type": "execute_result"
    }
   ],
   "source": [
    "#highest solds items in dataset\n",
    "bb['Item'].value_counts().head(20)"
   ]
  },
  {
   "cell_type": "code",
   "execution_count": 31,
   "metadata": {
    "colab": {
     "base_uri": "https://localhost:8080/"
    },
    "executionInfo": {
     "elapsed": 3074,
     "status": "ok",
     "timestamp": 1604129694780,
     "user": {
      "displayName": "Imad Khanzada",
      "photoUrl": "https://lh3.googleusercontent.com/a-/AOh14GglUSPC1xTBFmnNxhIdCYGqq_23ydifOGEG9nMW=s64",
      "userId": "18384988035224797336"
     },
     "user_tz": -330
    },
    "id": "nyezXrIASC2k",
    "outputId": "b2205cd0-f834-41f8-c46c-f0f05513dbdf"
   },
   "outputs": [
    {
     "data": {
      "text/plain": [
       "Coffee           5471\n",
       "Bread            3325\n",
       "Tea              1435\n",
       "Cake             1025\n",
       "Pastry            856\n",
       "Sandwich          771\n",
       "Medialuna         616\n",
       "Hot chocolate     590\n",
       "Cookies           540\n",
       "Brownie           379\n",
       "Farm House        374\n",
       "Muffin            370\n",
       "Alfajores         369\n",
       "Juice             369\n",
       "Soup              342\n",
       "Scone             327\n",
       "Toast             318\n",
       "Scandinavian      277\n",
       "Truffles          193\n",
       "Coke              185\n",
       "Name: Item, dtype: int64"
      ]
     },
     "execution_count": 31,
     "metadata": {},
     "output_type": "execute_result"
    }
   ],
   "source": [
    "# highest sold item of dataset\n",
    "highest_sold_item =bb['Item'].value_counts().head(20)\n",
    "highest_sold_item\n"
   ]
  },
  {
   "cell_type": "code",
   "execution_count": 32,
   "metadata": {
    "colab": {
     "base_uri": "https://localhost:8080/",
     "height": 650
    },
    "executionInfo": {
     "elapsed": 3053,
     "status": "ok",
     "timestamp": 1604129694785,
     "user": {
      "displayName": "Imad Khanzada",
      "photoUrl": "https://lh3.googleusercontent.com/a-/AOh14GglUSPC1xTBFmnNxhIdCYGqq_23ydifOGEG9nMW=s64",
      "userId": "18384988035224797336"
     },
     "user_tz": -330
    },
    "id": "UAkwIw8-RdEY",
    "outputId": "026bb8c5-60ac-47c3-c5ea-976381c7c96e"
   },
   "outputs": [
    {
     "data": {
      "text/plain": [
       "<function matplotlib.pyplot.show(*args, **kw)>"
      ]
     },
     "execution_count": 32,
     "metadata": {},
     "output_type": "execute_result"
    },
    {
     "data": {
      "image/png": "[encoded data removed]",
      "text/plain": [
       "<Figure size 1152x576 with 1 Axes>"
      ]
     },
     "metadata": {
      "needs_background": "light"
     },
     "output_type": "display_data"
    }
   ],
   "source": [
    "#ploting highest sold items\n",
    "\n",
    "plt.figure(figsize=(16,8))\n",
    "plt.title('Top 10 Sold Items',fontsize=20)\n",
    "plt.xticks(fontsize=20)\n",
    "plt.yticks(fontsize=20)\n",
    "plt.grid(True)\n",
    "highest_sold_item.head(10).plot(kind='bar')\n",
    "plt.show\n"
   ]
  },
  {
   "cell_type": "markdown",
   "metadata": {
    "id": "Hsn4-IEvVCQC"
   },
   "source": [
    "**By seeing the above graph we got to know here coffee is the most sold product followed by bread , tea , cake an so on.**"
   ]
  },
  {
   "cell_type": "markdown",
   "metadata": {
    "id": "26buNScEVsMd"
   },
   "source": [
    "Grouping Transaction according to month "
   ]
  },
  {
   "cell_type": "code",
   "execution_count": 33,
   "metadata": {
    "colab": {
     "base_uri": "https://localhost:8080/"
    },
    "executionInfo": {
     "elapsed": 3034,
     "status": "ok",
     "timestamp": 1604129694787,
     "user": {
      "displayName": "Imad Khanzada",
      "photoUrl": "https://lh3.googleusercontent.com/a-/AOh14GglUSPC1xTBFmnNxhIdCYGqq_23ydifOGEG9nMW=s64",
      "userId": "18384988035224797336"
     },
     "user_tz": -330
    },
    "id": "xHfd2dW8KgmN",
    "outputId": "bc9696fd-a2e3-41e7-f2fd-3e6151c6f591"
   },
   "outputs": [
    {
     "data": {
      "text/plain": [
       "Month\n",
       "11    2140\n",
       "3     1764\n",
       "12    1672\n",
       "2     1630\n",
       "1     1575\n",
       "Name: Transaction, dtype: int64"
      ]
     },
     "execution_count": 33,
     "metadata": {},
     "output_type": "execute_result"
    }
   ],
   "source": [
    "monthly_transaction = bb.groupby(['Month'])['Transaction'].nunique().sort_values(ascending=False)\n",
    "monthly_transaction.head()"
   ]
  },
  {
   "cell_type": "code",
   "execution_count": 34,
   "metadata": {
    "colab": {
     "base_uri": "https://localhost:8080/"
    },
    "executionInfo": {
     "elapsed": 3015,
     "status": "ok",
     "timestamp": 1604129694789,
     "user": {
      "displayName": "Imad Khanzada",
      "photoUrl": "https://lh3.googleusercontent.com/a-/AOh14GglUSPC1xTBFmnNxhIdCYGqq_23ydifOGEG9nMW=s64",
      "userId": "18384988035224797336"
     },
     "user_tz": -330
    },
    "id": "z6eI4tqkOIOj",
    "outputId": "9b7aef2c-6f76-4422-919d-9f382f21f322"
   },
   "outputs": [
    {
     "data": {
      "text/plain": [
       "Month_year\n",
       "2016-10       32288\n",
       "2016-11     5599892\n",
       "2016-12    10827910\n",
       "2017-01    16519571\n",
       "2017-02    25607531\n",
       "2017-03    32566493\n",
       "2017-04    10893297\n",
       "Freq: M, Name: Transaction, dtype: int64"
      ]
     },
     "execution_count": 34,
     "metadata": {},
     "output_type": "execute_result"
    }
   ],
   "source": [
    "##Monthly_Year \n",
    "bb.groupby(['Month_year'])['Transaction'].sum()"
   ]
  },
  {
   "cell_type": "code",
   "execution_count": 35,
   "metadata": {
    "executionInfo": {
     "elapsed": 3000,
     "status": "ok",
     "timestamp": 1604129694791,
     "user": {
      "displayName": "Imad Khanzada",
      "photoUrl": "https://lh3.googleusercontent.com/a-/AOh14GglUSPC1xTBFmnNxhIdCYGqq_23ydifOGEG9nMW=s64",
      "userId": "18384988035224797336"
     },
     "user_tz": -330
    },
    "id": "vF69QuiJWzDW"
   },
   "outputs": [],
   "source": [
    "import calendar\n",
    "bb['Month_name']=bb['Month'].apply(lambda x: calendar.month_name[x])"
   ]
  },
  {
   "cell_type": "code",
   "execution_count": 36,
   "metadata": {
    "colab": {
     "base_uri": "https://localhost:8080/",
     "height": 479
    },
    "executionInfo": {
     "elapsed": 4050,
     "status": "ok",
     "timestamp": 1604129695862,
     "user": {
      "displayName": "Imad Khanzada",
      "photoUrl": "https://lh3.googleusercontent.com/a-/AOh14GglUSPC1xTBFmnNxhIdCYGqq_23ydifOGEG9nMW=s64",
      "userId": "18384988035224797336"
     },
     "user_tz": -330
    },
    "id": "Ftzlnhj6XFvb",
    "outputId": "d0511ec8-9fc9-4e18-c566-aa9ceb22534d"
   },
   "outputs": [
    {
     "data": {
      "text/plain": [
       "Text(0.5, 1.0, 'Monthly sales')"
      ]
     },
     "execution_count": 36,
     "metadata": {},
     "output_type": "execute_result"
    },
    {
     "data": {
      "image/png": "[encoded data removed]",
      "text/plain": [
       "<Figure size 864x432 with 1 Axes>"
      ]
     },
     "metadata": {
      "needs_background": "light"
     },
     "output_type": "display_data"
    }
   ],
   "source": [
    "# monthly sales of items\n",
    "bb.groupby(['Month_name'])['Transaction'].nunique().sort_values(ascending=False).plot(kind='bar',fontsize=12,figsize=(12,6))\n",
    "plt.title(\"Monthly sales\",fontsize=20)"
   ]
  },
  {
   "cell_type": "markdown",
   "metadata": {
    "id": "0KRBbEUNXUr0"
   },
   "source": [
    "**Here, In November month, the highest sales was made, followed by March ,December and least sales are seen in April and October.**"
   ]
  },
  {
   "cell_type": "code",
   "execution_count": 37,
   "metadata": {
    "colab": {
     "base_uri": "https://localhost:8080/"
    },
    "executionInfo": {
     "elapsed": 4031,
     "status": "ok",
     "timestamp": 1604129695865,
     "user": {
      "displayName": "Imad Khanzada",
      "photoUrl": "https://lh3.googleusercontent.com/a-/AOh14GglUSPC1xTBFmnNxhIdCYGqq_23ydifOGEG9nMW=s64",
      "userId": "18384988035224797336"
     },
     "user_tz": -330
    },
    "id": "X5LkffO_N3Xg",
    "outputId": "41edd8c2-83ec-47a7-e0e3-b4d97097179c"
   },
   "outputs": [
    {
     "data": {
      "text/plain": [
       "Year\n",
       "2016    16460090\n",
       "2017    85586892\n",
       "Name: Transaction, dtype: int64"
      ]
     },
     "execution_count": 37,
     "metadata": {},
     "output_type": "execute_result"
    }
   ],
   "source": [
    "##Annual Transactions\n",
    "bb.groupby('Year')['Transaction'].sum()"
   ]
  },
  {
   "cell_type": "code",
   "execution_count": 38,
   "metadata": {
    "colab": {
     "base_uri": "https://localhost:8080/",
     "height": 317
    },
    "executionInfo": {
     "elapsed": 4010,
     "status": "ok",
     "timestamp": 1604129695868,
     "user": {
      "displayName": "Imad Khanzada",
      "photoUrl": "https://lh3.googleusercontent.com/a-/AOh14GglUSPC1xTBFmnNxhIdCYGqq_23ydifOGEG9nMW=s64",
      "userId": "18384988035224797336"
     },
     "user_tz": -330
    },
    "id": "zbQMhENKX1Ve",
    "outputId": "bf2b298a-87d1-4649-e051-3c416616bad4"
   },
   "outputs": [
    {
     "data": {
      "text/plain": [
       "<matplotlib.axes._subplots.AxesSubplot at 0x2291b56caf0>"
      ]
     },
     "execution_count": 38,
     "metadata": {},
     "output_type": "execute_result"
    },
    {
     "data": {
      "image/png": "[encoded data removed]",
      "text/plain": [
       "<Figure size 576x288 with 1 Axes>"
      ]
     },
     "metadata": {
      "needs_background": "light"
     },
     "output_type": "display_data"
    }
   ],
   "source": [
    "# Annual sales /Transactions\n",
    "bb.groupby(['Year'])['Transaction'].nunique().sort_values(ascending=False)[:20].plot(kind='bar',fontsize=12,figsize=(8,4))"
   ]
  },
  {
   "cell_type": "markdown",
   "metadata": {
    "id": "ZkLbezFbYJb1"
   },
   "source": [
    "**In 2017 sales were high then the  previous year(2016).** "
   ]
  },
  {
   "cell_type": "code",
   "execution_count": 39,
   "metadata": {
    "colab": {
     "base_uri": "https://localhost:8080/"
    },
    "executionInfo": {
     "elapsed": 3989,
     "status": "ok",
     "timestamp": 1604129695869,
     "user": {
      "displayName": "Imad Khanzada",
      "photoUrl": "https://lh3.googleusercontent.com/a-/AOh14GglUSPC1xTBFmnNxhIdCYGqq_23ydifOGEG9nMW=s64",
      "userId": "18384988035224797336"
     },
     "user_tz": -330
    },
    "id": "CEQS_7akY3f_",
    "outputId": "d84ada8c-1a2c-4ca9-dc26-a252157934fa"
   },
   "outputs": [
    {
     "data": {
      "text/plain": [
       "Year  Item         \n",
       "2017  Coffee           2649\n",
       "2016  Coffee           1879\n",
       "2017  Bread            1790\n",
       "2016  Bread            1307\n",
       "2017  Tea               789\n",
       "      Cake              724\n",
       "2016  Tea               561\n",
       "2017  Sandwich          460\n",
       "      Pastry            459\n",
       "2016  Pastry            356\n",
       "2017  Cookies           354\n",
       "2016  Medialuna         349\n",
       "2017  Hot chocolate     305\n",
       "2016  Cake              259\n",
       "2017  Juice             258\n",
       "      Scone             258\n",
       "      Toast             253\n",
       "2016  Hot chocolate     247\n",
       "2017  Medialuna         236\n",
       "      Soup              220\n",
       "Name: Transaction, dtype: int64"
      ]
     },
     "execution_count": 39,
     "metadata": {},
     "output_type": "execute_result"
    }
   ],
   "source": [
    "# yearly unique highest Items sold\n",
    "bb.groupby(['Year','Item'])['Transaction'].nunique().sort_values(ascending=False)[:20]"
   ]
  },
  {
   "cell_type": "code",
   "execution_count": 40,
   "metadata": {
    "colab": {
     "base_uri": "https://localhost:8080/",
     "height": 503
    },
    "executionInfo": {
     "elapsed": 3967,
     "status": "ok",
     "timestamp": 1604129695871,
     "user": {
      "displayName": "Imad Khanzada",
      "photoUrl": "https://lh3.googleusercontent.com/a-/AOh14GglUSPC1xTBFmnNxhIdCYGqq_23ydifOGEG9nMW=s64",
      "userId": "18384988035224797336"
     },
     "user_tz": -330
    },
    "id": "P0DOGp_dYwKD",
    "outputId": "6da60276-86f8-4127-f064-d04cc6446726"
   },
   "outputs": [
    {
     "data": {
      "text/plain": [
       "<matplotlib.axes._subplots.AxesSubplot at 0x2291bfe7790>"
      ]
     },
     "execution_count": 40,
     "metadata": {},
     "output_type": "execute_result"
    },
    {
     "data": {
      "image/png": "[encoded data removed]",
      "text/plain": [
       "<Figure size 864x432 with 1 Axes>"
      ]
     },
     "metadata": {
      "needs_background": "light"
     },
     "output_type": "display_data"
    }
   ],
   "source": [
    "# yearly unique highest Items sold\n",
    "bb.groupby(['Year','Item'])['Transaction'].nunique().sort_values(ascending=False)[:20].plot(kind='bar',figsize=(12,6))"
   ]
  },
  {
   "cell_type": "code",
   "execution_count": 41,
   "metadata": {
    "colab": {
     "base_uri": "https://localhost:8080/",
     "height": 297
    },
    "executionInfo": {
     "elapsed": 3946,
     "status": "ok",
     "timestamp": 1604129695873,
     "user": {
      "displayName": "Imad Khanzada",
      "photoUrl": "https://lh3.googleusercontent.com/a-/AOh14GglUSPC1xTBFmnNxhIdCYGqq_23ydifOGEG9nMW=s64",
      "userId": "18384988035224797336"
     },
     "user_tz": -330
    },
    "id": "PH2Uz_6bZNoA",
    "outputId": "c253ebff-76a6-43ab-e303-795e4ce9589e"
   },
   "outputs": [
    {
     "data": {
      "text/html": [
       "<div>\n",
       "<style scoped>\n",
       "    .dataframe tbody tr th:only-of-type {\n",
       "        vertical-align: middle;\n",
       "    }\n",
       "\n",
       "    .dataframe tbody tr th {\n",
       "        vertical-align: top;\n",
       "    }\n",
       "\n",
       "    .dataframe thead th {\n",
       "        text-align: right;\n",
       "    }\n",
       "</style>\n",
       "<table border=\"1\" class=\"dataframe\">\n",
       "  <thead>\n",
       "    <tr style=\"text-align: right;\">\n",
       "      <th></th>\n",
       "      <th>Date</th>\n",
       "      <th>Time</th>\n",
       "      <th>Transaction</th>\n",
       "      <th>Item</th>\n",
       "      <th>Year</th>\n",
       "      <th>Month</th>\n",
       "      <th>Hour</th>\n",
       "      <th>Month_year</th>\n",
       "      <th>Month_name</th>\n",
       "    </tr>\n",
       "  </thead>\n",
       "  <tbody>\n",
       "    <tr>\n",
       "      <th>0</th>\n",
       "      <td>2016-10-30</td>\n",
       "      <td>2021-01-25 09:58:11</td>\n",
       "      <td>1</td>\n",
       "      <td>Bread</td>\n",
       "      <td>2016</td>\n",
       "      <td>10</td>\n",
       "      <td>9</td>\n",
       "      <td>2016-10</td>\n",
       "      <td>October</td>\n",
       "    </tr>\n",
       "    <tr>\n",
       "      <th>1</th>\n",
       "      <td>2016-10-30</td>\n",
       "      <td>2021-01-25 10:05:34</td>\n",
       "      <td>2</td>\n",
       "      <td>Scandinavian</td>\n",
       "      <td>2016</td>\n",
       "      <td>10</td>\n",
       "      <td>10</td>\n",
       "      <td>2016-10</td>\n",
       "      <td>October</td>\n",
       "    </tr>\n",
       "    <tr>\n",
       "      <th>2</th>\n",
       "      <td>2016-10-30</td>\n",
       "      <td>2021-01-25 10:05:34</td>\n",
       "      <td>2</td>\n",
       "      <td>Scandinavian</td>\n",
       "      <td>2016</td>\n",
       "      <td>10</td>\n",
       "      <td>10</td>\n",
       "      <td>2016-10</td>\n",
       "      <td>October</td>\n",
       "    </tr>\n",
       "    <tr>\n",
       "      <th>3</th>\n",
       "      <td>2016-10-30</td>\n",
       "      <td>2021-01-25 10:07:57</td>\n",
       "      <td>3</td>\n",
       "      <td>Hot chocolate</td>\n",
       "      <td>2016</td>\n",
       "      <td>10</td>\n",
       "      <td>10</td>\n",
       "      <td>2016-10</td>\n",
       "      <td>October</td>\n",
       "    </tr>\n",
       "    <tr>\n",
       "      <th>4</th>\n",
       "      <td>2016-10-30</td>\n",
       "      <td>2021-01-25 10:07:57</td>\n",
       "      <td>3</td>\n",
       "      <td>Jam</td>\n",
       "      <td>2016</td>\n",
       "      <td>10</td>\n",
       "      <td>10</td>\n",
       "      <td>2016-10</td>\n",
       "      <td>October</td>\n",
       "    </tr>\n",
       "    <tr>\n",
       "      <th>5</th>\n",
       "      <td>2016-10-30</td>\n",
       "      <td>2021-01-25 10:07:57</td>\n",
       "      <td>3</td>\n",
       "      <td>Cookies</td>\n",
       "      <td>2016</td>\n",
       "      <td>10</td>\n",
       "      <td>10</td>\n",
       "      <td>2016-10</td>\n",
       "      <td>October</td>\n",
       "    </tr>\n",
       "    <tr>\n",
       "      <th>6</th>\n",
       "      <td>2016-10-30</td>\n",
       "      <td>2021-01-25 10:08:41</td>\n",
       "      <td>4</td>\n",
       "      <td>Muffin</td>\n",
       "      <td>2016</td>\n",
       "      <td>10</td>\n",
       "      <td>10</td>\n",
       "      <td>2016-10</td>\n",
       "      <td>October</td>\n",
       "    </tr>\n",
       "    <tr>\n",
       "      <th>7</th>\n",
       "      <td>2016-10-30</td>\n",
       "      <td>2021-01-25 10:13:03</td>\n",
       "      <td>5</td>\n",
       "      <td>Coffee</td>\n",
       "      <td>2016</td>\n",
       "      <td>10</td>\n",
       "      <td>10</td>\n",
       "      <td>2016-10</td>\n",
       "      <td>October</td>\n",
       "    </tr>\n",
       "  </tbody>\n",
       "</table>\n",
       "</div>"
      ],
      "text/plain": [
       "        Date                Time  Transaction           Item  Year  Month  \\\n",
       "0 2016-10-30 2021-01-25 09:58:11            1          Bread  2016     10   \n",
       "1 2016-10-30 2021-01-25 10:05:34            2   Scandinavian  2016     10   \n",
       "2 2016-10-30 2021-01-25 10:05:34            2   Scandinavian  2016     10   \n",
       "3 2016-10-30 2021-01-25 10:07:57            3  Hot chocolate  2016     10   \n",
       "4 2016-10-30 2021-01-25 10:07:57            3            Jam  2016     10   \n",
       "5 2016-10-30 2021-01-25 10:07:57            3        Cookies  2016     10   \n",
       "6 2016-10-30 2021-01-25 10:08:41            4         Muffin  2016     10   \n",
       "7 2016-10-30 2021-01-25 10:13:03            5         Coffee  2016     10   \n",
       "\n",
       "   Hour Month_year Month_name  \n",
       "0     9    2016-10    October  \n",
       "1    10    2016-10    October  \n",
       "2    10    2016-10    October  \n",
       "3    10    2016-10    October  \n",
       "4    10    2016-10    October  \n",
       "5    10    2016-10    October  \n",
       "6    10    2016-10    October  \n",
       "7    10    2016-10    October  "
      ]
     },
     "execution_count": 41,
     "metadata": {},
     "output_type": "execute_result"
    }
   ],
   "source": [
    "bb.head(8)"
   ]
  },
  {
   "cell_type": "markdown",
   "metadata": {
    "id": "1goCKtX6RD0i"
   },
   "source": [
    "**Basket analysis using Apriori algorithm:**"
   ]
  },
  {
   "cell_type": "code",
   "execution_count": 42,
   "metadata": {
    "executionInfo": {
     "elapsed": 3928,
     "status": "ok",
     "timestamp": 1604129695875,
     "user": {
      "displayName": "Imad Khanzada",
      "photoUrl": "https://lh3.googleusercontent.com/a-/AOh14GglUSPC1xTBFmnNxhIdCYGqq_23ydifOGEG9nMW=s64",
      "userId": "18384988035224797336"
     },
     "user_tz": -330
    },
    "id": "SnZPJojGZXXK"
   },
   "outputs": [],
   "source": [
    "from mlxtend.preprocessing import TransactionEncoder\n",
    "from mlxtend.frequent_patterns import association_rules, apriori"
   ]
  },
  {
   "cell_type": "code",
   "execution_count": 43,
   "metadata": {
    "colab": {
     "base_uri": "https://localhost:8080/"
    },
    "executionInfo": {
     "elapsed": 3914,
     "status": "ok",
     "timestamp": 1604129695877,
     "user": {
      "displayName": "Imad Khanzada",
      "photoUrl": "https://lh3.googleusercontent.com/a-/AOh14GglUSPC1xTBFmnNxhIdCYGqq_23ydifOGEG9nMW=s64",
      "userId": "18384988035224797336"
     },
     "user_tz": -330
    },
    "id": "Xk2CrKYQb46m",
    "outputId": "54d85442-3876-4893-b034-3dd6349d171c"
   },
   "outputs": [
    {
     "data": {
      "text/plain": [
       "['Coffee', 'Pastry', 'Bread']"
      ]
     },
     "execution_count": 43,
     "metadata": {},
     "output_type": "execute_result"
    }
   ],
   "source": [
    "bb[bb['Transaction']==5]['Item'].tolist()"
   ]
  },
  {
   "cell_type": "code",
   "execution_count": 44,
   "metadata": {
    "colab": {
     "base_uri": "https://localhost:8080/"
    },
    "executionInfo": {
     "elapsed": 13053,
     "status": "ok",
     "timestamp": 1604129705036,
     "user": {
      "displayName": "Imad Khanzada",
      "photoUrl": "https://lh3.googleusercontent.com/a-/AOh14GglUSPC1xTBFmnNxhIdCYGqq_23ydifOGEG9nMW=s64",
      "userId": "18384988035224797336"
     },
     "user_tz": -330
    },
    "id": "BuSccvG7UM1A",
    "outputId": "08d0c173-4529-421e-f94a-4254c95decce"
   },
   "outputs": [
    {
     "data": {
      "text/plain": [
       "9465"
      ]
     },
     "execution_count": 44,
     "metadata": {},
     "output_type": "execute_result"
    }
   ],
   "source": [
    "##Create  a list of unique transactions to transform our data into correct format using Transaction Encode\n",
    "tran_list= []\n",
    "for i in bb['Transaction'].unique():\n",
    "    t_lst = list(set(bb[bb['Transaction']==i]['Item']))\n",
    "    if len(t_lst)>0:\n",
    "        tran_list.append(t_lst)\n",
    "len(tran_list)\n"
   ]
  },
  {
   "cell_type": "markdown",
   "metadata": {
    "id": "87jrST7hezOV"
   },
   "source": [
    "Above we have 9465 unique transacions "
   ]
  },
  {
   "cell_type": "code",
   "execution_count": 45,
   "metadata": {
    "executionInfo": {
     "elapsed": 13038,
     "status": "ok",
     "timestamp": 1604129705039,
     "user": {
      "displayName": "Imad Khanzada",
      "photoUrl": "https://lh3.googleusercontent.com/a-/AOh14GglUSPC1xTBFmnNxhIdCYGqq_23ydifOGEG9nMW=s64",
      "userId": "18384988035224797336"
     },
     "user_tz": -330
    },
    "id": "ZJF0x6kWfqGv"
   },
   "outputs": [],
   "source": [
    "##Now Transform our transaction into suitable format for our analysis \n",
    "te=TransactionEncoder()\n",
    "\n",
    "te_array=te.fit(tran_list).transform(tran_list)"
   ]
  },
  {
   "cell_type": "code",
   "execution_count": 46,
   "metadata": {
    "executionInfo": {
     "elapsed": 13023,
     "status": "ok",
     "timestamp": 1604129705041,
     "user": {
      "displayName": "Imad Khanzada",
      "photoUrl": "https://lh3.googleusercontent.com/a-/AOh14GglUSPC1xTBFmnNxhIdCYGqq_23ydifOGEG9nMW=s64",
      "userId": "18384988035224797336"
     },
     "user_tz": -330
    },
    "id": "upzdt17pg0S5"
   },
   "outputs": [],
   "source": [
    "\n",
    "basket_model = pd.DataFrame(te_array, columns=te.columns_)"
   ]
  },
  {
   "cell_type": "code",
   "execution_count": 47,
   "metadata": {
    "colab": {
     "base_uri": "https://localhost:8080/",
     "height": 304
    },
    "executionInfo": {
     "elapsed": 13006,
     "status": "ok",
     "timestamp": 1604129705044,
     "user": {
      "displayName": "Imad Khanzada",
      "photoUrl": "https://lh3.googleusercontent.com/a-/AOh14GglUSPC1xTBFmnNxhIdCYGqq_23ydifOGEG9nMW=s64",
      "userId": "18384988035224797336"
     },
     "user_tz": -330
    },
    "id": "f2S0VKb9h60Z",
    "outputId": "e51f4ae9-3fb6-4f28-916c-83b3ddeba823"
   },
   "outputs": [
    {
     "data": {
      "text/html": [
       "<div>\n",
       "<style scoped>\n",
       "    .dataframe tbody tr th:only-of-type {\n",
       "        vertical-align: middle;\n",
       "    }\n",
       "\n",
       "    .dataframe tbody tr th {\n",
       "        vertical-align: top;\n",
       "    }\n",
       "\n",
       "    .dataframe thead th {\n",
       "        text-align: right;\n",
       "    }\n",
       "</style>\n",
       "<table border=\"1\" class=\"dataframe\">\n",
       "  <thead>\n",
       "    <tr style=\"text-align: right;\">\n",
       "      <th></th>\n",
       "      <th>Adjustment</th>\n",
       "      <th>Afternoon with the baker</th>\n",
       "      <th>Alfajores</th>\n",
       "      <th>Argentina Night</th>\n",
       "      <th>Art Tray</th>\n",
       "      <th>Bacon</th>\n",
       "      <th>Baguette</th>\n",
       "      <th>Bakewell</th>\n",
       "      <th>Bare Popcorn</th>\n",
       "      <th>Basket</th>\n",
       "      <th>...</th>\n",
       "      <th>The BART</th>\n",
       "      <th>The Nomad</th>\n",
       "      <th>Tiffin</th>\n",
       "      <th>Toast</th>\n",
       "      <th>Truffles</th>\n",
       "      <th>Tshirt</th>\n",
       "      <th>Valentine's card</th>\n",
       "      <th>Vegan Feast</th>\n",
       "      <th>Vegan mincepie</th>\n",
       "      <th>Victorian Sponge</th>\n",
       "    </tr>\n",
       "  </thead>\n",
       "  <tbody>\n",
       "    <tr>\n",
       "      <th>0</th>\n",
       "      <td>False</td>\n",
       "      <td>False</td>\n",
       "      <td>False</td>\n",
       "      <td>False</td>\n",
       "      <td>False</td>\n",
       "      <td>False</td>\n",
       "      <td>False</td>\n",
       "      <td>False</td>\n",
       "      <td>False</td>\n",
       "      <td>False</td>\n",
       "      <td>...</td>\n",
       "      <td>False</td>\n",
       "      <td>False</td>\n",
       "      <td>False</td>\n",
       "      <td>False</td>\n",
       "      <td>False</td>\n",
       "      <td>False</td>\n",
       "      <td>False</td>\n",
       "      <td>False</td>\n",
       "      <td>False</td>\n",
       "      <td>False</td>\n",
       "    </tr>\n",
       "    <tr>\n",
       "      <th>1</th>\n",
       "      <td>False</td>\n",
       "      <td>False</td>\n",
       "      <td>False</td>\n",
       "      <td>False</td>\n",
       "      <td>False</td>\n",
       "      <td>False</td>\n",
       "      <td>False</td>\n",
       "      <td>False</td>\n",
       "      <td>False</td>\n",
       "      <td>False</td>\n",
       "      <td>...</td>\n",
       "      <td>False</td>\n",
       "      <td>False</td>\n",
       "      <td>False</td>\n",
       "      <td>False</td>\n",
       "      <td>False</td>\n",
       "      <td>False</td>\n",
       "      <td>False</td>\n",
       "      <td>False</td>\n",
       "      <td>False</td>\n",
       "      <td>False</td>\n",
       "    </tr>\n",
       "    <tr>\n",
       "      <th>2</th>\n",
       "      <td>False</td>\n",
       "      <td>False</td>\n",
       "      <td>False</td>\n",
       "      <td>False</td>\n",
       "      <td>False</td>\n",
       "      <td>False</td>\n",
       "      <td>False</td>\n",
       "      <td>False</td>\n",
       "      <td>False</td>\n",
       "      <td>False</td>\n",
       "      <td>...</td>\n",
       "      <td>False</td>\n",
       "      <td>False</td>\n",
       "      <td>False</td>\n",
       "      <td>False</td>\n",
       "      <td>False</td>\n",
       "      <td>False</td>\n",
       "      <td>False</td>\n",
       "      <td>False</td>\n",
       "      <td>False</td>\n",
       "      <td>False</td>\n",
       "    </tr>\n",
       "    <tr>\n",
       "      <th>3</th>\n",
       "      <td>False</td>\n",
       "      <td>False</td>\n",
       "      <td>False</td>\n",
       "      <td>False</td>\n",
       "      <td>False</td>\n",
       "      <td>False</td>\n",
       "      <td>False</td>\n",
       "      <td>False</td>\n",
       "      <td>False</td>\n",
       "      <td>False</td>\n",
       "      <td>...</td>\n",
       "      <td>False</td>\n",
       "      <td>False</td>\n",
       "      <td>False</td>\n",
       "      <td>False</td>\n",
       "      <td>False</td>\n",
       "      <td>False</td>\n",
       "      <td>False</td>\n",
       "      <td>False</td>\n",
       "      <td>False</td>\n",
       "      <td>False</td>\n",
       "    </tr>\n",
       "    <tr>\n",
       "      <th>4</th>\n",
       "      <td>False</td>\n",
       "      <td>False</td>\n",
       "      <td>False</td>\n",
       "      <td>False</td>\n",
       "      <td>False</td>\n",
       "      <td>False</td>\n",
       "      <td>False</td>\n",
       "      <td>False</td>\n",
       "      <td>False</td>\n",
       "      <td>False</td>\n",
       "      <td>...</td>\n",
       "      <td>False</td>\n",
       "      <td>False</td>\n",
       "      <td>False</td>\n",
       "      <td>False</td>\n",
       "      <td>False</td>\n",
       "      <td>False</td>\n",
       "      <td>False</td>\n",
       "      <td>False</td>\n",
       "      <td>False</td>\n",
       "      <td>False</td>\n",
       "    </tr>\n",
       "  </tbody>\n",
       "</table>\n",
       "<p>5 rows × 94 columns</p>\n",
       "</div>"
      ],
      "text/plain": [
       "   Adjustment  Afternoon with the baker  Alfajores  Argentina Night  Art Tray  \\\n",
       "0       False                     False      False            False     False   \n",
       "1       False                     False      False            False     False   \n",
       "2       False                     False      False            False     False   \n",
       "3       False                     False      False            False     False   \n",
       "4       False                     False      False            False     False   \n",
       "\n",
       "   Bacon  Baguette  Bakewell  Bare Popcorn  Basket  ...  The BART  The Nomad  \\\n",
       "0  False     False     False         False   False  ...     False      False   \n",
       "1  False     False     False         False   False  ...     False      False   \n",
       "2  False     False     False         False   False  ...     False      False   \n",
       "3  False     False     False         False   False  ...     False      False   \n",
       "4  False     False     False         False   False  ...     False      False   \n",
       "\n",
       "   Tiffin  Toast  Truffles  Tshirt  Valentine's card  Vegan Feast  \\\n",
       "0   False  False     False   False             False        False   \n",
       "1   False  False     False   False             False        False   \n",
       "2   False  False     False   False             False        False   \n",
       "3   False  False     False   False             False        False   \n",
       "4   False  False     False   False             False        False   \n",
       "\n",
       "   Vegan mincepie  Victorian Sponge  \n",
       "0           False             False  \n",
       "1           False             False  \n",
       "2           False             False  \n",
       "3           False             False  \n",
       "4           False             False  \n",
       "\n",
       "[5 rows x 94 columns]"
      ]
     },
     "execution_count": 47,
     "metadata": {},
     "output_type": "execute_result"
    }
   ],
   "source": [
    "basket_model.head(5)"
   ]
  },
  {
   "cell_type": "code",
   "execution_count": 48,
   "metadata": {
    "executionInfo": {
     "elapsed": 12989,
     "status": "ok",
     "timestamp": 1604129705047,
     "user": {
      "displayName": "Imad Khanzada",
      "photoUrl": "https://lh3.googleusercontent.com/a-/AOh14GglUSPC1xTBFmnNxhIdCYGqq_23ydifOGEG9nMW=s64",
      "userId": "18384988035224797336"
     },
     "user_tz": -330
    },
    "id": "cODM2P7ch-yf"
   },
   "outputs": [],
   "source": [
    "popular_sets= apriori(basket_model,min_support=0.01,use_colnames=True)"
   ]
  },
  {
   "cell_type": "code",
   "execution_count": 49,
   "metadata": {
    "colab": {
     "base_uri": "https://localhost:8080/",
     "height": 419
    },
    "executionInfo": {
     "elapsed": 12972,
     "status": "ok",
     "timestamp": 1604129705049,
     "user": {
      "displayName": "Imad Khanzada",
      "photoUrl": "https://lh3.googleusercontent.com/a-/AOh14GglUSPC1xTBFmnNxhIdCYGqq_23ydifOGEG9nMW=s64",
      "userId": "18384988035224797336"
     },
     "user_tz": -330
    },
    "id": "up8UWDlWjKMD",
    "outputId": "2118410b-1c3a-4068-ab76-39e9052d078c"
   },
   "outputs": [
    {
     "data": {
      "text/html": [
       "<div>\n",
       "<style scoped>\n",
       "    .dataframe tbody tr th:only-of-type {\n",
       "        vertical-align: middle;\n",
       "    }\n",
       "\n",
       "    .dataframe tbody tr th {\n",
       "        vertical-align: top;\n",
       "    }\n",
       "\n",
       "    .dataframe thead th {\n",
       "        text-align: right;\n",
       "    }\n",
       "</style>\n",
       "<table border=\"1\" class=\"dataframe\">\n",
       "  <thead>\n",
       "    <tr style=\"text-align: right;\">\n",
       "      <th></th>\n",
       "      <th>support</th>\n",
       "      <th>itemsets</th>\n",
       "    </tr>\n",
       "  </thead>\n",
       "  <tbody>\n",
       "    <tr>\n",
       "      <th>0</th>\n",
       "      <td>0.036344</td>\n",
       "      <td>(Alfajores)</td>\n",
       "    </tr>\n",
       "    <tr>\n",
       "      <th>1</th>\n",
       "      <td>0.016059</td>\n",
       "      <td>(Baguette)</td>\n",
       "    </tr>\n",
       "    <tr>\n",
       "      <th>2</th>\n",
       "      <td>0.327205</td>\n",
       "      <td>(Bread)</td>\n",
       "    </tr>\n",
       "    <tr>\n",
       "      <th>3</th>\n",
       "      <td>0.040042</td>\n",
       "      <td>(Brownie)</td>\n",
       "    </tr>\n",
       "    <tr>\n",
       "      <th>4</th>\n",
       "      <td>0.103856</td>\n",
       "      <td>(Cake)</td>\n",
       "    </tr>\n",
       "    <tr>\n",
       "      <th>...</th>\n",
       "      <td>...</td>\n",
       "      <td>...</td>\n",
       "    </tr>\n",
       "    <tr>\n",
       "      <th>56</th>\n",
       "      <td>0.023666</td>\n",
       "      <td>(Toast, Coffee)</td>\n",
       "    </tr>\n",
       "    <tr>\n",
       "      <th>57</th>\n",
       "      <td>0.014369</td>\n",
       "      <td>(Tea, Sandwich)</td>\n",
       "    </tr>\n",
       "    <tr>\n",
       "      <th>58</th>\n",
       "      <td>0.010037</td>\n",
       "      <td>(Cake, Bread, Coffee)</td>\n",
       "    </tr>\n",
       "    <tr>\n",
       "      <th>59</th>\n",
       "      <td>0.011199</td>\n",
       "      <td>(Pastry, Bread, Coffee)</td>\n",
       "    </tr>\n",
       "    <tr>\n",
       "      <th>60</th>\n",
       "      <td>0.010037</td>\n",
       "      <td>(Cake, Tea, Coffee)</td>\n",
       "    </tr>\n",
       "  </tbody>\n",
       "</table>\n",
       "<p>61 rows × 2 columns</p>\n",
       "</div>"
      ],
      "text/plain": [
       "     support                 itemsets\n",
       "0   0.036344              (Alfajores)\n",
       "1   0.016059               (Baguette)\n",
       "2   0.327205                  (Bread)\n",
       "3   0.040042                (Brownie)\n",
       "4   0.103856                   (Cake)\n",
       "..       ...                      ...\n",
       "56  0.023666          (Toast, Coffee)\n",
       "57  0.014369          (Tea, Sandwich)\n",
       "58  0.010037    (Cake, Bread, Coffee)\n",
       "59  0.011199  (Pastry, Bread, Coffee)\n",
       "60  0.010037      (Cake, Tea, Coffee)\n",
       "\n",
       "[61 rows x 2 columns]"
      ]
     },
     "execution_count": 49,
     "metadata": {},
     "output_type": "execute_result"
    }
   ],
   "source": [
    "\n",
    "popular_sets"
   ]
  },
  {
   "cell_type": "code",
   "execution_count": 50,
   "metadata": {
    "executionInfo": {
     "elapsed": 12954,
     "status": "ok",
     "timestamp": 1604129705051,
     "user": {
      "displayName": "Imad Khanzada",
      "photoUrl": "https://lh3.googleusercontent.com/a-/AOh14GglUSPC1xTBFmnNxhIdCYGqq_23ydifOGEG9nMW=s64",
      "userId": "18384988035224797336"
     },
     "user_tz": -330
    },
    "id": "71IrYaagjMGR"
   },
   "outputs": [],
   "source": [
    "rules= association_rules(popular_sets,metric='lift',min_threshold=1)"
   ]
  },
  {
   "cell_type": "code",
   "execution_count": 51,
   "metadata": {
    "colab": {
     "base_uri": "https://localhost:8080/",
     "height": 359
    },
    "executionInfo": {
     "elapsed": 12937,
     "status": "ok",
     "timestamp": 1604129705053,
     "user": {
      "displayName": "Imad Khanzada",
      "photoUrl": "https://lh3.googleusercontent.com/a-/AOh14GglUSPC1xTBFmnNxhIdCYGqq_23ydifOGEG9nMW=s64",
      "userId": "18384988035224797336"
     },
     "user_tz": -330
    },
    "id": "Ialbp3PgjxNk",
    "outputId": "c2a56544-14bd-42b5-bb52-dbb185caf6f8"
   },
   "outputs": [
    {
     "data": {
      "text/html": [
       "<div>\n",
       "<style scoped>\n",
       "    .dataframe tbody tr th:only-of-type {\n",
       "        vertical-align: middle;\n",
       "    }\n",
       "\n",
       "    .dataframe tbody tr th {\n",
       "        vertical-align: top;\n",
       "    }\n",
       "\n",
       "    .dataframe thead th {\n",
       "        text-align: right;\n",
       "    }\n",
       "</style>\n",
       "<table border=\"1\" class=\"dataframe\">\n",
       "  <thead>\n",
       "    <tr style=\"text-align: right;\">\n",
       "      <th></th>\n",
       "      <th>antecedents</th>\n",
       "      <th>consequents</th>\n",
       "      <th>antecedent support</th>\n",
       "      <th>consequent support</th>\n",
       "      <th>support</th>\n",
       "      <th>confidence</th>\n",
       "      <th>lift</th>\n",
       "      <th>leverage</th>\n",
       "      <th>conviction</th>\n",
       "    </tr>\n",
       "  </thead>\n",
       "  <tbody>\n",
       "    <tr>\n",
       "      <th>0</th>\n",
       "      <td>(Coffee)</td>\n",
       "      <td>(Alfajores)</td>\n",
       "      <td>0.478394</td>\n",
       "      <td>0.036344</td>\n",
       "      <td>0.019651</td>\n",
       "      <td>0.041078</td>\n",
       "      <td>1.130235</td>\n",
       "      <td>0.002264</td>\n",
       "      <td>1.004936</td>\n",
       "    </tr>\n",
       "    <tr>\n",
       "      <th>1</th>\n",
       "      <td>(Alfajores)</td>\n",
       "      <td>(Coffee)</td>\n",
       "      <td>0.036344</td>\n",
       "      <td>0.478394</td>\n",
       "      <td>0.019651</td>\n",
       "      <td>0.540698</td>\n",
       "      <td>1.130235</td>\n",
       "      <td>0.002264</td>\n",
       "      <td>1.135648</td>\n",
       "    </tr>\n",
       "    <tr>\n",
       "      <th>2</th>\n",
       "      <td>(Pastry)</td>\n",
       "      <td>(Bread)</td>\n",
       "      <td>0.086107</td>\n",
       "      <td>0.327205</td>\n",
       "      <td>0.029160</td>\n",
       "      <td>0.338650</td>\n",
       "      <td>1.034977</td>\n",
       "      <td>0.000985</td>\n",
       "      <td>1.017305</td>\n",
       "    </tr>\n",
       "    <tr>\n",
       "      <th>3</th>\n",
       "      <td>(Bread)</td>\n",
       "      <td>(Pastry)</td>\n",
       "      <td>0.327205</td>\n",
       "      <td>0.086107</td>\n",
       "      <td>0.029160</td>\n",
       "      <td>0.089119</td>\n",
       "      <td>1.034977</td>\n",
       "      <td>0.000985</td>\n",
       "      <td>1.003306</td>\n",
       "    </tr>\n",
       "    <tr>\n",
       "      <th>4</th>\n",
       "      <td>(Brownie)</td>\n",
       "      <td>(Coffee)</td>\n",
       "      <td>0.040042</td>\n",
       "      <td>0.478394</td>\n",
       "      <td>0.019651</td>\n",
       "      <td>0.490765</td>\n",
       "      <td>1.025860</td>\n",
       "      <td>0.000495</td>\n",
       "      <td>1.024293</td>\n",
       "    </tr>\n",
       "    <tr>\n",
       "      <th>5</th>\n",
       "      <td>(Coffee)</td>\n",
       "      <td>(Brownie)</td>\n",
       "      <td>0.478394</td>\n",
       "      <td>0.040042</td>\n",
       "      <td>0.019651</td>\n",
       "      <td>0.041078</td>\n",
       "      <td>1.025860</td>\n",
       "      <td>0.000495</td>\n",
       "      <td>1.001080</td>\n",
       "    </tr>\n",
       "    <tr>\n",
       "      <th>6</th>\n",
       "      <td>(Cake)</td>\n",
       "      <td>(Coffee)</td>\n",
       "      <td>0.103856</td>\n",
       "      <td>0.478394</td>\n",
       "      <td>0.054728</td>\n",
       "      <td>0.526958</td>\n",
       "      <td>1.101515</td>\n",
       "      <td>0.005044</td>\n",
       "      <td>1.102664</td>\n",
       "    </tr>\n",
       "    <tr>\n",
       "      <th>7</th>\n",
       "      <td>(Coffee)</td>\n",
       "      <td>(Cake)</td>\n",
       "      <td>0.478394</td>\n",
       "      <td>0.103856</td>\n",
       "      <td>0.054728</td>\n",
       "      <td>0.114399</td>\n",
       "      <td>1.101515</td>\n",
       "      <td>0.005044</td>\n",
       "      <td>1.011905</td>\n",
       "    </tr>\n",
       "    <tr>\n",
       "      <th>8</th>\n",
       "      <td>(Cake)</td>\n",
       "      <td>(Hot chocolate)</td>\n",
       "      <td>0.103856</td>\n",
       "      <td>0.058320</td>\n",
       "      <td>0.011410</td>\n",
       "      <td>0.109868</td>\n",
       "      <td>1.883874</td>\n",
       "      <td>0.005354</td>\n",
       "      <td>1.057910</td>\n",
       "    </tr>\n",
       "    <tr>\n",
       "      <th>9</th>\n",
       "      <td>(Hot chocolate)</td>\n",
       "      <td>(Cake)</td>\n",
       "      <td>0.058320</td>\n",
       "      <td>0.103856</td>\n",
       "      <td>0.011410</td>\n",
       "      <td>0.195652</td>\n",
       "      <td>1.883874</td>\n",
       "      <td>0.005354</td>\n",
       "      <td>1.114125</td>\n",
       "    </tr>\n",
       "  </tbody>\n",
       "</table>\n",
       "</div>"
      ],
      "text/plain": [
       "       antecedents      consequents  antecedent support  consequent support  \\\n",
       "0         (Coffee)      (Alfajores)            0.478394            0.036344   \n",
       "1      (Alfajores)         (Coffee)            0.036344            0.478394   \n",
       "2         (Pastry)          (Bread)            0.086107            0.327205   \n",
       "3          (Bread)         (Pastry)            0.327205            0.086107   \n",
       "4        (Brownie)         (Coffee)            0.040042            0.478394   \n",
       "5         (Coffee)        (Brownie)            0.478394            0.040042   \n",
       "6           (Cake)         (Coffee)            0.103856            0.478394   \n",
       "7         (Coffee)           (Cake)            0.478394            0.103856   \n",
       "8           (Cake)  (Hot chocolate)            0.103856            0.058320   \n",
       "9  (Hot chocolate)           (Cake)            0.058320            0.103856   \n",
       "\n",
       "    support  confidence      lift  leverage  conviction  \n",
       "0  0.019651    0.041078  1.130235  0.002264    1.004936  \n",
       "1  0.019651    0.540698  1.130235  0.002264    1.135648  \n",
       "2  0.029160    0.338650  1.034977  0.000985    1.017305  \n",
       "3  0.029160    0.089119  1.034977  0.000985    1.003306  \n",
       "4  0.019651    0.490765  1.025860  0.000495    1.024293  \n",
       "5  0.019651    0.041078  1.025860  0.000495    1.001080  \n",
       "6  0.054728    0.526958  1.101515  0.005044    1.102664  \n",
       "7  0.054728    0.114399  1.101515  0.005044    1.011905  \n",
       "8  0.011410    0.109868  1.883874  0.005354    1.057910  \n",
       "9  0.011410    0.195652  1.883874  0.005354    1.114125  "
      ]
     },
     "execution_count": 51,
     "metadata": {},
     "output_type": "execute_result"
    }
   ],
   "source": [
    "rules.head(10)"
   ]
  },
  {
   "cell_type": "code",
   "execution_count": 52,
   "metadata": {
    "colab": {
     "base_uri": "https://localhost:8080/",
     "height": 1000
    },
    "executionInfo": {
     "elapsed": 13349,
     "status": "ok",
     "timestamp": 1604129705492,
     "user": {
      "displayName": "Imad Khanzada",
      "photoUrl": "https://lh3.googleusercontent.com/a-/AOh14GglUSPC1xTBFmnNxhIdCYGqq_23ydifOGEG9nMW=s64",
      "userId": "18384988035224797336"
     },
     "user_tz": -330
    },
    "id": "464NI3GxjzgY",
    "outputId": "d479cb57-92e9-46b6-93a7-c347cd01dc9b"
   },
   "outputs": [
    {
     "data": {
      "text/html": [
       "<div>\n",
       "<style scoped>\n",
       "    .dataframe tbody tr th:only-of-type {\n",
       "        vertical-align: middle;\n",
       "    }\n",
       "\n",
       "    .dataframe tbody tr th {\n",
       "        vertical-align: top;\n",
       "    }\n",
       "\n",
       "    .dataframe thead th {\n",
       "        text-align: right;\n",
       "    }\n",
       "</style>\n",
       "<table border=\"1\" class=\"dataframe\">\n",
       "  <thead>\n",
       "    <tr style=\"text-align: right;\">\n",
       "      <th></th>\n",
       "      <th>antecedents</th>\n",
       "      <th>consequents</th>\n",
       "      <th>antecedent support</th>\n",
       "      <th>consequent support</th>\n",
       "      <th>support</th>\n",
       "      <th>confidence</th>\n",
       "      <th>lift</th>\n",
       "      <th>leverage</th>\n",
       "      <th>conviction</th>\n",
       "    </tr>\n",
       "  </thead>\n",
       "  <tbody>\n",
       "    <tr>\n",
       "      <th>30</th>\n",
       "      <td>(Toast)</td>\n",
       "      <td>(Coffee)</td>\n",
       "      <td>0.033597</td>\n",
       "      <td>0.478394</td>\n",
       "      <td>0.023666</td>\n",
       "      <td>0.704403</td>\n",
       "      <td>1.472431</td>\n",
       "      <td>0.007593</td>\n",
       "      <td>1.764582</td>\n",
       "    </tr>\n",
       "    <tr>\n",
       "      <th>28</th>\n",
       "      <td>(Spanish Brunch)</td>\n",
       "      <td>(Coffee)</td>\n",
       "      <td>0.018172</td>\n",
       "      <td>0.478394</td>\n",
       "      <td>0.010882</td>\n",
       "      <td>0.598837</td>\n",
       "      <td>1.251766</td>\n",
       "      <td>0.002189</td>\n",
       "      <td>1.300235</td>\n",
       "    </tr>\n",
       "    <tr>\n",
       "      <th>18</th>\n",
       "      <td>(Medialuna)</td>\n",
       "      <td>(Coffee)</td>\n",
       "      <td>0.061807</td>\n",
       "      <td>0.478394</td>\n",
       "      <td>0.035182</td>\n",
       "      <td>0.569231</td>\n",
       "      <td>1.189878</td>\n",
       "      <td>0.005614</td>\n",
       "      <td>1.210871</td>\n",
       "    </tr>\n",
       "    <tr>\n",
       "      <th>22</th>\n",
       "      <td>(Pastry)</td>\n",
       "      <td>(Coffee)</td>\n",
       "      <td>0.086107</td>\n",
       "      <td>0.478394</td>\n",
       "      <td>0.047544</td>\n",
       "      <td>0.552147</td>\n",
       "      <td>1.154168</td>\n",
       "      <td>0.006351</td>\n",
       "      <td>1.164682</td>\n",
       "    </tr>\n",
       "    <tr>\n",
       "      <th>1</th>\n",
       "      <td>(Alfajores)</td>\n",
       "      <td>(Coffee)</td>\n",
       "      <td>0.036344</td>\n",
       "      <td>0.478394</td>\n",
       "      <td>0.019651</td>\n",
       "      <td>0.540698</td>\n",
       "      <td>1.130235</td>\n",
       "      <td>0.002264</td>\n",
       "      <td>1.135648</td>\n",
       "    </tr>\n",
       "    <tr>\n",
       "      <th>17</th>\n",
       "      <td>(Juice)</td>\n",
       "      <td>(Coffee)</td>\n",
       "      <td>0.038563</td>\n",
       "      <td>0.478394</td>\n",
       "      <td>0.020602</td>\n",
       "      <td>0.534247</td>\n",
       "      <td>1.116750</td>\n",
       "      <td>0.002154</td>\n",
       "      <td>1.119919</td>\n",
       "    </tr>\n",
       "    <tr>\n",
       "      <th>24</th>\n",
       "      <td>(Sandwich)</td>\n",
       "      <td>(Coffee)</td>\n",
       "      <td>0.071844</td>\n",
       "      <td>0.478394</td>\n",
       "      <td>0.038246</td>\n",
       "      <td>0.532353</td>\n",
       "      <td>1.112792</td>\n",
       "      <td>0.003877</td>\n",
       "      <td>1.115384</td>\n",
       "    </tr>\n",
       "    <tr>\n",
       "      <th>6</th>\n",
       "      <td>(Cake)</td>\n",
       "      <td>(Coffee)</td>\n",
       "      <td>0.103856</td>\n",
       "      <td>0.478394</td>\n",
       "      <td>0.054728</td>\n",
       "      <td>0.526958</td>\n",
       "      <td>1.101515</td>\n",
       "      <td>0.005044</td>\n",
       "      <td>1.102664</td>\n",
       "    </tr>\n",
       "    <tr>\n",
       "      <th>26</th>\n",
       "      <td>(Scone)</td>\n",
       "      <td>(Coffee)</td>\n",
       "      <td>0.034548</td>\n",
       "      <td>0.478394</td>\n",
       "      <td>0.018067</td>\n",
       "      <td>0.522936</td>\n",
       "      <td>1.093107</td>\n",
       "      <td>0.001539</td>\n",
       "      <td>1.093366</td>\n",
       "    </tr>\n",
       "    <tr>\n",
       "      <th>13</th>\n",
       "      <td>(Cookies)</td>\n",
       "      <td>(Coffee)</td>\n",
       "      <td>0.054411</td>\n",
       "      <td>0.478394</td>\n",
       "      <td>0.028209</td>\n",
       "      <td>0.518447</td>\n",
       "      <td>1.083723</td>\n",
       "      <td>0.002179</td>\n",
       "      <td>1.083174</td>\n",
       "    </tr>\n",
       "    <tr>\n",
       "      <th>14</th>\n",
       "      <td>(Hot chocolate)</td>\n",
       "      <td>(Coffee)</td>\n",
       "      <td>0.058320</td>\n",
       "      <td>0.478394</td>\n",
       "      <td>0.029583</td>\n",
       "      <td>0.507246</td>\n",
       "      <td>1.060311</td>\n",
       "      <td>0.001683</td>\n",
       "      <td>1.058553</td>\n",
       "    </tr>\n",
       "    <tr>\n",
       "      <th>4</th>\n",
       "      <td>(Brownie)</td>\n",
       "      <td>(Coffee)</td>\n",
       "      <td>0.040042</td>\n",
       "      <td>0.478394</td>\n",
       "      <td>0.019651</td>\n",
       "      <td>0.490765</td>\n",
       "      <td>1.025860</td>\n",
       "      <td>0.000495</td>\n",
       "      <td>1.024293</td>\n",
       "    </tr>\n",
       "    <tr>\n",
       "      <th>20</th>\n",
       "      <td>(Muffin)</td>\n",
       "      <td>(Coffee)</td>\n",
       "      <td>0.038457</td>\n",
       "      <td>0.478394</td>\n",
       "      <td>0.018806</td>\n",
       "      <td>0.489011</td>\n",
       "      <td>1.022193</td>\n",
       "      <td>0.000408</td>\n",
       "      <td>1.020777</td>\n",
       "    </tr>\n",
       "    <tr>\n",
       "      <th>2</th>\n",
       "      <td>(Pastry)</td>\n",
       "      <td>(Bread)</td>\n",
       "      <td>0.086107</td>\n",
       "      <td>0.327205</td>\n",
       "      <td>0.029160</td>\n",
       "      <td>0.338650</td>\n",
       "      <td>1.034977</td>\n",
       "      <td>0.000985</td>\n",
       "      <td>1.017305</td>\n",
       "    </tr>\n",
       "    <tr>\n",
       "      <th>10</th>\n",
       "      <td>(Cake)</td>\n",
       "      <td>(Tea)</td>\n",
       "      <td>0.103856</td>\n",
       "      <td>0.142631</td>\n",
       "      <td>0.023772</td>\n",
       "      <td>0.228891</td>\n",
       "      <td>1.604781</td>\n",
       "      <td>0.008959</td>\n",
       "      <td>1.111865</td>\n",
       "    </tr>\n",
       "    <tr>\n",
       "      <th>39</th>\n",
       "      <td>(Tea, Coffee)</td>\n",
       "      <td>(Cake)</td>\n",
       "      <td>0.049868</td>\n",
       "      <td>0.103856</td>\n",
       "      <td>0.010037</td>\n",
       "      <td>0.201271</td>\n",
       "      <td>1.937977</td>\n",
       "      <td>0.004858</td>\n",
       "      <td>1.121962</td>\n",
       "    </tr>\n",
       "    <tr>\n",
       "      <th>33</th>\n",
       "      <td>(Sandwich)</td>\n",
       "      <td>(Tea)</td>\n",
       "      <td>0.071844</td>\n",
       "      <td>0.142631</td>\n",
       "      <td>0.014369</td>\n",
       "      <td>0.200000</td>\n",
       "      <td>1.402222</td>\n",
       "      <td>0.004122</td>\n",
       "      <td>1.071712</td>\n",
       "    </tr>\n",
       "    <tr>\n",
       "      <th>9</th>\n",
       "      <td>(Hot chocolate)</td>\n",
       "      <td>(Cake)</td>\n",
       "      <td>0.058320</td>\n",
       "      <td>0.103856</td>\n",
       "      <td>0.011410</td>\n",
       "      <td>0.195652</td>\n",
       "      <td>1.883874</td>\n",
       "      <td>0.005354</td>\n",
       "      <td>1.114125</td>\n",
       "    </tr>\n",
       "    <tr>\n",
       "      <th>38</th>\n",
       "      <td>(Cake, Coffee)</td>\n",
       "      <td>(Tea)</td>\n",
       "      <td>0.054728</td>\n",
       "      <td>0.142631</td>\n",
       "      <td>0.010037</td>\n",
       "      <td>0.183398</td>\n",
       "      <td>1.285822</td>\n",
       "      <td>0.002231</td>\n",
       "      <td>1.049923</td>\n",
       "    </tr>\n",
       "    <tr>\n",
       "      <th>11</th>\n",
       "      <td>(Tea)</td>\n",
       "      <td>(Cake)</td>\n",
       "      <td>0.142631</td>\n",
       "      <td>0.103856</td>\n",
       "      <td>0.023772</td>\n",
       "      <td>0.166667</td>\n",
       "      <td>1.604781</td>\n",
       "      <td>0.008959</td>\n",
       "      <td>1.075372</td>\n",
       "    </tr>\n",
       "    <tr>\n",
       "      <th>37</th>\n",
       "      <td>(Pastry)</td>\n",
       "      <td>(Bread, Coffee)</td>\n",
       "      <td>0.086107</td>\n",
       "      <td>0.090016</td>\n",
       "      <td>0.011199</td>\n",
       "      <td>0.130061</td>\n",
       "      <td>1.444872</td>\n",
       "      <td>0.003448</td>\n",
       "      <td>1.046033</td>\n",
       "    </tr>\n",
       "    <tr>\n",
       "      <th>36</th>\n",
       "      <td>(Bread, Coffee)</td>\n",
       "      <td>(Pastry)</td>\n",
       "      <td>0.090016</td>\n",
       "      <td>0.086107</td>\n",
       "      <td>0.011199</td>\n",
       "      <td>0.124413</td>\n",
       "      <td>1.444872</td>\n",
       "      <td>0.003448</td>\n",
       "      <td>1.043749</td>\n",
       "    </tr>\n",
       "    <tr>\n",
       "      <th>7</th>\n",
       "      <td>(Coffee)</td>\n",
       "      <td>(Cake)</td>\n",
       "      <td>0.478394</td>\n",
       "      <td>0.103856</td>\n",
       "      <td>0.054728</td>\n",
       "      <td>0.114399</td>\n",
       "      <td>1.101515</td>\n",
       "      <td>0.005044</td>\n",
       "      <td>1.011905</td>\n",
       "    </tr>\n",
       "    <tr>\n",
       "      <th>34</th>\n",
       "      <td>(Bread, Coffee)</td>\n",
       "      <td>(Cake)</td>\n",
       "      <td>0.090016</td>\n",
       "      <td>0.103856</td>\n",
       "      <td>0.010037</td>\n",
       "      <td>0.111502</td>\n",
       "      <td>1.073621</td>\n",
       "      <td>0.000688</td>\n",
       "      <td>1.008606</td>\n",
       "    </tr>\n",
       "    <tr>\n",
       "      <th>8</th>\n",
       "      <td>(Cake)</td>\n",
       "      <td>(Hot chocolate)</td>\n",
       "      <td>0.103856</td>\n",
       "      <td>0.058320</td>\n",
       "      <td>0.011410</td>\n",
       "      <td>0.109868</td>\n",
       "      <td>1.883874</td>\n",
       "      <td>0.005354</td>\n",
       "      <td>1.057910</td>\n",
       "    </tr>\n",
       "    <tr>\n",
       "      <th>32</th>\n",
       "      <td>(Tea)</td>\n",
       "      <td>(Sandwich)</td>\n",
       "      <td>0.142631</td>\n",
       "      <td>0.071844</td>\n",
       "      <td>0.014369</td>\n",
       "      <td>0.100741</td>\n",
       "      <td>1.402222</td>\n",
       "      <td>0.004122</td>\n",
       "      <td>1.032134</td>\n",
       "    </tr>\n",
       "    <tr>\n",
       "      <th>23</th>\n",
       "      <td>(Coffee)</td>\n",
       "      <td>(Pastry)</td>\n",
       "      <td>0.478394</td>\n",
       "      <td>0.086107</td>\n",
       "      <td>0.047544</td>\n",
       "      <td>0.099382</td>\n",
       "      <td>1.154168</td>\n",
       "      <td>0.006351</td>\n",
       "      <td>1.014740</td>\n",
       "    </tr>\n",
       "    <tr>\n",
       "      <th>40</th>\n",
       "      <td>(Cake)</td>\n",
       "      <td>(Tea, Coffee)</td>\n",
       "      <td>0.103856</td>\n",
       "      <td>0.049868</td>\n",
       "      <td>0.010037</td>\n",
       "      <td>0.096643</td>\n",
       "      <td>1.937977</td>\n",
       "      <td>0.004858</td>\n",
       "      <td>1.051779</td>\n",
       "    </tr>\n",
       "    <tr>\n",
       "      <th>35</th>\n",
       "      <td>(Cake)</td>\n",
       "      <td>(Bread, Coffee)</td>\n",
       "      <td>0.103856</td>\n",
       "      <td>0.090016</td>\n",
       "      <td>0.010037</td>\n",
       "      <td>0.096643</td>\n",
       "      <td>1.073621</td>\n",
       "      <td>0.000688</td>\n",
       "      <td>1.007336</td>\n",
       "    </tr>\n",
       "    <tr>\n",
       "      <th>3</th>\n",
       "      <td>(Bread)</td>\n",
       "      <td>(Pastry)</td>\n",
       "      <td>0.327205</td>\n",
       "      <td>0.086107</td>\n",
       "      <td>0.029160</td>\n",
       "      <td>0.089119</td>\n",
       "      <td>1.034977</td>\n",
       "      <td>0.000985</td>\n",
       "      <td>1.003306</td>\n",
       "    </tr>\n",
       "    <tr>\n",
       "      <th>25</th>\n",
       "      <td>(Coffee)</td>\n",
       "      <td>(Sandwich)</td>\n",
       "      <td>0.478394</td>\n",
       "      <td>0.071844</td>\n",
       "      <td>0.038246</td>\n",
       "      <td>0.079947</td>\n",
       "      <td>1.112792</td>\n",
       "      <td>0.003877</td>\n",
       "      <td>1.008807</td>\n",
       "    </tr>\n",
       "    <tr>\n",
       "      <th>19</th>\n",
       "      <td>(Coffee)</td>\n",
       "      <td>(Medialuna)</td>\n",
       "      <td>0.478394</td>\n",
       "      <td>0.061807</td>\n",
       "      <td>0.035182</td>\n",
       "      <td>0.073542</td>\n",
       "      <td>1.189878</td>\n",
       "      <td>0.005614</td>\n",
       "      <td>1.012667</td>\n",
       "    </tr>\n",
       "    <tr>\n",
       "      <th>41</th>\n",
       "      <td>(Tea)</td>\n",
       "      <td>(Cake, Coffee)</td>\n",
       "      <td>0.142631</td>\n",
       "      <td>0.054728</td>\n",
       "      <td>0.010037</td>\n",
       "      <td>0.070370</td>\n",
       "      <td>1.285822</td>\n",
       "      <td>0.002231</td>\n",
       "      <td>1.016827</td>\n",
       "    </tr>\n",
       "    <tr>\n",
       "      <th>15</th>\n",
       "      <td>(Coffee)</td>\n",
       "      <td>(Hot chocolate)</td>\n",
       "      <td>0.478394</td>\n",
       "      <td>0.058320</td>\n",
       "      <td>0.029583</td>\n",
       "      <td>0.061837</td>\n",
       "      <td>1.060311</td>\n",
       "      <td>0.001683</td>\n",
       "      <td>1.003749</td>\n",
       "    </tr>\n",
       "    <tr>\n",
       "      <th>12</th>\n",
       "      <td>(Coffee)</td>\n",
       "      <td>(Cookies)</td>\n",
       "      <td>0.478394</td>\n",
       "      <td>0.054411</td>\n",
       "      <td>0.028209</td>\n",
       "      <td>0.058966</td>\n",
       "      <td>1.083723</td>\n",
       "      <td>0.002179</td>\n",
       "      <td>1.004841</td>\n",
       "    </tr>\n",
       "    <tr>\n",
       "      <th>31</th>\n",
       "      <td>(Coffee)</td>\n",
       "      <td>(Toast)</td>\n",
       "      <td>0.478394</td>\n",
       "      <td>0.033597</td>\n",
       "      <td>0.023666</td>\n",
       "      <td>0.049470</td>\n",
       "      <td>1.472431</td>\n",
       "      <td>0.007593</td>\n",
       "      <td>1.016699</td>\n",
       "    </tr>\n",
       "    <tr>\n",
       "      <th>16</th>\n",
       "      <td>(Coffee)</td>\n",
       "      <td>(Juice)</td>\n",
       "      <td>0.478394</td>\n",
       "      <td>0.038563</td>\n",
       "      <td>0.020602</td>\n",
       "      <td>0.043065</td>\n",
       "      <td>1.116750</td>\n",
       "      <td>0.002154</td>\n",
       "      <td>1.004705</td>\n",
       "    </tr>\n",
       "    <tr>\n",
       "      <th>0</th>\n",
       "      <td>(Coffee)</td>\n",
       "      <td>(Alfajores)</td>\n",
       "      <td>0.478394</td>\n",
       "      <td>0.036344</td>\n",
       "      <td>0.019651</td>\n",
       "      <td>0.041078</td>\n",
       "      <td>1.130235</td>\n",
       "      <td>0.002264</td>\n",
       "      <td>1.004936</td>\n",
       "    </tr>\n",
       "    <tr>\n",
       "      <th>5</th>\n",
       "      <td>(Coffee)</td>\n",
       "      <td>(Brownie)</td>\n",
       "      <td>0.478394</td>\n",
       "      <td>0.040042</td>\n",
       "      <td>0.019651</td>\n",
       "      <td>0.041078</td>\n",
       "      <td>1.025860</td>\n",
       "      <td>0.000495</td>\n",
       "      <td>1.001080</td>\n",
       "    </tr>\n",
       "    <tr>\n",
       "      <th>21</th>\n",
       "      <td>(Coffee)</td>\n",
       "      <td>(Muffin)</td>\n",
       "      <td>0.478394</td>\n",
       "      <td>0.038457</td>\n",
       "      <td>0.018806</td>\n",
       "      <td>0.039311</td>\n",
       "      <td>1.022193</td>\n",
       "      <td>0.000408</td>\n",
       "      <td>1.000888</td>\n",
       "    </tr>\n",
       "    <tr>\n",
       "      <th>27</th>\n",
       "      <td>(Coffee)</td>\n",
       "      <td>(Scone)</td>\n",
       "      <td>0.478394</td>\n",
       "      <td>0.034548</td>\n",
       "      <td>0.018067</td>\n",
       "      <td>0.037765</td>\n",
       "      <td>1.093107</td>\n",
       "      <td>0.001539</td>\n",
       "      <td>1.003343</td>\n",
       "    </tr>\n",
       "    <tr>\n",
       "      <th>29</th>\n",
       "      <td>(Coffee)</td>\n",
       "      <td>(Spanish Brunch)</td>\n",
       "      <td>0.478394</td>\n",
       "      <td>0.018172</td>\n",
       "      <td>0.010882</td>\n",
       "      <td>0.022747</td>\n",
       "      <td>1.251766</td>\n",
       "      <td>0.002189</td>\n",
       "      <td>1.004682</td>\n",
       "    </tr>\n",
       "  </tbody>\n",
       "</table>\n",
       "</div>"
      ],
      "text/plain": [
       "         antecedents       consequents  antecedent support  \\\n",
       "30           (Toast)          (Coffee)            0.033597   \n",
       "28  (Spanish Brunch)          (Coffee)            0.018172   \n",
       "18       (Medialuna)          (Coffee)            0.061807   \n",
       "22          (Pastry)          (Coffee)            0.086107   \n",
       "1        (Alfajores)          (Coffee)            0.036344   \n",
       "17           (Juice)          (Coffee)            0.038563   \n",
       "24        (Sandwich)          (Coffee)            0.071844   \n",
       "6             (Cake)          (Coffee)            0.103856   \n",
       "26           (Scone)          (Coffee)            0.034548   \n",
       "13         (Cookies)          (Coffee)            0.054411   \n",
       "14   (Hot chocolate)          (Coffee)            0.058320   \n",
       "4          (Brownie)          (Coffee)            0.040042   \n",
       "20          (Muffin)          (Coffee)            0.038457   \n",
       "2           (Pastry)           (Bread)            0.086107   \n",
       "10            (Cake)             (Tea)            0.103856   \n",
       "39     (Tea, Coffee)            (Cake)            0.049868   \n",
       "33        (Sandwich)             (Tea)            0.071844   \n",
       "9    (Hot chocolate)            (Cake)            0.058320   \n",
       "38    (Cake, Coffee)             (Tea)            0.054728   \n",
       "11             (Tea)            (Cake)            0.142631   \n",
       "37          (Pastry)   (Bread, Coffee)            0.086107   \n",
       "36   (Bread, Coffee)          (Pastry)            0.090016   \n",
       "7           (Coffee)            (Cake)            0.478394   \n",
       "34   (Bread, Coffee)            (Cake)            0.090016   \n",
       "8             (Cake)   (Hot chocolate)            0.103856   \n",
       "32             (Tea)        (Sandwich)            0.142631   \n",
       "23          (Coffee)          (Pastry)            0.478394   \n",
       "40            (Cake)     (Tea, Coffee)            0.103856   \n",
       "35            (Cake)   (Bread, Coffee)            0.103856   \n",
       "3            (Bread)          (Pastry)            0.327205   \n",
       "25          (Coffee)        (Sandwich)            0.478394   \n",
       "19          (Coffee)       (Medialuna)            0.478394   \n",
       "41             (Tea)    (Cake, Coffee)            0.142631   \n",
       "15          (Coffee)   (Hot chocolate)            0.478394   \n",
       "12          (Coffee)         (Cookies)            0.478394   \n",
       "31          (Coffee)           (Toast)            0.478394   \n",
       "16          (Coffee)           (Juice)            0.478394   \n",
       "0           (Coffee)       (Alfajores)            0.478394   \n",
       "5           (Coffee)         (Brownie)            0.478394   \n",
       "21          (Coffee)          (Muffin)            0.478394   \n",
       "27          (Coffee)           (Scone)            0.478394   \n",
       "29          (Coffee)  (Spanish Brunch)            0.478394   \n",
       "\n",
       "    consequent support   support  confidence      lift  leverage  conviction  \n",
       "30            0.478394  0.023666    0.704403  1.472431  0.007593    1.764582  \n",
       "28            0.478394  0.010882    0.598837  1.251766  0.002189    1.300235  \n",
       "18            0.478394  0.035182    0.569231  1.189878  0.005614    1.210871  \n",
       "22            0.478394  0.047544    0.552147  1.154168  0.006351    1.164682  \n",
       "1             0.478394  0.019651    0.540698  1.130235  0.002264    1.135648  \n",
       "17            0.478394  0.020602    0.534247  1.116750  0.002154    1.119919  \n",
       "24            0.478394  0.038246    0.532353  1.112792  0.003877    1.115384  \n",
       "6             0.478394  0.054728    0.526958  1.101515  0.005044    1.102664  \n",
       "26            0.478394  0.018067    0.522936  1.093107  0.001539    1.093366  \n",
       "13            0.478394  0.028209    0.518447  1.083723  0.002179    1.083174  \n",
       "14            0.478394  0.029583    0.507246  1.060311  0.001683    1.058553  \n",
       "4             0.478394  0.019651    0.490765  1.025860  0.000495    1.024293  \n",
       "20            0.478394  0.018806    0.489011  1.022193  0.000408    1.020777  \n",
       "2             0.327205  0.029160    0.338650  1.034977  0.000985    1.017305  \n",
       "10            0.142631  0.023772    0.228891  1.604781  0.008959    1.111865  \n",
       "39            0.103856  0.010037    0.201271  1.937977  0.004858    1.121962  \n",
       "33            0.142631  0.014369    0.200000  1.402222  0.004122    1.071712  \n",
       "9             0.103856  0.011410    0.195652  1.883874  0.005354    1.114125  \n",
       "38            0.142631  0.010037    0.183398  1.285822  0.002231    1.049923  \n",
       "11            0.103856  0.023772    0.166667  1.604781  0.008959    1.075372  \n",
       "37            0.090016  0.011199    0.130061  1.444872  0.003448    1.046033  \n",
       "36            0.086107  0.011199    0.124413  1.444872  0.003448    1.043749  \n",
       "7             0.103856  0.054728    0.114399  1.101515  0.005044    1.011905  \n",
       "34            0.103856  0.010037    0.111502  1.073621  0.000688    1.008606  \n",
       "8             0.058320  0.011410    0.109868  1.883874  0.005354    1.057910  \n",
       "32            0.071844  0.014369    0.100741  1.402222  0.004122    1.032134  \n",
       "23            0.086107  0.047544    0.099382  1.154168  0.006351    1.014740  \n",
       "40            0.049868  0.010037    0.096643  1.937977  0.004858    1.051779  \n",
       "35            0.090016  0.010037    0.096643  1.073621  0.000688    1.007336  \n",
       "3             0.086107  0.029160    0.089119  1.034977  0.000985    1.003306  \n",
       "25            0.071844  0.038246    0.079947  1.112792  0.003877    1.008807  \n",
       "19            0.061807  0.035182    0.073542  1.189878  0.005614    1.012667  \n",
       "41            0.054728  0.010037    0.070370  1.285822  0.002231    1.016827  \n",
       "15            0.058320  0.029583    0.061837  1.060311  0.001683    1.003749  \n",
       "12            0.054411  0.028209    0.058966  1.083723  0.002179    1.004841  \n",
       "31            0.033597  0.023666    0.049470  1.472431  0.007593    1.016699  \n",
       "16            0.038563  0.020602    0.043065  1.116750  0.002154    1.004705  \n",
       "0             0.036344  0.019651    0.041078  1.130235  0.002264    1.004936  \n",
       "5             0.040042  0.019651    0.041078  1.025860  0.000495    1.001080  \n",
       "21            0.038457  0.018806    0.039311  1.022193  0.000408    1.000888  \n",
       "27            0.034548  0.018067    0.037765  1.093107  0.001539    1.003343  \n",
       "29            0.018172  0.010882    0.022747  1.251766  0.002189    1.004682  "
      ]
     },
     "execution_count": 52,
     "metadata": {},
     "output_type": "execute_result"
    }
   ],
   "source": [
    "##Sort the values by confidence to se likelihood that an item is boughtif its antecedent is bought.\n",
    "rules.sort_values('confidence', ascending=False)"
   ]
  },
  {
   "cell_type": "code",
   "execution_count": 53,
   "metadata": {
    "colab": {
     "base_uri": "https://localhost:8080/",
     "height": 1000
    },
    "executionInfo": {
     "elapsed": 13330,
     "status": "ok",
     "timestamp": 1604129705495,
     "user": {
      "displayName": "Imad Khanzada",
      "photoUrl": "https://lh3.googleusercontent.com/a-/AOh14GglUSPC1xTBFmnNxhIdCYGqq_23ydifOGEG9nMW=s64",
      "userId": "18384988035224797336"
     },
     "user_tz": -330
    },
    "id": "PW7FT0yOkEOW",
    "outputId": "2c78a15c-6952-4c64-8d89-8606e3ca5c33"
   },
   "outputs": [
    {
     "data": {
      "text/html": [
       "<div>\n",
       "<style scoped>\n",
       "    .dataframe tbody tr th:only-of-type {\n",
       "        vertical-align: middle;\n",
       "    }\n",
       "\n",
       "    .dataframe tbody tr th {\n",
       "        vertical-align: top;\n",
       "    }\n",
       "\n",
       "    .dataframe thead th {\n",
       "        text-align: right;\n",
       "    }\n",
       "</style>\n",
       "<table border=\"1\" class=\"dataframe\">\n",
       "  <thead>\n",
       "    <tr style=\"text-align: right;\">\n",
       "      <th></th>\n",
       "      <th>antecedents</th>\n",
       "      <th>consequents</th>\n",
       "      <th>antecedent support</th>\n",
       "      <th>consequent support</th>\n",
       "      <th>support</th>\n",
       "      <th>confidence</th>\n",
       "      <th>lift</th>\n",
       "      <th>leverage</th>\n",
       "      <th>conviction</th>\n",
       "    </tr>\n",
       "  </thead>\n",
       "  <tbody>\n",
       "    <tr>\n",
       "      <th>1</th>\n",
       "      <td>(Alfajores)</td>\n",
       "      <td>(Coffee)</td>\n",
       "      <td>0.036344</td>\n",
       "      <td>0.478394</td>\n",
       "      <td>0.019651</td>\n",
       "      <td>0.540698</td>\n",
       "      <td>1.130235</td>\n",
       "      <td>0.002264</td>\n",
       "      <td>1.135648</td>\n",
       "    </tr>\n",
       "    <tr>\n",
       "      <th>2</th>\n",
       "      <td>(Pastry)</td>\n",
       "      <td>(Bread)</td>\n",
       "      <td>0.086107</td>\n",
       "      <td>0.327205</td>\n",
       "      <td>0.029160</td>\n",
       "      <td>0.338650</td>\n",
       "      <td>1.034977</td>\n",
       "      <td>0.000985</td>\n",
       "      <td>1.017305</td>\n",
       "    </tr>\n",
       "    <tr>\n",
       "      <th>3</th>\n",
       "      <td>(Bread)</td>\n",
       "      <td>(Pastry)</td>\n",
       "      <td>0.327205</td>\n",
       "      <td>0.086107</td>\n",
       "      <td>0.029160</td>\n",
       "      <td>0.089119</td>\n",
       "      <td>1.034977</td>\n",
       "      <td>0.000985</td>\n",
       "      <td>1.003306</td>\n",
       "    </tr>\n",
       "    <tr>\n",
       "      <th>4</th>\n",
       "      <td>(Brownie)</td>\n",
       "      <td>(Coffee)</td>\n",
       "      <td>0.040042</td>\n",
       "      <td>0.478394</td>\n",
       "      <td>0.019651</td>\n",
       "      <td>0.490765</td>\n",
       "      <td>1.025860</td>\n",
       "      <td>0.000495</td>\n",
       "      <td>1.024293</td>\n",
       "    </tr>\n",
       "    <tr>\n",
       "      <th>6</th>\n",
       "      <td>(Cake)</td>\n",
       "      <td>(Coffee)</td>\n",
       "      <td>0.103856</td>\n",
       "      <td>0.478394</td>\n",
       "      <td>0.054728</td>\n",
       "      <td>0.526958</td>\n",
       "      <td>1.101515</td>\n",
       "      <td>0.005044</td>\n",
       "      <td>1.102664</td>\n",
       "    </tr>\n",
       "    <tr>\n",
       "      <th>7</th>\n",
       "      <td>(Coffee)</td>\n",
       "      <td>(Cake)</td>\n",
       "      <td>0.478394</td>\n",
       "      <td>0.103856</td>\n",
       "      <td>0.054728</td>\n",
       "      <td>0.114399</td>\n",
       "      <td>1.101515</td>\n",
       "      <td>0.005044</td>\n",
       "      <td>1.011905</td>\n",
       "    </tr>\n",
       "    <tr>\n",
       "      <th>8</th>\n",
       "      <td>(Cake)</td>\n",
       "      <td>(Hot chocolate)</td>\n",
       "      <td>0.103856</td>\n",
       "      <td>0.058320</td>\n",
       "      <td>0.011410</td>\n",
       "      <td>0.109868</td>\n",
       "      <td>1.883874</td>\n",
       "      <td>0.005354</td>\n",
       "      <td>1.057910</td>\n",
       "    </tr>\n",
       "    <tr>\n",
       "      <th>9</th>\n",
       "      <td>(Hot chocolate)</td>\n",
       "      <td>(Cake)</td>\n",
       "      <td>0.058320</td>\n",
       "      <td>0.103856</td>\n",
       "      <td>0.011410</td>\n",
       "      <td>0.195652</td>\n",
       "      <td>1.883874</td>\n",
       "      <td>0.005354</td>\n",
       "      <td>1.114125</td>\n",
       "    </tr>\n",
       "    <tr>\n",
       "      <th>10</th>\n",
       "      <td>(Cake)</td>\n",
       "      <td>(Tea)</td>\n",
       "      <td>0.103856</td>\n",
       "      <td>0.142631</td>\n",
       "      <td>0.023772</td>\n",
       "      <td>0.228891</td>\n",
       "      <td>1.604781</td>\n",
       "      <td>0.008959</td>\n",
       "      <td>1.111865</td>\n",
       "    </tr>\n",
       "    <tr>\n",
       "      <th>11</th>\n",
       "      <td>(Tea)</td>\n",
       "      <td>(Cake)</td>\n",
       "      <td>0.142631</td>\n",
       "      <td>0.103856</td>\n",
       "      <td>0.023772</td>\n",
       "      <td>0.166667</td>\n",
       "      <td>1.604781</td>\n",
       "      <td>0.008959</td>\n",
       "      <td>1.075372</td>\n",
       "    </tr>\n",
       "    <tr>\n",
       "      <th>12</th>\n",
       "      <td>(Coffee)</td>\n",
       "      <td>(Cookies)</td>\n",
       "      <td>0.478394</td>\n",
       "      <td>0.054411</td>\n",
       "      <td>0.028209</td>\n",
       "      <td>0.058966</td>\n",
       "      <td>1.083723</td>\n",
       "      <td>0.002179</td>\n",
       "      <td>1.004841</td>\n",
       "    </tr>\n",
       "    <tr>\n",
       "      <th>13</th>\n",
       "      <td>(Cookies)</td>\n",
       "      <td>(Coffee)</td>\n",
       "      <td>0.054411</td>\n",
       "      <td>0.478394</td>\n",
       "      <td>0.028209</td>\n",
       "      <td>0.518447</td>\n",
       "      <td>1.083723</td>\n",
       "      <td>0.002179</td>\n",
       "      <td>1.083174</td>\n",
       "    </tr>\n",
       "    <tr>\n",
       "      <th>14</th>\n",
       "      <td>(Hot chocolate)</td>\n",
       "      <td>(Coffee)</td>\n",
       "      <td>0.058320</td>\n",
       "      <td>0.478394</td>\n",
       "      <td>0.029583</td>\n",
       "      <td>0.507246</td>\n",
       "      <td>1.060311</td>\n",
       "      <td>0.001683</td>\n",
       "      <td>1.058553</td>\n",
       "    </tr>\n",
       "    <tr>\n",
       "      <th>15</th>\n",
       "      <td>(Coffee)</td>\n",
       "      <td>(Hot chocolate)</td>\n",
       "      <td>0.478394</td>\n",
       "      <td>0.058320</td>\n",
       "      <td>0.029583</td>\n",
       "      <td>0.061837</td>\n",
       "      <td>1.060311</td>\n",
       "      <td>0.001683</td>\n",
       "      <td>1.003749</td>\n",
       "    </tr>\n",
       "    <tr>\n",
       "      <th>17</th>\n",
       "      <td>(Juice)</td>\n",
       "      <td>(Coffee)</td>\n",
       "      <td>0.038563</td>\n",
       "      <td>0.478394</td>\n",
       "      <td>0.020602</td>\n",
       "      <td>0.534247</td>\n",
       "      <td>1.116750</td>\n",
       "      <td>0.002154</td>\n",
       "      <td>1.119919</td>\n",
       "    </tr>\n",
       "    <tr>\n",
       "      <th>18</th>\n",
       "      <td>(Medialuna)</td>\n",
       "      <td>(Coffee)</td>\n",
       "      <td>0.061807</td>\n",
       "      <td>0.478394</td>\n",
       "      <td>0.035182</td>\n",
       "      <td>0.569231</td>\n",
       "      <td>1.189878</td>\n",
       "      <td>0.005614</td>\n",
       "      <td>1.210871</td>\n",
       "    </tr>\n",
       "    <tr>\n",
       "      <th>19</th>\n",
       "      <td>(Coffee)</td>\n",
       "      <td>(Medialuna)</td>\n",
       "      <td>0.478394</td>\n",
       "      <td>0.061807</td>\n",
       "      <td>0.035182</td>\n",
       "      <td>0.073542</td>\n",
       "      <td>1.189878</td>\n",
       "      <td>0.005614</td>\n",
       "      <td>1.012667</td>\n",
       "    </tr>\n",
       "    <tr>\n",
       "      <th>20</th>\n",
       "      <td>(Muffin)</td>\n",
       "      <td>(Coffee)</td>\n",
       "      <td>0.038457</td>\n",
       "      <td>0.478394</td>\n",
       "      <td>0.018806</td>\n",
       "      <td>0.489011</td>\n",
       "      <td>1.022193</td>\n",
       "      <td>0.000408</td>\n",
       "      <td>1.020777</td>\n",
       "    </tr>\n",
       "    <tr>\n",
       "      <th>22</th>\n",
       "      <td>(Pastry)</td>\n",
       "      <td>(Coffee)</td>\n",
       "      <td>0.086107</td>\n",
       "      <td>0.478394</td>\n",
       "      <td>0.047544</td>\n",
       "      <td>0.552147</td>\n",
       "      <td>1.154168</td>\n",
       "      <td>0.006351</td>\n",
       "      <td>1.164682</td>\n",
       "    </tr>\n",
       "    <tr>\n",
       "      <th>23</th>\n",
       "      <td>(Coffee)</td>\n",
       "      <td>(Pastry)</td>\n",
       "      <td>0.478394</td>\n",
       "      <td>0.086107</td>\n",
       "      <td>0.047544</td>\n",
       "      <td>0.099382</td>\n",
       "      <td>1.154168</td>\n",
       "      <td>0.006351</td>\n",
       "      <td>1.014740</td>\n",
       "    </tr>\n",
       "    <tr>\n",
       "      <th>24</th>\n",
       "      <td>(Sandwich)</td>\n",
       "      <td>(Coffee)</td>\n",
       "      <td>0.071844</td>\n",
       "      <td>0.478394</td>\n",
       "      <td>0.038246</td>\n",
       "      <td>0.532353</td>\n",
       "      <td>1.112792</td>\n",
       "      <td>0.003877</td>\n",
       "      <td>1.115384</td>\n",
       "    </tr>\n",
       "    <tr>\n",
       "      <th>25</th>\n",
       "      <td>(Coffee)</td>\n",
       "      <td>(Sandwich)</td>\n",
       "      <td>0.478394</td>\n",
       "      <td>0.071844</td>\n",
       "      <td>0.038246</td>\n",
       "      <td>0.079947</td>\n",
       "      <td>1.112792</td>\n",
       "      <td>0.003877</td>\n",
       "      <td>1.008807</td>\n",
       "    </tr>\n",
       "    <tr>\n",
       "      <th>26</th>\n",
       "      <td>(Scone)</td>\n",
       "      <td>(Coffee)</td>\n",
       "      <td>0.034548</td>\n",
       "      <td>0.478394</td>\n",
       "      <td>0.018067</td>\n",
       "      <td>0.522936</td>\n",
       "      <td>1.093107</td>\n",
       "      <td>0.001539</td>\n",
       "      <td>1.093366</td>\n",
       "    </tr>\n",
       "    <tr>\n",
       "      <th>28</th>\n",
       "      <td>(Spanish Brunch)</td>\n",
       "      <td>(Coffee)</td>\n",
       "      <td>0.018172</td>\n",
       "      <td>0.478394</td>\n",
       "      <td>0.010882</td>\n",
       "      <td>0.598837</td>\n",
       "      <td>1.251766</td>\n",
       "      <td>0.002189</td>\n",
       "      <td>1.300235</td>\n",
       "    </tr>\n",
       "    <tr>\n",
       "      <th>30</th>\n",
       "      <td>(Toast)</td>\n",
       "      <td>(Coffee)</td>\n",
       "      <td>0.033597</td>\n",
       "      <td>0.478394</td>\n",
       "      <td>0.023666</td>\n",
       "      <td>0.704403</td>\n",
       "      <td>1.472431</td>\n",
       "      <td>0.007593</td>\n",
       "      <td>1.764582</td>\n",
       "    </tr>\n",
       "    <tr>\n",
       "      <th>32</th>\n",
       "      <td>(Tea)</td>\n",
       "      <td>(Sandwich)</td>\n",
       "      <td>0.142631</td>\n",
       "      <td>0.071844</td>\n",
       "      <td>0.014369</td>\n",
       "      <td>0.100741</td>\n",
       "      <td>1.402222</td>\n",
       "      <td>0.004122</td>\n",
       "      <td>1.032134</td>\n",
       "    </tr>\n",
       "    <tr>\n",
       "      <th>33</th>\n",
       "      <td>(Sandwich)</td>\n",
       "      <td>(Tea)</td>\n",
       "      <td>0.071844</td>\n",
       "      <td>0.142631</td>\n",
       "      <td>0.014369</td>\n",
       "      <td>0.200000</td>\n",
       "      <td>1.402222</td>\n",
       "      <td>0.004122</td>\n",
       "      <td>1.071712</td>\n",
       "    </tr>\n",
       "    <tr>\n",
       "      <th>34</th>\n",
       "      <td>(Bread, Coffee)</td>\n",
       "      <td>(Cake)</td>\n",
       "      <td>0.090016</td>\n",
       "      <td>0.103856</td>\n",
       "      <td>0.010037</td>\n",
       "      <td>0.111502</td>\n",
       "      <td>1.073621</td>\n",
       "      <td>0.000688</td>\n",
       "      <td>1.008606</td>\n",
       "    </tr>\n",
       "    <tr>\n",
       "      <th>35</th>\n",
       "      <td>(Cake)</td>\n",
       "      <td>(Bread, Coffee)</td>\n",
       "      <td>0.103856</td>\n",
       "      <td>0.090016</td>\n",
       "      <td>0.010037</td>\n",
       "      <td>0.096643</td>\n",
       "      <td>1.073621</td>\n",
       "      <td>0.000688</td>\n",
       "      <td>1.007336</td>\n",
       "    </tr>\n",
       "    <tr>\n",
       "      <th>36</th>\n",
       "      <td>(Bread, Coffee)</td>\n",
       "      <td>(Pastry)</td>\n",
       "      <td>0.090016</td>\n",
       "      <td>0.086107</td>\n",
       "      <td>0.011199</td>\n",
       "      <td>0.124413</td>\n",
       "      <td>1.444872</td>\n",
       "      <td>0.003448</td>\n",
       "      <td>1.043749</td>\n",
       "    </tr>\n",
       "    <tr>\n",
       "      <th>37</th>\n",
       "      <td>(Pastry)</td>\n",
       "      <td>(Bread, Coffee)</td>\n",
       "      <td>0.086107</td>\n",
       "      <td>0.090016</td>\n",
       "      <td>0.011199</td>\n",
       "      <td>0.130061</td>\n",
       "      <td>1.444872</td>\n",
       "      <td>0.003448</td>\n",
       "      <td>1.046033</td>\n",
       "    </tr>\n",
       "    <tr>\n",
       "      <th>38</th>\n",
       "      <td>(Cake, Coffee)</td>\n",
       "      <td>(Tea)</td>\n",
       "      <td>0.054728</td>\n",
       "      <td>0.142631</td>\n",
       "      <td>0.010037</td>\n",
       "      <td>0.183398</td>\n",
       "      <td>1.285822</td>\n",
       "      <td>0.002231</td>\n",
       "      <td>1.049923</td>\n",
       "    </tr>\n",
       "    <tr>\n",
       "      <th>39</th>\n",
       "      <td>(Tea, Coffee)</td>\n",
       "      <td>(Cake)</td>\n",
       "      <td>0.049868</td>\n",
       "      <td>0.103856</td>\n",
       "      <td>0.010037</td>\n",
       "      <td>0.201271</td>\n",
       "      <td>1.937977</td>\n",
       "      <td>0.004858</td>\n",
       "      <td>1.121962</td>\n",
       "    </tr>\n",
       "    <tr>\n",
       "      <th>40</th>\n",
       "      <td>(Cake)</td>\n",
       "      <td>(Tea, Coffee)</td>\n",
       "      <td>0.103856</td>\n",
       "      <td>0.049868</td>\n",
       "      <td>0.010037</td>\n",
       "      <td>0.096643</td>\n",
       "      <td>1.937977</td>\n",
       "      <td>0.004858</td>\n",
       "      <td>1.051779</td>\n",
       "    </tr>\n",
       "    <tr>\n",
       "      <th>41</th>\n",
       "      <td>(Tea)</td>\n",
       "      <td>(Cake, Coffee)</td>\n",
       "      <td>0.142631</td>\n",
       "      <td>0.054728</td>\n",
       "      <td>0.010037</td>\n",
       "      <td>0.070370</td>\n",
       "      <td>1.285822</td>\n",
       "      <td>0.002231</td>\n",
       "      <td>1.016827</td>\n",
       "    </tr>\n",
       "  </tbody>\n",
       "</table>\n",
       "</div>"
      ],
      "text/plain": [
       "         antecedents      consequents  antecedent support  consequent support  \\\n",
       "1        (Alfajores)         (Coffee)            0.036344            0.478394   \n",
       "2           (Pastry)          (Bread)            0.086107            0.327205   \n",
       "3            (Bread)         (Pastry)            0.327205            0.086107   \n",
       "4          (Brownie)         (Coffee)            0.040042            0.478394   \n",
       "6             (Cake)         (Coffee)            0.103856            0.478394   \n",
       "7           (Coffee)           (Cake)            0.478394            0.103856   \n",
       "8             (Cake)  (Hot chocolate)            0.103856            0.058320   \n",
       "9    (Hot chocolate)           (Cake)            0.058320            0.103856   \n",
       "10            (Cake)            (Tea)            0.103856            0.142631   \n",
       "11             (Tea)           (Cake)            0.142631            0.103856   \n",
       "12          (Coffee)        (Cookies)            0.478394            0.054411   \n",
       "13         (Cookies)         (Coffee)            0.054411            0.478394   \n",
       "14   (Hot chocolate)         (Coffee)            0.058320            0.478394   \n",
       "15          (Coffee)  (Hot chocolate)            0.478394            0.058320   \n",
       "17           (Juice)         (Coffee)            0.038563            0.478394   \n",
       "18       (Medialuna)         (Coffee)            0.061807            0.478394   \n",
       "19          (Coffee)      (Medialuna)            0.478394            0.061807   \n",
       "20          (Muffin)         (Coffee)            0.038457            0.478394   \n",
       "22          (Pastry)         (Coffee)            0.086107            0.478394   \n",
       "23          (Coffee)         (Pastry)            0.478394            0.086107   \n",
       "24        (Sandwich)         (Coffee)            0.071844            0.478394   \n",
       "25          (Coffee)       (Sandwich)            0.478394            0.071844   \n",
       "26           (Scone)         (Coffee)            0.034548            0.478394   \n",
       "28  (Spanish Brunch)         (Coffee)            0.018172            0.478394   \n",
       "30           (Toast)         (Coffee)            0.033597            0.478394   \n",
       "32             (Tea)       (Sandwich)            0.142631            0.071844   \n",
       "33        (Sandwich)            (Tea)            0.071844            0.142631   \n",
       "34   (Bread, Coffee)           (Cake)            0.090016            0.103856   \n",
       "35            (Cake)  (Bread, Coffee)            0.103856            0.090016   \n",
       "36   (Bread, Coffee)         (Pastry)            0.090016            0.086107   \n",
       "37          (Pastry)  (Bread, Coffee)            0.086107            0.090016   \n",
       "38    (Cake, Coffee)            (Tea)            0.054728            0.142631   \n",
       "39     (Tea, Coffee)           (Cake)            0.049868            0.103856   \n",
       "40            (Cake)    (Tea, Coffee)            0.103856            0.049868   \n",
       "41             (Tea)   (Cake, Coffee)            0.142631            0.054728   \n",
       "\n",
       "     support  confidence      lift  leverage  conviction  \n",
       "1   0.019651    0.540698  1.130235  0.002264    1.135648  \n",
       "2   0.029160    0.338650  1.034977  0.000985    1.017305  \n",
       "3   0.029160    0.089119  1.034977  0.000985    1.003306  \n",
       "4   0.019651    0.490765  1.025860  0.000495    1.024293  \n",
       "6   0.054728    0.526958  1.101515  0.005044    1.102664  \n",
       "7   0.054728    0.114399  1.101515  0.005044    1.011905  \n",
       "8   0.011410    0.109868  1.883874  0.005354    1.057910  \n",
       "9   0.011410    0.195652  1.883874  0.005354    1.114125  \n",
       "10  0.023772    0.228891  1.604781  0.008959    1.111865  \n",
       "11  0.023772    0.166667  1.604781  0.008959    1.075372  \n",
       "12  0.028209    0.058966  1.083723  0.002179    1.004841  \n",
       "13  0.028209    0.518447  1.083723  0.002179    1.083174  \n",
       "14  0.029583    0.507246  1.060311  0.001683    1.058553  \n",
       "15  0.029583    0.061837  1.060311  0.001683    1.003749  \n",
       "17  0.020602    0.534247  1.116750  0.002154    1.119919  \n",
       "18  0.035182    0.569231  1.189878  0.005614    1.210871  \n",
       "19  0.035182    0.073542  1.189878  0.005614    1.012667  \n",
       "20  0.018806    0.489011  1.022193  0.000408    1.020777  \n",
       "22  0.047544    0.552147  1.154168  0.006351    1.164682  \n",
       "23  0.047544    0.099382  1.154168  0.006351    1.014740  \n",
       "24  0.038246    0.532353  1.112792  0.003877    1.115384  \n",
       "25  0.038246    0.079947  1.112792  0.003877    1.008807  \n",
       "26  0.018067    0.522936  1.093107  0.001539    1.093366  \n",
       "28  0.010882    0.598837  1.251766  0.002189    1.300235  \n",
       "30  0.023666    0.704403  1.472431  0.007593    1.764582  \n",
       "32  0.014369    0.100741  1.402222  0.004122    1.032134  \n",
       "33  0.014369    0.200000  1.402222  0.004122    1.071712  \n",
       "34  0.010037    0.111502  1.073621  0.000688    1.008606  \n",
       "35  0.010037    0.096643  1.073621  0.000688    1.007336  \n",
       "36  0.011199    0.124413  1.444872  0.003448    1.043749  \n",
       "37  0.011199    0.130061  1.444872  0.003448    1.046033  \n",
       "38  0.010037    0.183398  1.285822  0.002231    1.049923  \n",
       "39  0.010037    0.201271  1.937977  0.004858    1.121962  \n",
       "40  0.010037    0.096643  1.937977  0.004858    1.051779  \n",
       "41  0.010037    0.070370  1.285822  0.002231    1.016827  "
      ]
     },
     "execution_count": 53,
     "metadata": {},
     "output_type": "execute_result"
    }
   ],
   "source": [
    "##Condition for most positive /strong relation\n",
    "rules[ (rules['lift'] >= 1) &\n",
    "       (rules['confidence'] >= 0.05) ]"
   ]
  },
  {
   "cell_type": "code",
   "execution_count": null,
   "metadata": {},
   "outputs": [],
   "source": []
  },
  {
   "cell_type": "code",
   "execution_count": null,
   "metadata": {},
   "outputs": [],
   "source": []
  }
 ],
 "metadata": {
  "colab": {
   "authorship_tag": "ABX9TyMvJG3Lj88PcoCgqs71xOsl",
   "collapsed_sections": [],
   "mount_file_id": "103_rotVpUr-3ka18XGsKtaLxgJtYPdF2",
   "name": "DAY 39 Assignment.ipynb",
   "provenance": []
  },
  "kernelspec": {
   "display_name": "Python 3",
   "language": "python",
   "name": "python3"
  },
  "language_info": {
   "codemirror_mode": {
    "name": "ipython",
    "version": 3
   },
   "file_extension": ".py",
   "mimetype": "text/x-python",
   "name": "python",
   "nbconvert_exporter": "python",
   "pygments_lexer": "ipython3",
   "version": "3.8.3"
  }
 },
 "nbformat": 4,
 "nbformat_minor": 1
}
