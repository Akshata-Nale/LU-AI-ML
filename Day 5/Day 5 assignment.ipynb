{
 "cells": [
  {
   "cell_type": "markdown",
   "metadata": {},
   "source": [
    "# 1.Program to find the first 20 non-even prime natural numbers."
   ]
  },
  {
   "cell_type": "code",
   "execution_count": 1,
   "metadata": {},
   "outputs": [
    {
     "name": "stdout",
     "output_type": "stream",
     "text": [
      "Enter the number:20\n",
      "2\n",
      "3\n",
      "5\n",
      "7\n",
      "11\n",
      "13\n",
      "17\n",
      "19\n",
      "23\n",
      "29\n",
      "31\n",
      "37\n",
      "41\n",
      "43\n",
      "47\n",
      "53\n",
      "59\n",
      "61\n",
      "67\n",
      "71\n"
     ]
    }
   ],
   "source": [
    "i=1\n",
    "x = int(input(\"Enter the number:\"))\n",
    "counter = 0\n",
    "while True:\n",
    "    c=0;\n",
    "    for j in range (1, (i+1), 1):\n",
    "        if (i%j==0):\n",
    "            c = c+1\n",
    "    if (c==2):\n",
    "        print (i)\n",
    "        counter = counter + 1\n",
    "        if counter >= x:\n",
    "            break\n",
    "    i=i+1\n",
    "    "
   ]
  },
  {
   "cell_type": "markdown",
   "metadata": {},
   "source": [
    "# 2.Program to implement 15 functions of string."
   ]
  },
  {
   "cell_type": "code",
   "execution_count": 46,
   "metadata": {},
   "outputs": [
    {
     "name": "stdout",
     "output_type": "stream",
     "text": [
      "1.Capitalize first letter of string: Hello there!\n",
      "2.Count of 'e'= 3\n",
      "3.Replace hello with hi:  hi there!\n",
      "4.Index of t 6\n",
      "5.To make partition from :  ('hello', ' ', 'there!')\n",
      "6.To make all Capital:  HELLO THERE!\n",
      "7.To change the case:  HELLO THERE!\n",
      "8.Join 1hello there!2hello there!3hello there!4\n",
      "9.Checks if the string only contains alphabets False\n",
      "10.To find  and return the index:  6\n",
      "11.separated from t: ('hello ', 't', 'here!')\n",
      "12.Check whether the string ends with ! True\n",
      "13.Checks whether the string is in lowercase True\n",
      "14.Checks whether all characters are whitespaces False\n",
      "15.Splits the string into list ['hello', 'there!']\n"
     ]
    }
   ],
   "source": [
    "a=\"hello there!\"\n",
    "print(\"1.Capitalize first letter of string:\",a.capitalize())\n",
    "print(\"2.Count of 'e'=\",a.count('e'))\n",
    "print(\"3.Replace hello with hi: \",a.replace('hello','hi'))\n",
    "print(\"4.Index of t\",a.index('t'))\n",
    "print(\"5.To make partition from : \",a.partition(' '))\n",
    "print(\"6.To make all Capital: \",a.upper())\n",
    "print(\"7.To change the case: \",a.swapcase())\n",
    "print(\"8.Join\",a.join('1234'))\n",
    "print(\"9.Checks if the string only contains alphabets\",a.isalpha())\n",
    "print(\"10.To find  and return the index: \",a.find('there'))\n",
    "print(\"11.separated from t:\",a.partition('t'))\n",
    "print(\"12.Check whether the string ends with !\",a.endswith('!'))\n",
    "print(\"13.Checks whether the string is in lowercase\",a.islower())\n",
    "print(\"14.Checks whether all characters are whitespaces\",a.isspace())\n",
    "print(\"15.Splits the string into list\",a.split())"
   ]
  },
  {
   "cell_type": "markdown",
   "metadata": {},
   "source": [
    "# 3.Program to check if the given string is a Palindrome or Anagram or None of them. Display the message accordingly to the user."
   ]
  },
  {
   "cell_type": "code",
   "execution_count": 49,
   "metadata": {},
   "outputs": [
    {
     "name": "stdout",
     "output_type": "stream",
     "text": [
      "Enter any string: dad\n",
      "Enter any string: add\n",
      "It is Anagram and  string 2 is Palindrome\n"
     ]
    }
   ],
   "source": [
    "str1 = input(\"Enter any string: \")\n",
    "str2 = input(\"Enter any string: \")\n",
    "if((sorted(str1) == sorted(str2)) and (str1 == str1[::-1])):\n",
    "    print(\"It is Anagram and  string 2 is Palindrome\")\n",
    "elif((sorted(str1) != sorted(str2)) and (str1 == str1[::-1])):\n",
    "    print(\"It is not Anagram but string 2 isPalindrome\")\n",
    "elif((sorted(str1) == sorted(str2)) and (str1 != str1[::-1])):\n",
    "    print(\"It is Anaram but string 2 is not Palindrome\")\n",
    "else:\n",
    "    print(\"It is neither a palindrome nor an anagram.\")"
   ]
  },
  {
   "cell_type": "markdown",
   "metadata": {},
   "source": [
    "#  4.Write a Python's user-defined function that removes all the additional characters from the string and convert it finally to lower case using built-in lower()."
   ]
  },
  {
   "cell_type": "code",
   "execution_count": 50,
   "metadata": {},
   "outputs": [
    {
     "name": "stdout",
     "output_type": "stream",
     "text": [
      "Enter any string: \"Dr. Darshan Ingle @AIML Trainer\"\n",
      "\"drdarshaningleaimltrainer\"\n"
     ]
    }
   ],
   "source": [
    "def removeaditional_char(str3):\n",
    "    additional_char = ['.','@','-','<','>','*','&','$','#','!','*','+','-',':','_','?','%',' ']\n",
    "    for i in additional_char:\n",
    "        str3 = str3.replace(i,\"\")\n",
    "    return str3.lower()\n",
    "print(removeaditional_char(input(\"Enter any string: \")))"
   ]
  },
  {
   "cell_type": "code",
   "execution_count": null,
   "metadata": {},
   "outputs": [],
   "source": []
  }
 ],
 "metadata": {
  "kernelspec": {
   "display_name": "Python 3",
   "language": "python",
   "name": "python3"
  },
  "language_info": {
   "codemirror_mode": {
    "name": "ipython",
    "version": 3
   },
   "file_extension": ".py",
   "mimetype": "text/x-python",
   "name": "python",
   "nbconvert_exporter": "python",
   "pygments_lexer": "ipython3",
   "version": "3.8.3"
  }
 },
 "nbformat": 4,
 "nbformat_minor": 4
}
