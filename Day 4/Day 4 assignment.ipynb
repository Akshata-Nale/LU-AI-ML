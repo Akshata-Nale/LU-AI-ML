{
 "cells": [
  {
   "cell_type": "markdown",
   "metadata": {},
   "source": [
    "# 1.Research on whether addition, subtraction, multiplication, division, floor division, and modulo operations be performed on complex numbers. Based on your study, implement a Python program to demonstrate these operations."
   ]
  },
  {
   "cell_type": "markdown",
   "metadata": {},
   "source": [
    "In python, operations like addition, subtraction, multiplication and division can be performed on complex numbers. But floor division and modulo operation can not be performed on complex numbers."
   ]
  },
  {
   "cell_type": "code",
   "execution_count": 4,
   "metadata": {},
   "outputs": [
    {
     "name": "stdout",
     "output_type": "stream",
     "text": [
      "Addition of a= (10+10j) and b= (5+5j) is  (15+15j)\n",
      "Subtraction of a= (10+10j) and b= (5+5j) is  (5+5j)\n",
      "Multiplication of a= (10+10j) and b= (5+5j) is  100j\n",
      "Division of a= (10+10j) and b= (5+5j) is  (2+0j)\n"
     ]
    }
   ],
   "source": [
    "a=10+10j\n",
    "b=5+5j\n",
    "add=a+b\n",
    "print(\"Addition of a=\",a,\"and b=\",b,\"is \",add)\n",
    "sub=a-b\n",
    "print(\"Subtraction of a=\",a,\"and b=\",b,\"is \",sub)\n",
    "mul=a*b\n",
    "print(\"Multiplication of a=\",a,\"and b=\",b,\"is \",mul)\n",
    "div=a/b\n",
    "print(\"Division of a=\",a,\"and b=\",b,\"is \",div)\n"
   ]
  },
  {
   "cell_type": "markdown",
   "metadata": {},
   "source": [
    "# 2.Research on range() functions and its parameters. Create a markdown cell and write in your own words (no copy-paste from google please) what you understand about it. Implement a small program of your choice on the same."
   ]
  },
  {
   "cell_type": "markdown",
   "metadata": {},
   "source": [
    "1.range() function is built in python function which is mainly used in loops like \"FOR\" loop and \"WHILE\" loop.\n",
    "\n",
    "2.This function is used to generate the series from between the numbers that are specified and continues executing the loop until the range gets completed.\n",
    "\n",
    "4.It can take 3 parameters: range(start,end,stepsize) which specifies that loop starts from and end-1 at and increments by the specified steps.\n",
    "\n",
    "5.Ex: range(1,5,1)\n",
    "  This will give the range : 1 2 3 4"
   ]
  },
  {
   "cell_type": "code",
   "execution_count": 9,
   "metadata": {},
   "outputs": [
    {
     "name": "stdout",
     "output_type": "stream",
     "text": [
      "0\n",
      "2\n",
      "4\n",
      "6\n",
      "8\n"
     ]
    }
   ],
   "source": [
    "for i in range(0,10,2):\n",
    "    print(i)"
   ]
  },
  {
   "cell_type": "markdown",
   "metadata": {},
   "source": [
    "# 3.Consider two numbers. Perform their subtraction and if the result of subtraction is greater than 25, print their multiplication result else print their division result."
   ]
  },
  {
   "cell_type": "code",
   "execution_count": 11,
   "metadata": {},
   "outputs": [
    {
     "name": "stdout",
     "output_type": "stream",
     "text": [
      "a= 100 and b= 25\n",
      "Subtraction of a and b = 75\n",
      "Do Multiplication\n",
      "Result = 2500\n"
     ]
    }
   ],
   "source": [
    "a=100\n",
    "b=25\n",
    "print(\"a=\",a,\"and b=\",b)\n",
    "c=a-b\n",
    "print(\"Subtraction of a and b =\",c)\n",
    "if c>25:\n",
    "    print(\"Do Multiplication\")\n",
    "    print(\"Result =\",a*b)\n",
    "else:\n",
    "    print(\"Do Division\")\n",
    "    print(\"Result\",a/b)"
   ]
  },
  {
   "cell_type": "markdown",
   "metadata": {},
   "source": [
    "# 4.Consider a list of 10 elements of integer values. If the number in the list is divisible by 2, print the result as \"square of that number minus 2\"."
   ]
  },
  {
   "cell_type": "code",
   "execution_count": 13,
   "metadata": {},
   "outputs": [
    {
     "name": "stdout",
     "output_type": "stream",
     "text": [
      "2\n",
      "14\n",
      "34\n",
      "62\n",
      "98\n"
     ]
    }
   ],
   "source": [
    "list=[1, 2, 3, 4, 5, 6, 7, 8, 9, 10]\n",
    "for i in list:\n",
    "    if i%2==0:\n",
    "        print((i*i)-2)"
   ]
  },
  {
   "cell_type": "markdown",
   "metadata": {},
   "source": [
    "# 5.Consider a list of 10 elements. Print all the elements in the list which are greater than 7 when that number is divided 2.\n"
   ]
  },
  {
   "cell_type": "code",
   "execution_count": 14,
   "metadata": {},
   "outputs": [
    {
     "name": "stdout",
     "output_type": "stream",
     "text": [
      "20\n",
      "25\n",
      "30\n",
      "40\n",
      "100\n"
     ]
    }
   ],
   "source": [
    "list=[2,4,5,10,14,20,25,30,40,100]\n",
    "for i in list:\n",
    "    if i/2>7:\n",
    "        print(i)"
   ]
  },
  {
   "cell_type": "code",
   "execution_count": null,
   "metadata": {},
   "outputs": [],
   "source": []
  }
 ],
 "metadata": {
  "kernelspec": {
   "display_name": "Python 3",
   "language": "python",
   "name": "python3"
  },
  "language_info": {
   "codemirror_mode": {
    "name": "ipython",
    "version": 3
   },
   "file_extension": ".py",
   "mimetype": "text/x-python",
   "name": "python",
   "nbconvert_exporter": "python",
   "pygments_lexer": "ipython3",
   "version": "3.8.3"
  }
 },
 "nbformat": 4,
 "nbformat_minor": 4
}
