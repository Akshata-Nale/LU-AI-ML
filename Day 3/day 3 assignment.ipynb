{
 "cells": [
  {
   "cell_type": "markdown",
   "metadata": {},
   "source": [
    "# 1.Program to subtract two complex numbers in python. "
   ]
  },
  {
   "cell_type": "code",
   "execution_count": 1,
   "metadata": {},
   "outputs": [
    {
     "name": "stdout",
     "output_type": "stream",
     "text": [
      "a= (5+5j)\n",
      "b= (2+2j)\n",
      "The subtraction of complex numbers a and b is (3+3j)\n"
     ]
    }
   ],
   "source": [
    "a=5+5j\n",
    "print(\"a=\",a)\n",
    "b=2+2j\n",
    "print(\"b=\",b)\n",
    "c=a-b\n",
    "print(\"The subtraction of complex numbers a and b is\",c)"
   ]
  },
  {
   "cell_type": "markdown",
   "metadata": {},
   "source": [
    "# 2.Program to find the fourth root of a number."
   ]
  },
  {
   "cell_type": "code",
   "execution_count": 4,
   "metadata": {},
   "outputs": [
    {
     "name": "stdout",
     "output_type": "stream",
     "text": [
      "number= 16\n",
      "The fourth root of given number a is 2.0\n"
     ]
    }
   ],
   "source": [
    "d=16\n",
    "print(\"number=\",d)\n",
    "frrt=d ** (1/4)\n",
    "print(\"The fourth root of given number a is\",frrt)"
   ]
  },
  {
   "cell_type": "markdown",
   "metadata": {},
   "source": [
    "# 3.Program to swap two numbers with the help of a temporary variable."
   ]
  },
  {
   "cell_type": "code",
   "execution_count": 1,
   "metadata": {},
   "outputs": [
    {
     "name": "stdout",
     "output_type": "stream",
     "text": [
      "The value of a is 5 and the value of b is 6\n",
      "After swapping the value of a is 6 and the value of b is 5\n"
     ]
    }
   ],
   "source": [
    "a=5\n",
    "b=6\n",
    "print(\"The value of a is\",a,\"and the value of b is\",b)\n",
    "temp=a\n",
    "a=b\n",
    "b=temp\n",
    "print(\"After swapping the value of a is\",a,\"and the value of b is\",b)"
   ]
  },
  {
   "cell_type": "markdown",
   "metadata": {},
   "source": [
    "# 4.Program to swap two numbers without using a temporary variable."
   ]
  },
  {
   "cell_type": "code",
   "execution_count": 2,
   "metadata": {},
   "outputs": [
    {
     "name": "stdout",
     "output_type": "stream",
     "text": [
      "The value of a is 7 and the value of b is 8\n",
      "After swapping the value of a is 8 and the value of b is 7\n"
     ]
    }
   ],
   "source": [
    "a=7\n",
    "b=8\n",
    "print(\"The value of a is\",a,\"and the value of b is\",b)\n",
    "a,b=b,a\n",
    "print(\"After swapping the value of a is\",a,\"and the value of b is\",b)"
   ]
  },
  {
   "cell_type": "markdown",
   "metadata": {},
   "source": [
    "# 5.Program to convert Fahrenheit to kelvin and celsius both."
   ]
  },
  {
   "cell_type": "code",
   "execution_count": 6,
   "metadata": {},
   "outputs": [
    {
     "name": "stdout",
     "output_type": "stream",
     "text": [
      "Temperature in Fahreheit=100\n",
      "The temperature in Fahrenheit is 100.0 , in Kelvin is 311.27777777777777 and in Celsius is 37.77777777777778\n"
     ]
    }
   ],
   "source": [
    "F = float(input(\"Temperature in Fahreheit=\"))\n",
    "K = 273.5 + ((F - 32.0) * (5.0/9.0))\n",
    "C = (F - 32) * 5/9\n",
    "print(\"The temperature in Fahrenheit is\",F,\", in Kelvin is\",K,\"and in Celsius is\",C)"
   ]
  },
  {
   "cell_type": "markdown",
   "metadata": {},
   "source": [
    "# 6.Program to demonstrate all the available data types in Python."
   ]
  },
  {
   "cell_type": "code",
   "execution_count": 7,
   "metadata": {},
   "outputs": [
    {
     "name": "stdout",
     "output_type": "stream",
     "text": [
      "<class 'int'>\n",
      "<class 'float'>\n",
      "<class 'complex'>\n",
      "<class 'list'>\n",
      "<class 'str'>\n",
      "<class 'dict'>\n",
      "<class 'tuple'>\n",
      "<class 'set'>\n"
     ]
    }
   ],
   "source": [
    "a = 6\n",
    "print(type(a))\n",
    "b = 3.14\n",
    "print(type(b))\n",
    "c = 6+5j\n",
    "print(type(c))\n",
    "d = ([1,2,3,4])\n",
    "print(type(d))\n",
    "e = \"Akshata Nale\"\n",
    "print(type(e))\n",
    "f={1:\"A\", 2:\"B\", 3:\"C\"}\n",
    "print(type(f))\n",
    "g = ((\"LetsUpgrade\",\"AI\",\"ML\"))\n",
    "print(type(g))\n",
    "h={\"python\",\"java\",\"ruby\",\"C\",\"C++\",\"Javascript\"}\n",
    "print(type(h))"
   ]
  },
  {
   "cell_type": "code",
   "execution_count": null,
   "metadata": {},
   "outputs": [],
   "source": []
  }
 ],
 "metadata": {
  "kernelspec": {
   "display_name": "Python 3",
   "language": "python",
   "name": "python3"
  },
  "language_info": {
   "codemirror_mode": {
    "name": "ipython",
    "version": 3
   },
   "file_extension": ".py",
   "mimetype": "text/x-python",
   "name": "python",
   "nbconvert_exporter": "python",
   "pygments_lexer": "ipython3",
   "version": "3.8.3"
  }
 },
 "nbformat": 4,
 "nbformat_minor": 4
}
