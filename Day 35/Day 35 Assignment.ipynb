{
 "cells": [
  {
   "cell_type": "markdown",
   "metadata": {
    "id": "phaP-tCIKdj4"
   },
   "source": [
    "\n",
    " **Question 1:**  ​ ​Use the User dataset perform Random Forest and compare with Decision Tree. "
   ]
  },
  {
   "cell_type": "code",
   "execution_count": 1,
   "metadata": {
    "executionInfo": {
     "elapsed": 1698,
     "status": "ok",
     "timestamp": 1603542384473,
     "user": {
      "displayName": "Imad Khanzada",
      "photoUrl": "https://lh3.googleusercontent.com/a-/AOh14GglUSPC1xTBFmnNxhIdCYGqq_23ydifOGEG9nMW=s64",
      "userId": "18384988035224797336"
     },
     "user_tz": -330
    },
    "id": "tWv8x8MWLLta"
   },
   "outputs": [],
   "source": [
    "##Importing Libraries \n",
    "import pandas as pd\n",
    "import numpy as np\n",
    "import matplotlib.pyplot as plt\n"
   ]
  },
  {
   "cell_type": "code",
   "execution_count": 4,
   "metadata": {
    "executionInfo": {
     "elapsed": 2230,
     "status": "ok",
     "timestamp": 1603542385031,
     "user": {
      "displayName": "Imad Khanzada",
      "photoUrl": "https://lh3.googleusercontent.com/a-/AOh14GglUSPC1xTBFmnNxhIdCYGqq_23ydifOGEG9nMW=s64",
      "userId": "18384988035224797336"
     },
     "user_tz": -330
    },
    "id": "KAeaqxETLL6g"
   },
   "outputs": [],
   "source": [
    "ud =pd.read_csv('J:/AIML/Day 35/User_Data - Arindam Dev.csv')"
   ]
  },
  {
   "cell_type": "code",
   "execution_count": 5,
   "metadata": {
    "colab": {
     "base_uri": "https://localhost:8080/",
     "height": 297
    },
    "executionInfo": {
     "elapsed": 2205,
     "status": "ok",
     "timestamp": 1603542385032,
     "user": {
      "displayName": "Imad Khanzada",
      "photoUrl": "https://lh3.googleusercontent.com/a-/AOh14GglUSPC1xTBFmnNxhIdCYGqq_23ydifOGEG9nMW=s64",
      "userId": "18384988035224797336"
     },
     "user_tz": -330
    },
    "id": "GN9XkfaMLMHZ",
    "outputId": "f3a8575d-d178-4ad5-db8d-9d1a1099d92e"
   },
   "outputs": [
    {
     "data": {
      "text/html": [
       "<div>\n",
       "<style scoped>\n",
       "    .dataframe tbody tr th:only-of-type {\n",
       "        vertical-align: middle;\n",
       "    }\n",
       "\n",
       "    .dataframe tbody tr th {\n",
       "        vertical-align: top;\n",
       "    }\n",
       "\n",
       "    .dataframe thead th {\n",
       "        text-align: right;\n",
       "    }\n",
       "</style>\n",
       "<table border=\"1\" class=\"dataframe\">\n",
       "  <thead>\n",
       "    <tr style=\"text-align: right;\">\n",
       "      <th></th>\n",
       "      <th>User ID</th>\n",
       "      <th>Gender</th>\n",
       "      <th>Age</th>\n",
       "      <th>EstimatedSalary</th>\n",
       "      <th>Purchased</th>\n",
       "    </tr>\n",
       "  </thead>\n",
       "  <tbody>\n",
       "    <tr>\n",
       "      <th>0</th>\n",
       "      <td>15624510</td>\n",
       "      <td>Male</td>\n",
       "      <td>19</td>\n",
       "      <td>19000</td>\n",
       "      <td>0</td>\n",
       "    </tr>\n",
       "    <tr>\n",
       "      <th>1</th>\n",
       "      <td>15810944</td>\n",
       "      <td>Male</td>\n",
       "      <td>35</td>\n",
       "      <td>20000</td>\n",
       "      <td>0</td>\n",
       "    </tr>\n",
       "    <tr>\n",
       "      <th>2</th>\n",
       "      <td>15668575</td>\n",
       "      <td>Female</td>\n",
       "      <td>26</td>\n",
       "      <td>43000</td>\n",
       "      <td>0</td>\n",
       "    </tr>\n",
       "    <tr>\n",
       "      <th>3</th>\n",
       "      <td>15603246</td>\n",
       "      <td>Female</td>\n",
       "      <td>27</td>\n",
       "      <td>57000</td>\n",
       "      <td>0</td>\n",
       "    </tr>\n",
       "    <tr>\n",
       "      <th>4</th>\n",
       "      <td>15804002</td>\n",
       "      <td>Male</td>\n",
       "      <td>19</td>\n",
       "      <td>76000</td>\n",
       "      <td>0</td>\n",
       "    </tr>\n",
       "    <tr>\n",
       "      <th>5</th>\n",
       "      <td>15728773</td>\n",
       "      <td>Male</td>\n",
       "      <td>27</td>\n",
       "      <td>58000</td>\n",
       "      <td>0</td>\n",
       "    </tr>\n",
       "    <tr>\n",
       "      <th>6</th>\n",
       "      <td>15598044</td>\n",
       "      <td>Female</td>\n",
       "      <td>27</td>\n",
       "      <td>84000</td>\n",
       "      <td>0</td>\n",
       "    </tr>\n",
       "    <tr>\n",
       "      <th>7</th>\n",
       "      <td>15694829</td>\n",
       "      <td>Female</td>\n",
       "      <td>32</td>\n",
       "      <td>150000</td>\n",
       "      <td>1</td>\n",
       "    </tr>\n",
       "  </tbody>\n",
       "</table>\n",
       "</div>"
      ],
      "text/plain": [
       "    User ID  Gender  Age  EstimatedSalary  Purchased\n",
       "0  15624510    Male   19            19000          0\n",
       "1  15810944    Male   35            20000          0\n",
       "2  15668575  Female   26            43000          0\n",
       "3  15603246  Female   27            57000          0\n",
       "4  15804002    Male   19            76000          0\n",
       "5  15728773    Male   27            58000          0\n",
       "6  15598044  Female   27            84000          0\n",
       "7  15694829  Female   32           150000          1"
      ]
     },
     "execution_count": 5,
     "metadata": {},
     "output_type": "execute_result"
    }
   ],
   "source": [
    "ud.head(8)"
   ]
  },
  {
   "cell_type": "code",
   "execution_count": 6,
   "metadata": {
    "colab": {
     "base_uri": "https://localhost:8080/",
     "height": 34
    },
    "executionInfo": {
     "elapsed": 2158,
     "status": "ok",
     "timestamp": 1603542385033,
     "user": {
      "displayName": "Imad Khanzada",
      "photoUrl": "https://lh3.googleusercontent.com/a-/AOh14GglUSPC1xTBFmnNxhIdCYGqq_23ydifOGEG9nMW=s64",
      "userId": "18384988035224797336"
     },
     "user_tz": -330
    },
    "id": "9MNJoQhjPBQ2",
    "outputId": "fca650bb-c525-4fd5-8b68-ce32ac6ea1b9"
   },
   "outputs": [
    {
     "data": {
      "text/plain": [
       "(400, 5)"
      ]
     },
     "execution_count": 6,
     "metadata": {},
     "output_type": "execute_result"
    }
   ],
   "source": [
    "ud.shape"
   ]
  },
  {
   "cell_type": "code",
   "execution_count": 7,
   "metadata": {
    "colab": {
     "base_uri": "https://localhost:8080/",
     "height": 204
    },
    "executionInfo": {
     "elapsed": 2114,
     "status": "ok",
     "timestamp": 1603542385034,
     "user": {
      "displayName": "Imad Khanzada",
      "photoUrl": "https://lh3.googleusercontent.com/a-/AOh14GglUSPC1xTBFmnNxhIdCYGqq_23ydifOGEG9nMW=s64",
      "userId": "18384988035224797336"
     },
     "user_tz": -330
    },
    "id": "UMyj-9zEO8iZ",
    "outputId": "49cf7415-9cc6-4a3c-d39a-61db8598b138"
   },
   "outputs": [
    {
     "data": {
      "text/html": [
       "<div>\n",
       "<style scoped>\n",
       "    .dataframe tbody tr th:only-of-type {\n",
       "        vertical-align: middle;\n",
       "    }\n",
       "\n",
       "    .dataframe tbody tr th {\n",
       "        vertical-align: top;\n",
       "    }\n",
       "\n",
       "    .dataframe thead th {\n",
       "        text-align: right;\n",
       "    }\n",
       "</style>\n",
       "<table border=\"1\" class=\"dataframe\">\n",
       "  <thead>\n",
       "    <tr style=\"text-align: right;\">\n",
       "      <th></th>\n",
       "      <th>User ID</th>\n",
       "      <th>Gender</th>\n",
       "      <th>Age</th>\n",
       "      <th>EstimatedSalary</th>\n",
       "      <th>Purchased</th>\n",
       "    </tr>\n",
       "  </thead>\n",
       "  <tbody>\n",
       "    <tr>\n",
       "      <th>0</th>\n",
       "      <td>15624510</td>\n",
       "      <td>Male</td>\n",
       "      <td>19</td>\n",
       "      <td>19000</td>\n",
       "      <td>0</td>\n",
       "    </tr>\n",
       "    <tr>\n",
       "      <th>1</th>\n",
       "      <td>15810944</td>\n",
       "      <td>Male</td>\n",
       "      <td>35</td>\n",
       "      <td>20000</td>\n",
       "      <td>0</td>\n",
       "    </tr>\n",
       "    <tr>\n",
       "      <th>2</th>\n",
       "      <td>15668575</td>\n",
       "      <td>Female</td>\n",
       "      <td>26</td>\n",
       "      <td>43000</td>\n",
       "      <td>0</td>\n",
       "    </tr>\n",
       "    <tr>\n",
       "      <th>3</th>\n",
       "      <td>15603246</td>\n",
       "      <td>Female</td>\n",
       "      <td>27</td>\n",
       "      <td>57000</td>\n",
       "      <td>0</td>\n",
       "    </tr>\n",
       "    <tr>\n",
       "      <th>4</th>\n",
       "      <td>15804002</td>\n",
       "      <td>Male</td>\n",
       "      <td>19</td>\n",
       "      <td>76000</td>\n",
       "      <td>0</td>\n",
       "    </tr>\n",
       "  </tbody>\n",
       "</table>\n",
       "</div>"
      ],
      "text/plain": [
       "    User ID  Gender  Age  EstimatedSalary  Purchased\n",
       "0  15624510    Male   19            19000          0\n",
       "1  15810944    Male   35            20000          0\n",
       "2  15668575  Female   26            43000          0\n",
       "3  15603246  Female   27            57000          0\n",
       "4  15804002    Male   19            76000          0"
      ]
     },
     "execution_count": 7,
     "metadata": {},
     "output_type": "execute_result"
    }
   ],
   "source": [
    "ud.head()"
   ]
  },
  {
   "cell_type": "code",
   "execution_count": 8,
   "metadata": {
    "colab": {
     "base_uri": "https://localhost:8080/",
     "height": 204
    },
    "executionInfo": {
     "elapsed": 2073,
     "status": "ok",
     "timestamp": 1603542385035,
     "user": {
      "displayName": "Imad Khanzada",
      "photoUrl": "https://lh3.googleusercontent.com/a-/AOh14GglUSPC1xTBFmnNxhIdCYGqq_23ydifOGEG9nMW=s64",
      "userId": "18384988035224797336"
     },
     "user_tz": -330
    },
    "id": "h7AQXHU1NudD",
    "outputId": "fecfacf9-c312-4053-a77a-408786a3f4bb"
   },
   "outputs": [
    {
     "data": {
      "text/html": [
       "<div>\n",
       "<style scoped>\n",
       "    .dataframe tbody tr th:only-of-type {\n",
       "        vertical-align: middle;\n",
       "    }\n",
       "\n",
       "    .dataframe tbody tr th {\n",
       "        vertical-align: top;\n",
       "    }\n",
       "\n",
       "    .dataframe thead th {\n",
       "        text-align: right;\n",
       "    }\n",
       "</style>\n",
       "<table border=\"1\" class=\"dataframe\">\n",
       "  <thead>\n",
       "    <tr style=\"text-align: right;\">\n",
       "      <th></th>\n",
       "      <th>User ID</th>\n",
       "      <th>Age</th>\n",
       "      <th>EstimatedSalary</th>\n",
       "      <th>Purchased</th>\n",
       "    </tr>\n",
       "  </thead>\n",
       "  <tbody>\n",
       "    <tr>\n",
       "      <th>0</th>\n",
       "      <td>15624510</td>\n",
       "      <td>19</td>\n",
       "      <td>19000</td>\n",
       "      <td>0</td>\n",
       "    </tr>\n",
       "    <tr>\n",
       "      <th>1</th>\n",
       "      <td>15810944</td>\n",
       "      <td>35</td>\n",
       "      <td>20000</td>\n",
       "      <td>0</td>\n",
       "    </tr>\n",
       "    <tr>\n",
       "      <th>2</th>\n",
       "      <td>15668575</td>\n",
       "      <td>26</td>\n",
       "      <td>43000</td>\n",
       "      <td>0</td>\n",
       "    </tr>\n",
       "    <tr>\n",
       "      <th>3</th>\n",
       "      <td>15603246</td>\n",
       "      <td>27</td>\n",
       "      <td>57000</td>\n",
       "      <td>0</td>\n",
       "    </tr>\n",
       "    <tr>\n",
       "      <th>4</th>\n",
       "      <td>15804002</td>\n",
       "      <td>19</td>\n",
       "      <td>76000</td>\n",
       "      <td>0</td>\n",
       "    </tr>\n",
       "  </tbody>\n",
       "</table>\n",
       "</div>"
      ],
      "text/plain": [
       "    User ID  Age  EstimatedSalary  Purchased\n",
       "0  15624510   19            19000          0\n",
       "1  15810944   35            20000          0\n",
       "2  15668575   26            43000          0\n",
       "3  15603246   27            57000          0\n",
       "4  15804002   19            76000          0"
      ]
     },
     "execution_count": 8,
     "metadata": {},
     "output_type": "execute_result"
    }
   ],
   "source": [
    "ud1=ud.drop(['Gender'],axis=1)\n",
    "ud1.head(5)"
   ]
  },
  {
   "cell_type": "code",
   "execution_count": 9,
   "metadata": {
    "colab": {
     "base_uri": "https://localhost:8080/",
     "height": 34
    },
    "executionInfo": {
     "elapsed": 3454,
     "status": "ok",
     "timestamp": 1603542386474,
     "user": {
      "displayName": "Imad Khanzada",
      "photoUrl": "https://lh3.googleusercontent.com/a-/AOh14GglUSPC1xTBFmnNxhIdCYGqq_23ydifOGEG9nMW=s64",
      "userId": "18384988035224797336"
     },
     "user_tz": -330
    },
    "id": "o-tF6VJqNfQt",
    "outputId": "5a8e402c-6531-46ea-d37b-8f95370266d1"
   },
   "outputs": [
    {
     "data": {
      "text/plain": [
       "(400, 4)"
      ]
     },
     "execution_count": 9,
     "metadata": {},
     "output_type": "execute_result"
    }
   ],
   "source": [
    "ud1.shape"
   ]
  },
  {
   "cell_type": "code",
   "execution_count": 10,
   "metadata": {
    "colab": {
     "base_uri": "https://localhost:8080/",
     "height": 297
    },
    "executionInfo": {
     "elapsed": 3416,
     "status": "ok",
     "timestamp": 1603542386477,
     "user": {
      "displayName": "Imad Khanzada",
      "photoUrl": "https://lh3.googleusercontent.com/a-/AOh14GglUSPC1xTBFmnNxhIdCYGqq_23ydifOGEG9nMW=s64",
      "userId": "18384988035224797336"
     },
     "user_tz": -330
    },
    "id": "Se4rJpnoMBRX",
    "outputId": "1732653d-e64b-415d-f51f-cc705cb2995e"
   },
   "outputs": [
    {
     "data": {
      "text/html": [
       "<div>\n",
       "<style scoped>\n",
       "    .dataframe tbody tr th:only-of-type {\n",
       "        vertical-align: middle;\n",
       "    }\n",
       "\n",
       "    .dataframe tbody tr th {\n",
       "        vertical-align: top;\n",
       "    }\n",
       "\n",
       "    .dataframe thead th {\n",
       "        text-align: right;\n",
       "    }\n",
       "</style>\n",
       "<table border=\"1\" class=\"dataframe\">\n",
       "  <thead>\n",
       "    <tr style=\"text-align: right;\">\n",
       "      <th></th>\n",
       "      <th>User ID</th>\n",
       "      <th>Age</th>\n",
       "      <th>EstimatedSalary</th>\n",
       "      <th>Purchased</th>\n",
       "    </tr>\n",
       "  </thead>\n",
       "  <tbody>\n",
       "    <tr>\n",
       "      <th>count</th>\n",
       "      <td>4.000000e+02</td>\n",
       "      <td>400.000000</td>\n",
       "      <td>400.000000</td>\n",
       "      <td>400.000000</td>\n",
       "    </tr>\n",
       "    <tr>\n",
       "      <th>mean</th>\n",
       "      <td>1.569154e+07</td>\n",
       "      <td>37.655000</td>\n",
       "      <td>69742.500000</td>\n",
       "      <td>0.357500</td>\n",
       "    </tr>\n",
       "    <tr>\n",
       "      <th>std</th>\n",
       "      <td>7.165832e+04</td>\n",
       "      <td>10.482877</td>\n",
       "      <td>34096.960282</td>\n",
       "      <td>0.479864</td>\n",
       "    </tr>\n",
       "    <tr>\n",
       "      <th>min</th>\n",
       "      <td>1.556669e+07</td>\n",
       "      <td>18.000000</td>\n",
       "      <td>15000.000000</td>\n",
       "      <td>0.000000</td>\n",
       "    </tr>\n",
       "    <tr>\n",
       "      <th>25%</th>\n",
       "      <td>1.562676e+07</td>\n",
       "      <td>29.750000</td>\n",
       "      <td>43000.000000</td>\n",
       "      <td>0.000000</td>\n",
       "    </tr>\n",
       "    <tr>\n",
       "      <th>50%</th>\n",
       "      <td>1.569434e+07</td>\n",
       "      <td>37.000000</td>\n",
       "      <td>70000.000000</td>\n",
       "      <td>0.000000</td>\n",
       "    </tr>\n",
       "    <tr>\n",
       "      <th>75%</th>\n",
       "      <td>1.575036e+07</td>\n",
       "      <td>46.000000</td>\n",
       "      <td>88000.000000</td>\n",
       "      <td>1.000000</td>\n",
       "    </tr>\n",
       "    <tr>\n",
       "      <th>max</th>\n",
       "      <td>1.581524e+07</td>\n",
       "      <td>60.000000</td>\n",
       "      <td>150000.000000</td>\n",
       "      <td>1.000000</td>\n",
       "    </tr>\n",
       "  </tbody>\n",
       "</table>\n",
       "</div>"
      ],
      "text/plain": [
       "            User ID         Age  EstimatedSalary   Purchased\n",
       "count  4.000000e+02  400.000000       400.000000  400.000000\n",
       "mean   1.569154e+07   37.655000     69742.500000    0.357500\n",
       "std    7.165832e+04   10.482877     34096.960282    0.479864\n",
       "min    1.556669e+07   18.000000     15000.000000    0.000000\n",
       "25%    1.562676e+07   29.750000     43000.000000    0.000000\n",
       "50%    1.569434e+07   37.000000     70000.000000    0.000000\n",
       "75%    1.575036e+07   46.000000     88000.000000    1.000000\n",
       "max    1.581524e+07   60.000000    150000.000000    1.000000"
      ]
     },
     "execution_count": 10,
     "metadata": {},
     "output_type": "execute_result"
    }
   ],
   "source": [
    "ud1.describe()"
   ]
  },
  {
   "cell_type": "code",
   "execution_count": 11,
   "metadata": {
    "colab": {
     "base_uri": "https://localhost:8080/",
     "height": 102
    },
    "executionInfo": {
     "elapsed": 3385,
     "status": "ok",
     "timestamp": 1603542386479,
     "user": {
      "displayName": "Imad Khanzada",
      "photoUrl": "https://lh3.googleusercontent.com/a-/AOh14GglUSPC1xTBFmnNxhIdCYGqq_23ydifOGEG9nMW=s64",
      "userId": "18384988035224797336"
     },
     "user_tz": -330
    },
    "id": "TAUzpE4_aTri",
    "outputId": "fa151fa6-12bb-4ebf-efa4-72ebd25f29b1"
   },
   "outputs": [
    {
     "data": {
      "text/plain": [
       "User ID            0\n",
       "Age                0\n",
       "EstimatedSalary    0\n",
       "Purchased          0\n",
       "dtype: int64"
      ]
     },
     "execution_count": 11,
     "metadata": {},
     "output_type": "execute_result"
    }
   ],
   "source": [
    "ud1.isna().sum()"
   ]
  },
  {
   "cell_type": "code",
   "execution_count": 12,
   "metadata": {
    "executionInfo": {
     "elapsed": 3352,
     "status": "ok",
     "timestamp": 1603542386480,
     "user": {
      "displayName": "Imad Khanzada",
      "photoUrl": "https://lh3.googleusercontent.com/a-/AOh14GglUSPC1xTBFmnNxhIdCYGqq_23ydifOGEG9nMW=s64",
      "userId": "18384988035224797336"
     },
     "user_tz": -330
    },
    "id": "iNduW297MDwd"
   },
   "outputs": [],
   "source": [
    "##Importing all  sklearn Libraries for Training and testing data & checking for accuracy\n",
    "from sklearn.model_selection import train_test_split\n",
    "from sklearn.metrics import confusion_matrix,accuracy_score,classification_report\n",
    "from sklearn.preprocessing import StandardScaler"
   ]
  },
  {
   "cell_type": "code",
   "execution_count": 13,
   "metadata": {
    "colab": {
     "base_uri": "https://localhost:8080/",
     "height": 111
    },
    "executionInfo": {
     "elapsed": 3314,
     "status": "ok",
     "timestamp": 1603542386482,
     "user": {
      "displayName": "Imad Khanzada",
      "photoUrl": "https://lh3.googleusercontent.com/a-/AOh14GglUSPC1xTBFmnNxhIdCYGqq_23ydifOGEG9nMW=s64",
      "userId": "18384988035224797336"
     },
     "user_tz": -330
    },
    "id": "-1rW6nRXNUTI",
    "outputId": "eff04ff3-6c9c-4e20-ed4e-32c026b6c3b3"
   },
   "outputs": [
    {
     "data": {
      "text/html": [
       "<div>\n",
       "<style scoped>\n",
       "    .dataframe tbody tr th:only-of-type {\n",
       "        vertical-align: middle;\n",
       "    }\n",
       "\n",
       "    .dataframe tbody tr th {\n",
       "        vertical-align: top;\n",
       "    }\n",
       "\n",
       "    .dataframe thead th {\n",
       "        text-align: right;\n",
       "    }\n",
       "</style>\n",
       "<table border=\"1\" class=\"dataframe\">\n",
       "  <thead>\n",
       "    <tr style=\"text-align: right;\">\n",
       "      <th></th>\n",
       "      <th>User ID</th>\n",
       "      <th>Age</th>\n",
       "      <th>EstimatedSalary</th>\n",
       "    </tr>\n",
       "  </thead>\n",
       "  <tbody>\n",
       "    <tr>\n",
       "      <th>0</th>\n",
       "      <td>15624510</td>\n",
       "      <td>19</td>\n",
       "      <td>19000</td>\n",
       "    </tr>\n",
       "    <tr>\n",
       "      <th>1</th>\n",
       "      <td>15810944</td>\n",
       "      <td>35</td>\n",
       "      <td>20000</td>\n",
       "    </tr>\n",
       "  </tbody>\n",
       "</table>\n",
       "</div>"
      ],
      "text/plain": [
       "    User ID  Age  EstimatedSalary\n",
       "0  15624510   19            19000\n",
       "1  15810944   35            20000"
      ]
     },
     "execution_count": 13,
     "metadata": {},
     "output_type": "execute_result"
    }
   ],
   "source": [
    "# Assigning  the features into one variable and target data into another variable (Slicing )\n",
    "x=ud1.iloc[:,:-1]\n",
    "x.head(2)"
   ]
  },
  {
   "cell_type": "code",
   "execution_count": 14,
   "metadata": {
    "colab": {
     "base_uri": "https://localhost:8080/",
     "height": 142
    },
    "executionInfo": {
     "elapsed": 3286,
     "status": "ok",
     "timestamp": 1603542386485,
     "user": {
      "displayName": "Imad Khanzada",
      "photoUrl": "https://lh3.googleusercontent.com/a-/AOh14GglUSPC1xTBFmnNxhIdCYGqq_23ydifOGEG9nMW=s64",
      "userId": "18384988035224797336"
     },
     "user_tz": -330
    },
    "id": "aIibNNJcPqai",
    "outputId": "aad8a6a1-34fb-46a1-f814-d2244d71cb6f"
   },
   "outputs": [
    {
     "data": {
      "text/html": [
       "<div>\n",
       "<style scoped>\n",
       "    .dataframe tbody tr th:only-of-type {\n",
       "        vertical-align: middle;\n",
       "    }\n",
       "\n",
       "    .dataframe tbody tr th {\n",
       "        vertical-align: top;\n",
       "    }\n",
       "\n",
       "    .dataframe thead th {\n",
       "        text-align: right;\n",
       "    }\n",
       "</style>\n",
       "<table border=\"1\" class=\"dataframe\">\n",
       "  <thead>\n",
       "    <tr style=\"text-align: right;\">\n",
       "      <th></th>\n",
       "      <th>Purchased</th>\n",
       "    </tr>\n",
       "  </thead>\n",
       "  <tbody>\n",
       "    <tr>\n",
       "      <th>0</th>\n",
       "      <td>0</td>\n",
       "    </tr>\n",
       "    <tr>\n",
       "      <th>1</th>\n",
       "      <td>0</td>\n",
       "    </tr>\n",
       "    <tr>\n",
       "      <th>2</th>\n",
       "      <td>0</td>\n",
       "    </tr>\n",
       "  </tbody>\n",
       "</table>\n",
       "</div>"
      ],
      "text/plain": [
       "   Purchased\n",
       "0          0\n",
       "1          0\n",
       "2          0"
      ]
     },
     "execution_count": 14,
     "metadata": {},
     "output_type": "execute_result"
    }
   ],
   "source": [
    "y=ud1.iloc[:,-1:]\n",
    "y.head(3)"
   ]
  },
  {
   "cell_type": "code",
   "execution_count": 15,
   "metadata": {
    "executionInfo": {
     "elapsed": 3249,
     "status": "ok",
     "timestamp": 1603542386486,
     "user": {
      "displayName": "Imad Khanzada",
      "photoUrl": "https://lh3.googleusercontent.com/a-/AOh14GglUSPC1xTBFmnNxhIdCYGqq_23ydifOGEG9nMW=s64",
      "userId": "18384988035224797336"
     },
     "user_tz": -330
    },
    "id": "3ZKw-G7DP2Xp"
   },
   "outputs": [],
   "source": [
    "## Training and Testing data \n",
    "xtrain,xtest,ytrain,ytest=train_test_split(x,y,test_size=0.20,random_state=5)"
   ]
  },
  {
   "cell_type": "code",
   "execution_count": 16,
   "metadata": {
    "colab": {
     "base_uri": "https://localhost:8080/",
     "height": 153
    },
    "executionInfo": {
     "elapsed": 3206,
     "status": "ok",
     "timestamp": 1603542386491,
     "user": {
      "displayName": "Imad Khanzada",
      "photoUrl": "https://lh3.googleusercontent.com/a-/AOh14GglUSPC1xTBFmnNxhIdCYGqq_23ydifOGEG9nMW=s64",
      "userId": "18384988035224797336"
     },
     "user_tz": -330
    },
    "id": "1TL-WtYWQcrf",
    "outputId": "7539c8b9-9b7d-4bdb-aa7e-5142e8a2c839"
   },
   "outputs": [
    {
     "name": "stdout",
     "output_type": "stream",
     "text": [
      "\n",
      " xtrain: (320, 3)\n",
      "\n",
      " xtest: (80, 3)\n",
      "\n",
      " ytrain: (320, 1)\n",
      "\n",
      " ytest: (80, 1)\n"
     ]
    }
   ],
   "source": [
    "print('\\n xtrain:',xtrain.shape)\n",
    "print('\\n xtest:',xtest.shape)\n",
    "print('\\n ytrain:',ytrain.shape)\n",
    "print('\\n ytest:',ytest.shape)"
   ]
  },
  {
   "cell_type": "code",
   "execution_count": 17,
   "metadata": {
    "colab": {
     "base_uri": "https://localhost:8080/",
     "height": 34
    },
    "executionInfo": {
     "elapsed": 3176,
     "status": "ok",
     "timestamp": 1603542386492,
     "user": {
      "displayName": "Imad Khanzada",
      "photoUrl": "https://lh3.googleusercontent.com/a-/AOh14GglUSPC1xTBFmnNxhIdCYGqq_23ydifOGEG9nMW=s64",
      "userId": "18384988035224797336"
     },
     "user_tz": -330
    },
    "id": "npR5y4jEQsNH",
    "outputId": "2bd86639-e19d-4b40-f0d5-f313b5fad8f7"
   },
   "outputs": [
    {
     "data": {
      "text/plain": [
       "StandardScaler()"
      ]
     },
     "execution_count": 17,
     "metadata": {},
     "output_type": "execute_result"
    }
   ],
   "source": [
    "## Scaling down the features using Standard scaler\n",
    "scaler=StandardScaler()\n",
    "scaler.fit(xtrain)"
   ]
  },
  {
   "cell_type": "code",
   "execution_count": 18,
   "metadata": {
    "executionInfo": {
     "elapsed": 3129,
     "status": "ok",
     "timestamp": 1603542386493,
     "user": {
      "displayName": "Imad Khanzada",
      "photoUrl": "https://lh3.googleusercontent.com/a-/AOh14GglUSPC1xTBFmnNxhIdCYGqq_23ydifOGEG9nMW=s64",
      "userId": "18384988035224797336"
     },
     "user_tz": -330
    },
    "id": "6CUrsfa9RFgm"
   },
   "outputs": [],
   "source": [
    "scaled_xtrain=scaler.fit_transform(xtrain)\n",
    "scaled_xtest=scaler.fit_transform(xtest)"
   ]
  },
  {
   "cell_type": "markdown",
   "metadata": {
    "id": "AtzfqgtgRhUt"
   },
   "source": [
    "Fitting Decision Tree to Dataset"
   ]
  },
  {
   "cell_type": "code",
   "execution_count": 19,
   "metadata": {
    "colab": {
     "base_uri": "https://localhost:8080/",
     "height": 119
    },
    "executionInfo": {
     "elapsed": 3094,
     "status": "ok",
     "timestamp": 1603542386494,
     "user": {
      "displayName": "Imad Khanzada",
      "photoUrl": "https://lh3.googleusercontent.com/a-/AOh14GglUSPC1xTBFmnNxhIdCYGqq_23ydifOGEG9nMW=s64",
      "userId": "18384988035224797336"
     },
     "user_tz": -330
    },
    "id": "uzRqdz6nSJQM",
    "outputId": "60d0df37-5a0b-4c3c-950d-27690d9e8b4c"
   },
   "outputs": [
    {
     "data": {
      "text/plain": [
       "DecisionTreeClassifier(criterion='entropy', max_depth=2, random_state=15)"
      ]
     },
     "execution_count": 19,
     "metadata": {},
     "output_type": "execute_result"
    }
   ],
   "source": [
    "from sklearn import tree\n",
    "from sklearn.tree import DecisionTreeClassifier\n",
    "classifier=DecisionTreeClassifier(criterion='entropy',max_depth=2, random_state=15)\n",
    "classifier.fit(scaled_xtrain,ytrain)"
   ]
  },
  {
   "cell_type": "code",
   "execution_count": 20,
   "metadata": {
    "colab": {
     "base_uri": "https://localhost:8080/",
     "height": 85
    },
    "executionInfo": {
     "elapsed": 3055,
     "status": "ok",
     "timestamp": 1603542386494,
     "user": {
      "displayName": "Imad Khanzada",
      "photoUrl": "https://lh3.googleusercontent.com/a-/AOh14GglUSPC1xTBFmnNxhIdCYGqq_23ydifOGEG9nMW=s64",
      "userId": "18384988035224797336"
     },
     "user_tz": -330
    },
    "id": "WUPmSpnNSa2B",
    "outputId": "541dc0ec-8d93-42e4-ce12-2e3412b87c9a"
   },
   "outputs": [
    {
     "data": {
      "text/plain": [
       "array([1, 0, 0, 0, 0, 0, 0, 1, 0, 1, 1, 0, 0, 0, 0, 0, 1, 0, 0, 0, 1, 0,\n",
       "       1, 0, 1, 0, 0, 1, 1, 0, 1, 0, 1, 0, 0, 1, 1, 0, 0, 0, 1, 0, 1, 0,\n",
       "       0, 1, 0, 0, 1, 1, 1, 0, 0, 0, 0, 0, 1, 1, 1, 1, 0, 1, 0, 0, 0, 1,\n",
       "       0, 0, 1, 1, 1, 1, 0, 1, 1, 0, 0, 0, 0, 1], dtype=int64)"
      ]
     },
     "execution_count": 20,
     "metadata": {},
     "output_type": "execute_result"
    }
   ],
   "source": [
    "##predicting the test result \n",
    "ypred = classifier.predict(scaled_xtest)\n",
    "ypred"
   ]
  },
  {
   "cell_type": "code",
   "execution_count": 21,
   "metadata": {
    "colab": {
     "base_uri": "https://localhost:8080/",
     "height": 238
    },
    "executionInfo": {
     "elapsed": 3015,
     "status": "ok",
     "timestamp": 1603542386495,
     "user": {
      "displayName": "Imad Khanzada",
      "photoUrl": "https://lh3.googleusercontent.com/a-/AOh14GglUSPC1xTBFmnNxhIdCYGqq_23ydifOGEG9nMW=s64",
      "userId": "18384988035224797336"
     },
     "user_tz": -330
    },
    "id": "32aomywHS-Wv",
    "outputId": "0cb31fea-097d-4bd0-9dd7-c6f722f71da9"
   },
   "outputs": [
    {
     "name": "stdout",
     "output_type": "stream",
     "text": [
      "[[46  7]\n",
      " [ 1 26]]\n",
      "\n",
      " Classification Report:\n",
      "              precision    recall  f1-score   support\n",
      "\n",
      "           0       0.98      0.87      0.92        53\n",
      "           1       0.79      0.96      0.87        27\n",
      "\n",
      "    accuracy                           0.90        80\n",
      "   macro avg       0.88      0.92      0.89        80\n",
      "weighted avg       0.91      0.90      0.90        80\n",
      "\n"
     ]
    }
   ],
   "source": [
    "##Creating confusion matrix and Classifiaction report\n",
    "matrix= confusion_matrix(ytest,ypred)\n",
    "print(matrix)\n",
    "print(\"\\n Classification Report:\")\n",
    "print(classification_report(ytest,ypred))"
   ]
  },
  {
   "cell_type": "code",
   "execution_count": 22,
   "metadata": {
    "colab": {
     "base_uri": "https://localhost:8080/",
     "height": 228
    },
    "executionInfo": {
     "elapsed": 1150,
     "status": "ok",
     "timestamp": 1603542623084,
     "user": {
      "displayName": "Imad Khanzada",
      "photoUrl": "https://lh3.googleusercontent.com/a-/AOh14GglUSPC1xTBFmnNxhIdCYGqq_23ydifOGEG9nMW=s64",
      "userId": "18384988035224797336"
     },
     "user_tz": -330
    },
    "id": "EaKCJTw0lGgp",
    "outputId": "3200f7b5-c6f6-4411-9f7e-e26d0b96173f"
   },
   "outputs": [
    {
     "data": {
      "text/plain": [
       "<function matplotlib.pyplot.show(*args, **kw)>"
      ]
     },
     "execution_count": 22,
     "metadata": {},
     "output_type": "execute_result"
    },
    {
     "data": {
      "image/png": "[encoded data removed]",
      "text/plain": [
       "<Figure size 432x216 with 2 Axes>"
      ]
     },
     "metadata": {
      "needs_background": "light"
     },
     "output_type": "display_data"
    }
   ],
   "source": [
    "import seaborn as sns \n",
    "plt.figure(figsize=(6,3))\n",
    "sns.heatmap(matrix, annot=True)\n",
    "plt.show"
   ]
  },
  {
   "cell_type": "code",
   "execution_count": 23,
   "metadata": {
    "colab": {
     "base_uri": "https://localhost:8080/",
     "height": 374
    },
    "executionInfo": {
     "elapsed": 2964,
     "status": "ok",
     "timestamp": 1603542386496,
     "user": {
      "displayName": "Imad Khanzada",
      "photoUrl": "https://lh3.googleusercontent.com/a-/AOh14GglUSPC1xTBFmnNxhIdCYGqq_23ydifOGEG9nMW=s64",
      "userId": "18384988035224797336"
     },
     "user_tz": -330
    },
    "id": "cKnnaAE3Uek1",
    "outputId": "7f78ec19-c51c-4a90-f15f-37639952f3f1"
   },
   "outputs": [
    {
     "data": {
      "text/plain": [
       "<function matplotlib.pyplot.show(*args, **kw)>"
      ]
     },
     "execution_count": 23,
     "metadata": {},
     "output_type": "execute_result"
    },
    {
     "data": {
      "image/png": "[encoded data removed]",
      "text/plain": [
       "<Figure size 864x432 with 1 Axes>"
      ]
     },
     "metadata": {
      "needs_background": "light"
     },
     "output_type": "display_data"
    }
   ],
   "source": [
    "#plotting the decision tree \n",
    "plt.figure(figsize=(12,6))\n",
    "tree.plot_tree(classifier,filled=True)\n",
    "plt.show"
   ]
  },
  {
   "cell_type": "code",
   "execution_count": 24,
   "metadata": {
    "colab": {
     "base_uri": "https://localhost:8080/",
     "height": 204
    },
    "executionInfo": {
     "elapsed": 2930,
     "status": "ok",
     "timestamp": 1603542386497,
     "user": {
      "displayName": "Imad Khanzada",
      "photoUrl": "https://lh3.googleusercontent.com/a-/AOh14GglUSPC1xTBFmnNxhIdCYGqq_23ydifOGEG9nMW=s64",
      "userId": "18384988035224797336"
     },
     "user_tz": -330
    },
    "id": "Jy3Zcj5rUueK",
    "outputId": "892971eb-348e-4372-8253-44947d87d09d"
   },
   "outputs": [
    {
     "name": "stdout",
     "output_type": "stream",
     "text": [
      "|--- feature_1 <= 0.44\n",
      "|   |--- feature_2 <= 0.59\n",
      "|   |   |--- class: 0\n",
      "|   |--- feature_2 >  0.59\n",
      "|   |   |--- class: 1\n",
      "|--- feature_1 >  0.44\n",
      "|   |--- feature_2 <= -0.92\n",
      "|   |   |--- class: 1\n",
      "|   |--- feature_2 >  -0.92\n",
      "|   |   |--- class: 1\n",
      "\n"
     ]
    }
   ],
   "source": [
    "text_representation=tree.export_text(classifier)\n",
    "print(text_representation)"
   ]
  },
  {
   "cell_type": "code",
   "execution_count": 25,
   "metadata": {
    "colab": {
     "base_uri": "https://localhost:8080/",
     "height": 34
    },
    "executionInfo": {
     "elapsed": 2892,
     "status": "ok",
     "timestamp": 1603542386497,
     "user": {
      "displayName": "Imad Khanzada",
      "photoUrl": "https://lh3.googleusercontent.com/a-/AOh14GglUSPC1xTBFmnNxhIdCYGqq_23ydifOGEG9nMW=s64",
      "userId": "18384988035224797336"
     },
     "user_tz": -330
    },
    "id": "ET7IYEkVTgA9",
    "outputId": "48d32e36-3c1c-41a4-b610-c99d2a185ee4"
   },
   "outputs": [
    {
     "name": "stdout",
     "output_type": "stream",
     "text": [
      "Accuracy: 90.0\n"
     ]
    }
   ],
   "source": [
    "##checking the accuracy  By Decision tree\n",
    "print('Accuracy:',accuracy_score(ytest,ypred)*100)"
   ]
  },
  {
   "cell_type": "markdown",
   "metadata": {
    "id": "uSXwNcXxYCpn"
   },
   "source": [
    "**By Decision Tree We got Accuracy of 90%**"
   ]
  },
  {
   "cell_type": "markdown",
   "metadata": {
    "id": "VOsy33iIVXOw"
   },
   "source": [
    "Fitting the Random forest to the dataset"
   ]
  },
  {
   "cell_type": "code",
   "execution_count": 26,
   "metadata": {
    "colab": {
     "base_uri": "https://localhost:8080/",
     "height": 207
    },
    "executionInfo": {
     "elapsed": 3302,
     "status": "ok",
     "timestamp": 1603542386934,
     "user": {
      "displayName": "Imad Khanzada",
      "photoUrl": "https://lh3.googleusercontent.com/a-/AOh14GglUSPC1xTBFmnNxhIdCYGqq_23ydifOGEG9nMW=s64",
      "userId": "18384988035224797336"
     },
     "user_tz": -330
    },
    "id": "hLL8srToVqbF",
    "outputId": "0832b67a-f85a-4313-f5bb-815c88f30b98"
   },
   "outputs": [
    {
     "name": "stderr",
     "output_type": "stream",
     "text": [
      "<ipython-input-26-3710ca5e419c>:3: DataConversionWarning: A column-vector y was passed when a 1d array was expected. Please change the shape of y to (n_samples,), for example using ravel().\n",
      "  clf.fit(scaled_xtrain,ytrain)\n"
     ]
    },
    {
     "data": {
      "text/plain": [
       "RandomForestClassifier(n_estimators=50)"
      ]
     },
     "execution_count": 26,
     "metadata": {},
     "output_type": "execute_result"
    }
   ],
   "source": [
    "from sklearn.ensemble import RandomForestClassifier\n",
    "clf=RandomForestClassifier(n_estimators=50)\n",
    "clf.fit(scaled_xtrain,ytrain)\n"
   ]
  },
  {
   "cell_type": "code",
   "execution_count": 27,
   "metadata": {
    "colab": {
     "base_uri": "https://localhost:8080/",
     "height": 85
    },
    "executionInfo": {
     "elapsed": 3263,
     "status": "ok",
     "timestamp": 1603542386938,
     "user": {
      "displayName": "Imad Khanzada",
      "photoUrl": "https://lh3.googleusercontent.com/a-/AOh14GglUSPC1xTBFmnNxhIdCYGqq_23ydifOGEG9nMW=s64",
      "userId": "18384988035224797336"
     },
     "user_tz": -330
    },
    "id": "am0bdaUWV8M3",
    "outputId": "eb63b9b8-9a41-48ea-9304-2e88d10cb6c2"
   },
   "outputs": [
    {
     "data": {
      "text/plain": [
       "array([1, 0, 0, 0, 0, 0, 0, 0, 0, 0, 1, 0, 0, 0, 0, 0, 1, 0, 0, 0, 1, 0,\n",
       "       0, 0, 0, 0, 0, 1, 1, 0, 1, 0, 1, 0, 0, 1, 0, 0, 0, 0, 1, 0, 1, 0,\n",
       "       0, 1, 0, 0, 1, 1, 1, 0, 0, 0, 0, 0, 1, 1, 1, 1, 0, 1, 0, 0, 0, 1,\n",
       "       0, 0, 1, 1, 1, 1, 0, 1, 1, 0, 0, 0, 0, 1], dtype=int64)"
      ]
     },
     "execution_count": 27,
     "metadata": {},
     "output_type": "execute_result"
    }
   ],
   "source": [
    "y_pred=clf.predict(scaled_xtest)\n",
    "y_pred"
   ]
  },
  {
   "cell_type": "code",
   "execution_count": 28,
   "metadata": {
    "colab": {
     "base_uri": "https://localhost:8080/",
     "height": 238
    },
    "executionInfo": {
     "elapsed": 3226,
     "status": "ok",
     "timestamp": 1603542386939,
     "user": {
      "displayName": "Imad Khanzada",
      "photoUrl": "https://lh3.googleusercontent.com/a-/AOh14GglUSPC1xTBFmnNxhIdCYGqq_23ydifOGEG9nMW=s64",
      "userId": "18384988035224797336"
     },
     "user_tz": -330
    },
    "id": "QkQnwBj2W3G1",
    "outputId": "85581eae-f592-4bf8-e838-86ed2809df41"
   },
   "outputs": [
    {
     "name": "stdout",
     "output_type": "stream",
     "text": [
      "[[49  4]\n",
      " [ 3 24]]\n",
      "\n",
      " Classification Report:\n",
      "              precision    recall  f1-score   support\n",
      "\n",
      "           0       0.94      0.92      0.93        53\n",
      "           1       0.86      0.89      0.87        27\n",
      "\n",
      "    accuracy                           0.91        80\n",
      "   macro avg       0.90      0.91      0.90        80\n",
      "weighted avg       0.91      0.91      0.91        80\n",
      "\n"
     ]
    }
   ],
   "source": [
    "## ##Creating confusion matrix and Classifiaction report\n",
    "from sklearn.metrics import confusion_matrix\n",
    "from sklearn.metrics import accuracy_score,classification_report\n",
    "cm=confusion_matrix(ytest,y_pred)\n",
    "print(cm)\n",
    "print('\\n Classification Report:')\n",
    "print(classification_report(ytest,y_pred))"
   ]
  },
  {
   "cell_type": "code",
   "execution_count": 29,
   "metadata": {
    "colab": {
     "base_uri": "https://localhost:8080/",
     "height": 282
    },
    "executionInfo": {
     "elapsed": 1384,
     "status": "ok",
     "timestamp": 1603542454484,
     "user": {
      "displayName": "Imad Khanzada",
      "photoUrl": "https://lh3.googleusercontent.com/a-/AOh14GglUSPC1xTBFmnNxhIdCYGqq_23ydifOGEG9nMW=s64",
      "userId": "18384988035224797336"
     },
     "user_tz": -330
    },
    "id": "o5vIoF1Zkz9K",
    "outputId": "04a1adb6-0c97-480f-dd25-60ca5ab71702"
   },
   "outputs": [
    {
     "data": {
      "text/plain": [
       "<matplotlib.axes._subplots.AxesSubplot at 0x1e5ca9fb7c0>"
      ]
     },
     "execution_count": 29,
     "metadata": {},
     "output_type": "execute_result"
    },
    {
     "data": {
      "image/png": "[encoded data removed]",
      "text/plain": [
       "<Figure size 432x288 with 2 Axes>"
      ]
     },
     "metadata": {
      "needs_background": "light"
     },
     "output_type": "display_data"
    }
   ],
   "source": [
    "import seaborn as sns \n",
    "sns.heatmap(cm,annot=True)"
   ]
  },
  {
   "cell_type": "code",
   "execution_count": 30,
   "metadata": {
    "colab": {
     "base_uri": "https://localhost:8080/",
     "height": 34
    },
    "executionInfo": {
     "elapsed": 3198,
     "status": "ok",
     "timestamp": 1603542386939,
     "user": {
      "displayName": "Imad Khanzada",
      "photoUrl": "https://lh3.googleusercontent.com/a-/AOh14GglUSPC1xTBFmnNxhIdCYGqq_23ydifOGEG9nMW=s64",
      "userId": "18384988035224797336"
     },
     "user_tz": -330
    },
    "id": "6Htt399SXNk6",
    "outputId": "ebbf0d52-4806-4f70-d961-fb661c8c12dc"
   },
   "outputs": [
    {
     "name": "stdout",
     "output_type": "stream",
     "text": [
      "Accuracy: 91.25\n"
     ]
    }
   ],
   "source": [
    "## Checking the ACcuracy By Random Forest \n",
    "print('Accuracy:',accuracy_score(ytest,y_pred)*100)"
   ]
  },
  {
   "cell_type": "markdown",
   "metadata": {
    "id": "5I0itW18YPsM"
   },
   "source": [
    "**BY Random Forest We got Accuracy of 92.5%**"
   ]
  },
  {
   "cell_type": "markdown",
   "metadata": {
    "id": "t0gozQbtYZIb"
   },
   "source": [
    "\n",
    "*  Random Forest has higher accuracy than Decision Tree.\n",
    " \n",
    "# Hence We conclude by saying this we use Random Forest  for this dataset."
   ]
  },
  {
   "cell_type": "code",
   "execution_count": null,
   "metadata": {},
   "outputs": [],
   "source": []
  }
 ],
 "metadata": {
  "colab": {
   "authorship_tag": "ABX9TyPRxHgb55zSHLunuS+/jdo/",
   "collapsed_sections": [],
   "mount_file_id": "1xy877pgBdXxy222o1BXl13swtyxCdbee",
   "name": "DAY 35 Assignment.ipynb",
   "provenance": []
  },
  "kernelspec": {
   "display_name": "Python 3",
   "language": "python",
   "name": "python3"
  },
  "language_info": {
   "codemirror_mode": {
    "name": "ipython",
    "version": 3
   },
   "file_extension": ".py",
   "mimetype": "text/x-python",
   "name": "python",
   "nbconvert_exporter": "python",
   "pygments_lexer": "ipython3",
   "version": "3.8.3"
  }
 },
 "nbformat": 4,
 "nbformat_minor": 1
}
