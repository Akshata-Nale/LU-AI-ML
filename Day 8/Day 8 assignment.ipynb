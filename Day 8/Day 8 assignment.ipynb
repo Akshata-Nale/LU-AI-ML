{
 "cells": [
  {
   "cell_type": "markdown",
   "metadata": {},
   "source": [
    "# 1.Recreate “NB 21 map, filter, lambda.ipynb” to try different variations or perform different calculations from the ones that are in the NB."
   ]
  },
  {
   "cell_type": "markdown",
   "metadata": {},
   "source": [
    "## map()-\n",
    "It applies the given function to all iterables and returns a new list.\n",
    "\n",
    "### Syntax:\n",
    "\n",
    "#### map(function, iterables)"
   ]
  },
  {
   "cell_type": "code",
   "execution_count": 24,
   "metadata": {},
   "outputs": [
    {
     "name": "stdout",
     "output_type": "stream",
     "text": [
      "1.1\n",
      "5.68\n",
      "4.009\n",
      "5.2424\n",
      "9.01344\n",
      "32.00013\n"
     ]
    }
   ],
   "source": [
    "# map(function, iterables)\n",
    "c1 = [1.1234, 5.67890, 4.00914, 5.24241, 9.01344, 32.00013]\n",
    "for i in range(0,len(c1)):\n",
    "    c2 = c1.copy()\n",
    "    print(round(c2.pop(i),i+1))"
   ]
  },
  {
   "cell_type": "code",
   "execution_count": 25,
   "metadata": {},
   "outputs": [
    {
     "name": "stdout",
     "output_type": "stream",
     "text": [
      "[1.1, 5.68, 4.009, 56.2424, 9.01344, 32.00013]\n"
     ]
    }
   ],
   "source": [
    "# map(function, iterables)\n",
    "\n",
    "c = [1.1234, 5.67890, 4.00914, 56.24241, 9.01344, 32.00013]\n",
    "\n",
    "result = list(map(round, c , range(1,len(c)+1)))\n",
    "\n",
    "print(result)"
   ]
  },
  {
   "cell_type": "code",
   "execution_count": 26,
   "metadata": {},
   "outputs": [
    {
     "name": "stdout",
     "output_type": "stream",
     "text": [
      "[1, 4, 9, 16]\n"
     ]
    }
   ],
   "source": [
    "# map(function, iterables)\n",
    "def sqr(a,b):\n",
    "    return a*b\n",
    "\n",
    "x = map(sqr, [1,2,3,4], [1,2,3,4] )\n",
    "print(list(x))\n"
   ]
  },
  {
   "cell_type": "code",
   "execution_count": 28,
   "metadata": {},
   "outputs": [
    {
     "name": "stdout",
     "output_type": "stream",
     "text": [
      "[5, 6, 6]\n"
     ]
    }
   ],
   "source": [
    "# map(function, iterables)\n",
    "def length(n):\n",
    "    return len(n)\n",
    "x = print(list(map(length, ('apple', 'banana', 'cherry'))))\n"
   ]
  },
  {
   "cell_type": "code",
   "execution_count": 34,
   "metadata": {},
   "outputs": [
    {
     "name": "stdout",
     "output_type": "stream",
     "text": [
      "[1, 4, 9, 16, 25, 36, 49, 64, 81, 100]\n"
     ]
    }
   ],
   "source": [
    "# map(function, iterables)\n",
    "def sqr(a,b):\n",
    "    return a*b\n",
    "# your code goes here3\n",
    "print(list(map(sqr, [ i for i in range(1,11)], [ i for i in range(1,11)] )))"
   ]
  },
  {
   "cell_type": "markdown",
   "metadata": {},
   "source": [
    "## Lambda:\n",
    "One time use: They are used in places where we know that the function will be required just once. Therefore, lambda functions are also called as throw away functions.\n",
    "\n",
    "Input/Output to other functions: They are also passed as inputs or returned as outputs of other higher-order functions.\n",
    "\n",
    "Reduce Code size: The body of lambda functions is written in a single line.\n",
    "\n",
    "### Syntax:\n",
    "#### lambda arguments: expression"
   ]
  },
  {
   "cell_type": "code",
   "execution_count": 36,
   "metadata": {},
   "outputs": [
    {
     "data": {
      "text/plain": [
       "27"
      ]
     },
     "execution_count": 36,
     "metadata": {},
     "output_type": "execute_result"
    }
   ],
   "source": [
    "# without lambda\n",
    "def cube(a):\n",
    "    return a*a*a\n",
    "cube(3)"
   ]
  },
  {
   "cell_type": "code",
   "execution_count": 37,
   "metadata": {},
   "outputs": [
    {
     "data": {
      "text/plain": [
       "27"
      ]
     },
     "execution_count": 37,
     "metadata": {},
     "output_type": "execute_result"
    }
   ],
   "source": [
    "# with lambda\n",
    "x = lambda a: a*a*a\n",
    "x(3)"
   ]
  },
  {
   "cell_type": "code",
   "execution_count": 43,
   "metadata": {},
   "outputs": [
    {
     "name": "stdout",
     "output_type": "stream",
     "text": [
      "9\n"
     ]
    }
   ],
   "source": [
    "# lambda within user defined functions\n",
    "def abc(x):\n",
    "    return lambda y: x+y\n",
    "t = abc(4)\n",
    "print(t(5))"
   ]
  },
  {
   "cell_type": "code",
   "execution_count": 44,
   "metadata": {},
   "outputs": [
    {
     "data": {
      "text/plain": [
       "9"
      ]
     },
     "execution_count": 44,
     "metadata": {},
     "output_type": "execute_result"
    }
   ],
   "source": [
    "# Solving Algebraic expressions using lambda\n",
    "# LINEAR EQUATIONS\n",
    "x = lambda a: a*a\n",
    "x(3)"
   ]
  },
  {
   "cell_type": "code",
   "execution_count": 45,
   "metadata": {},
   "outputs": [
    {
     "data": {
      "text/plain": [
       "19"
      ]
     },
     "execution_count": 45,
     "metadata": {},
     "output_type": "execute_result"
    }
   ],
   "source": [
    "# Solving Algebraic expressions using lambda\n",
    "# LINEAR EQUATIONS : 5x+3y\n",
    "z = lambda x,y: 5*x+3*y\n",
    "z(2,3)"
   ]
  },
  {
   "cell_type": "code",
   "execution_count": 46,
   "metadata": {},
   "outputs": [
    {
     "name": "stdout",
     "output_type": "stream",
     "text": [
      "25\n"
     ]
    }
   ],
   "source": [
    "# Solving Algebraic expressions using lambda\n",
    "# QUADRATIC EQUATIONS : (a+b)^2\n",
    "z = lambda x,y: (x+y)**2\n",
    "print(z(2,3))"
   ]
  },
  {
   "cell_type": "code",
   "execution_count": 49,
   "metadata": {},
   "outputs": [
    {
     "name": "stdout",
     "output_type": "stream",
     "text": [
      "[2, 4, 6, 8]\n"
     ]
    }
   ],
   "source": [
    "# Use lambda functions along with map function\n",
    "l = [1,2,3,4]\n",
    "x = map(lambda x: x+x,l)\n",
    "print(list(x))"
   ]
  },
  {
   "cell_type": "code",
   "execution_count": 50,
   "metadata": {},
   "outputs": [
    {
     "name": "stdout",
     "output_type": "stream",
     "text": [
      "[2, 4, 6, 8]\n"
     ]
    }
   ],
   "source": [
    "# Lets further shorten the above code\n",
    "l = [1,2,3,4]\n",
    "x = list(map(lambda x: x+x,l))\n",
    "print(x)"
   ]
  },
  {
   "cell_type": "markdown",
   "metadata": {},
   "source": [
    "## filter() :\n",
    "It is used to filter the given iterables with the help of another function passed as an argument to test all the elements to be True or False.\n",
    "\n",
    "### Syntax:\n",
    "\n",
    "#### filter(function, iterables)"
   ]
  },
  {
   "cell_type": "code",
   "execution_count": 90,
   "metadata": {},
   "outputs": [
    {
     "name": "stdout",
     "output_type": "stream",
     "text": [
      "[2, 3, 5, 7]\n"
     ]
    }
   ],
   "source": [
    "def Prime(num):\n",
    "    if num==1:\n",
    "        return False\n",
    "    if num==2:\n",
    "        return True\n",
    "    for i in range(2,num):\n",
    "        if num%i==0:\n",
    "            return False\n",
    "    else:\n",
    "        return True\n",
    "lst=[1,2,3,4,5,6,7,8,9]\n",
    "a=filter(Prime,lst)\n",
    "print(list(a))"
   ]
  },
  {
   "cell_type": "code",
   "execution_count": 92,
   "metadata": {},
   "outputs": [
    {
     "name": "stdout",
     "output_type": "stream",
     "text": [
      "[1, 2, 4]\n"
     ]
    }
   ],
   "source": [
    "l = [1,2,3,4]\n",
    "# your code goes here1.3\n",
    "x = filter( lambda x: x!=3 ,l )\n",
    "print(list(x))"
   ]
  },
  {
   "cell_type": "code",
   "execution_count": 93,
   "metadata": {},
   "outputs": [
    {
     "name": "stdout",
     "output_type": "stream",
     "text": [
      "[1, 2, 4]\n"
     ]
    }
   ],
   "source": [
    "l = [1,2,3,4]\n",
    "print(list(filter( lambda x: x!=3 ,l )))"
   ]
  },
  {
   "cell_type": "markdown",
   "metadata": {},
   "source": [
    "## reduce():\n",
    "It applies some other function to a list that are passed as a parameter to it and finally return a single value.\n",
    "\n",
    "### Syntax:\n",
    "\n",
    "#### reduce(function, iterables)"
   ]
  },
  {
   "cell_type": "code",
   "execution_count": 95,
   "metadata": {},
   "outputs": [
    {
     "name": "stdout",
     "output_type": "stream",
     "text": [
      "68\n"
     ]
    }
   ],
   "source": [
    "from functools import reduce\n",
    "def custom_sum(a, b):\n",
    "    return a + b\n",
    "result = reduce(custom_sum, [3, 4, 6, 9, 34, 12])\n",
    "print(result)"
   ]
  },
  {
   "cell_type": "code",
   "execution_count": 96,
   "metadata": {},
   "outputs": [
    {
     "data": {
      "text/plain": [
       "10"
      ]
     },
     "execution_count": 96,
     "metadata": {},
     "output_type": "execute_result"
    }
   ],
   "source": [
    "# lets use reduce with lambda() now\n",
    "reduce( lambda x,y: x+y , [0,1,2,3,4] )"
   ]
  },
  {
   "cell_type": "code",
   "execution_count": 98,
   "metadata": {},
   "outputs": [
    {
     "name": "stdout",
     "output_type": "stream",
     "text": [
      "[4, 6, 8]\n"
     ]
    }
   ],
   "source": [
    "# filter within map\n",
    "x = map(lambda x: x+x,  filter(lambda x: x>=2, [1,2,3,4]))\n",
    "print(list(x))"
   ]
  },
  {
   "cell_type": "code",
   "execution_count": 101,
   "metadata": {},
   "outputs": [
    {
     "name": "stdout",
     "output_type": "stream",
     "text": [
      "<filter object at 0x0000020514922340>\n",
      "[4, 5, 6, 7]\n"
     ]
    }
   ],
   "source": [
    "# map within filter\n",
    "x = filter(lambda x: x>=3,  map(lambda x: x+3, [1,2,3,4]))\n",
    "print(x)\n",
    "print(list(x))\n"
   ]
  },
  {
   "cell_type": "code",
   "execution_count": 103,
   "metadata": {},
   "outputs": [
    {
     "name": "stdout",
     "output_type": "stream",
     "text": [
      "12\n"
     ]
    }
   ],
   "source": [
    "# map and filter within reduce\n",
    "x = reduce(lambda x,y: x+y,  map(lambda x:x+x, filter(lambda x: x%2==0, (1,2,3,4))))\n",
    "print(x)"
   ]
  },
  {
   "cell_type": "code",
   "execution_count": null,
   "metadata": {},
   "outputs": [],
   "source": []
  },
  {
   "cell_type": "markdown",
   "metadata": {},
   "source": [
    "# 2.Recreate your own Python NB for “Classes and Objects” from the pdf provided namely “Classes&Objects.pdf”."
   ]
  },
  {
   "cell_type": "markdown",
   "metadata": {},
   "source": [
    "**Class:** A user-defined prototype for an object that defines a set of attributes\n",
    "that characterize any object of the class. The attributes are data members\n",
    "(class variables and instance variables) and methods, accessed via dot\n",
    "notation.\n",
    "\n",
    "**Class variable:** A variable that is shared by all instances of a class. Class\n",
    "variables are defined within a class but outside any of the class's methods.\n",
    "Class variables are not used as frequently as instance variables are.\n",
    "\n",
    "**Data member:** A class variable or instance variable that holds data associated\n",
    "with a class and its objects.\n",
    "\n",
    "**Function overloading:** The assignment of more than one behavior to a\n",
    "particular function. The operation performed varies by the types of objects or\n",
    "arguments involved.\n",
    "\n",
    "**Instance variable:** A variable that is defined inside a method and belongs\n",
    "only to the current instance of a class.\n",
    "\n",
    "**Inheritance:** The transfer of the characteristics of a class to other classes that\n",
    "are derived from it.\n",
    "\n",
    "**Instance:** An individual object of a certain class. An object obj that belongs to\n",
    "a class Circle, for example, is an instance of the class Circle.\n",
    "\n",
    "**Instantiation:** The creation of an instance of a class.\n",
    "\n",
    "**Method:** A special kind of function that is defined in a class definition.\n",
    "\n",
    "**Object:** A unique instance of a data structure that's defined by its class. An\n",
    "object comprises both data members (class variables and instance variables)\n",
    "and methods.\n",
    "\n",
    "**Operator overloading:** The assignment of more than one function to a\n",
    "particular operator.\n",
    "\n",
    "#### Syntax:\n",
    "class ClassName:stmnt1 stmnt2 stmnt3\n"
   ]
  },
  {
   "cell_type": "code",
   "execution_count": 149,
   "metadata": {},
   "outputs": [],
   "source": [
    "class Employee:\n",
    "    empCount = 0\n",
    "    def __init__(self, name, salary,age):\n",
    "        self.name = name\n",
    "        self.salary = salary\n",
    "        self.age = age\n",
    "        Employee.empCount += 1\n",
    "    def displayCount(self):\n",
    "        print(\"Total Employee :\",Employee.empCount)\n",
    "    def displayEmployee(self):\n",
    "        print(\"Name : \", self.name, \", Salary: \", self.salary,\",Age:\",self.age)"
   ]
  },
  {
   "cell_type": "code",
   "execution_count": 150,
   "metadata": {},
   "outputs": [],
   "source": [
    "# Creating Instance Objects\n",
    "#\"This would create first object of Employee class\"\n",
    "emp1 = Employee(\"Zara\", 2000,25)\n",
    "#\"This would create second object of Employee class\"\n",
    "emp2 = Employee(\"Manni\", 5000,26)"
   ]
  },
  {
   "cell_type": "code",
   "execution_count": 151,
   "metadata": {},
   "outputs": [
    {
     "name": "stdout",
     "output_type": "stream",
     "text": [
      "Name :  Zara , Salary:  2000 ,Age: 25\n",
      "Name :  Manni , Salary:  5000 ,Age: 26\n",
      "Total Employee :  2\n"
     ]
    }
   ],
   "source": [
    "# accessing attributes\n",
    "emp1.displayEmployee()\n",
    "emp2.displayEmployee()\n",
    "print(\"Total Employee : \",Employee.empCount)\n"
   ]
  },
  {
   "cell_type": "code",
   "execution_count": 152,
   "metadata": {},
   "outputs": [],
   "source": [
    "emp1.age = 8 # Modify 'age' attribute."
   ]
  },
  {
   "cell_type": "code",
   "execution_count": 156,
   "metadata": {},
   "outputs": [
    {
     "name": "stdout",
     "output_type": "stream",
     "text": [
      "True\n",
      "None\n",
      "8\n"
     ]
    }
   ],
   "source": [
    "print(hasattr(emp1,'name')) # Returns true if 'age' attribute exists\n",
    "setattr(emp1, 'age', 8) # Set attribute 'age' at 8\n",
    "print(getattr(emp1, 'age')) # Returns value of 'age' attribute\n",
    "#delattr(emp1, 'age') # Delete attribute 'age'"
   ]
  },
  {
   "cell_type": "markdown",
   "metadata": {},
   "source": [
    "## del():\n",
    "It is used when you want to destroy an instance of the class which is no longer referenced."
   ]
  },
  {
   "cell_type": "code",
   "execution_count": 157,
   "metadata": {},
   "outputs": [
    {
     "name": "stdout",
     "output_type": "stream",
     "text": [
      "Hello  Darshan\n",
      "Hello  Python\n"
     ]
    }
   ],
   "source": [
    "# Program to delete object of a class.\n",
    "class abc:\n",
    "    def __init__(self,n): #Parameterized constructor\n",
    "        print(\"Hello \",n)\n",
    "    def __del__(self):\n",
    "        print(\"Object deleted\")\n",
    "\n",
    "s1=abc(\"Darshan\")\n",
    "s2=abc(\"Python\")"
   ]
  },
  {
   "cell_type": "markdown",
   "metadata": {},
   "source": [
    "## Data Encapsulation\n",
    "It is used to restrict access to methods and variables.\n",
    "\n",
    "This can prevent the data to be modified by accident and is know as encapsulation."
   ]
  },
  {
   "cell_type": "code",
   "execution_count": 160,
   "metadata": {},
   "outputs": [
    {
     "name": "stdout",
     "output_type": "stream",
     "text": [
      "Hello \n",
      "Hi\n"
     ]
    }
   ],
   "source": [
    "class st:\n",
    "    def __init__(self):\n",
    "        self.__show1()\n",
    "    def show(self):\n",
    "        print(\"Hi\")\n",
    "    def __show1(self):\n",
    "        print(\"Hello \")\n",
    "        \n",
    "v=st()\n",
    "v.show()\n",
    "#v.__show1() # not accessible from object v bcz of private method"
   ]
  },
  {
   "cell_type": "markdown",
   "metadata": {},
   "source": [
    "### Data Abstraction:\n",
    "Sometimes we want that objects attributes may or may not be visible outside the class definition.\n",
    "\n",
    "Here, we need to name attributes with double underscore prefix and those attributes then are not directly visible to the outsiders."
   ]
  },
  {
   "cell_type": "code",
   "execution_count": 162,
   "metadata": {},
   "outputs": [
    {
     "name": "stdout",
     "output_type": "stream",
     "text": [
      "1\n",
      "2\n",
      "3\n"
     ]
    }
   ],
   "source": [
    "# Program to use Data Hiding\n",
    "class abc:\n",
    "    __p=0\n",
    "    def show(self):\n",
    "        self.__p=self.__p+1\n",
    "        print(self.__p)\n",
    "\n",
    "v=abc()\n",
    "v.show()\n",
    "v.show()\n",
    "v.show()\n",
    "#print(v.__p) # __p is hidden for outside class so error occurs"
   ]
  },
  {
   "cell_type": "code",
   "execution_count": null,
   "metadata": {},
   "outputs": [],
   "source": []
  }
 ],
 "metadata": {
  "kernelspec": {
   "display_name": "Python 3",
   "language": "python",
   "name": "python3"
  },
  "language_info": {
   "codemirror_mode": {
    "name": "ipython",
    "version": 3
   },
   "file_extension": ".py",
   "mimetype": "text/x-python",
   "name": "python",
   "nbconvert_exporter": "python",
   "pygments_lexer": "ipython3",
   "version": "3.8.3"
  }
 },
 "nbformat": 4,
 "nbformat_minor": 4
}
