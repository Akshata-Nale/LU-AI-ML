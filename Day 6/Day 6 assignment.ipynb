{
 "cells": [
  {
   "cell_type": "markdown",
   "metadata": {},
   "source": [
    "# 1.Program to print the company name of a given email address."
   ]
  },
  {
   "cell_type": "code",
   "execution_count": 1,
   "metadata": {},
   "outputs": [
    {
     "name": "stdout",
     "output_type": "stream",
     "text": [
      "Enter the email address:akshata@google.com\n",
      "Company name: google\n"
     ]
    }
   ],
   "source": [
    "def company_name(email):\n",
    "    company=email.split('@')[1].split(\".\")[0]\n",
    "    print(\"Company name:\",company)\n",
    "a=input(\"Enter the email address:\")\n",
    "company_name(a)\n",
    "    "
   ]
  },
  {
   "cell_type": "markdown",
   "metadata": {},
   "source": [
    "# 2.Write a program that accepts a comma-separated sequence of words as input and prints the words in a comma-separated sequence after sorting them alphabetically."
   ]
  },
  {
   "cell_type": "code",
   "execution_count": 5,
   "metadata": {},
   "outputs": [
    {
     "name": "stdout",
     "output_type": "stream",
     "text": [
      "Enter the words: without,hello,bag,world\n",
      "Sorted sequence is:  bag,hello,without,world\n"
     ]
    }
   ],
   "source": [
    "def sorting(word):\n",
    "    word = word.split(\",\")\n",
    "    word.sort()\n",
    "    print(\"Sorted sequence is: \", ','.join(word))\n",
    "a = input(\"Enter the words: \")\n",
    "sorting(a)"
   ]
  },
  {
   "cell_type": "markdown",
   "metadata": {},
   "source": [
    "# 3.Jupyter Notebook for Sets."
   ]
  },
  {
   "cell_type": "markdown",
   "metadata": {},
   "source": [
    "A set is a collection which is unordered and unindexed.\n",
    "\n",
    "In Python, sets are written with curly brackets.\n",
    "\n",
    "Once a set is created, you cannot change its items, but you can add new items."
   ]
  },
  {
   "cell_type": "code",
   "execution_count": 3,
   "metadata": {},
   "outputs": [
    {
     "name": "stdout",
     "output_type": "stream",
     "text": [
      "{}\n"
     ]
    }
   ],
   "source": [
    "# empty set\n",
    "a={}\n",
    "print(a)"
   ]
  },
  {
   "cell_type": "code",
   "execution_count": 29,
   "metadata": {},
   "outputs": [
    {
     "name": "stdout",
     "output_type": "stream",
     "text": [
      "{'Ant', 'Bat', 'Cat'}\n",
      "<class 'set'>\n",
      "Ant\n",
      "Bat\n",
      "Cat\n"
     ]
    }
   ],
   "source": [
    "a={\"Ant\",\"Bat\",\"Cat\"}\n",
    "print(a)\n",
    "print(type(a))\n",
    "for x in a:\n",
    "    print(x)"
   ]
  },
  {
   "cell_type": "code",
   "execution_count": 37,
   "metadata": {},
   "outputs": [
    {
     "name": "stdout",
     "output_type": "stream",
     "text": [
      "{'Ant', 'Bat', 'Cat'}\n",
      "True\n",
      "{'Ant', 'Bat', 'Dog', 'Cat'}\n",
      "{'Dog', 'Cat', 'Elephant', 'Ant', 'Bat', 'Fish', 'Goat'}\n",
      "7\n",
      "{'Dog', 'Cat', 'Elephant', 'Ant', 'Bat', 'Goat'}\n",
      "set()\n"
     ]
    }
   ],
   "source": [
    "#operations on set\n",
    "set1={\"Ant\",\"Bat\",\"Cat\"}\n",
    "print(set1)\n",
    "\n",
    "print(\"Bat\" in set1)\n",
    "\n",
    "set1.add(\"Dog\")\n",
    "print(set1)\n",
    "\n",
    "set1.update([\"Elephant\",\"Fish\",\"Goat\"])\n",
    "print(set1)\n",
    "\n",
    "print(len(set1))\n",
    "\n",
    "set1.remove(\"Fish\")\n",
    "print(set1)\n",
    "\n",
    "set1.clear()\n",
    "print(set1)\n"
   ]
  },
  {
   "cell_type": "code",
   "execution_count": 54,
   "metadata": {},
   "outputs": [
    {
     "name": "stdout",
     "output_type": "stream",
     "text": [
      "set1= {'b', 'a', 'c'}\n",
      "set2= {1, 2, 3, 'c', 'a'}\n",
      "Union of set1 and set2 is set3 =  {1, 'c', 2, 3, 'a', 'b'}\n",
      "Difference of set1 and set2 is set4 =  {'b'}\n",
      "Is set 2 subset of set 3? : True\n",
      "Intersection of set1 and set2 is set6 =   {'c', 'a'}\n",
      "Symmetric diffference of set1 and set3 is set7 =: {1, 2, 3}\n"
     ]
    }
   ],
   "source": [
    "set1 = {\"a\", \"b\" , \"c\"}\n",
    "print(\"set1=\",set1)\n",
    "set2 = {1, 2, 3,\"a\",\"c\"}\n",
    "print(\"set2=\",set2)\n",
    "set3 = set1.union(set2)\n",
    "print(\"Union of set1 and set2 is set3 = \",set3)\n",
    "\n",
    "set4=set1.difference(set2)\n",
    "print(\"Difference of set1 and set2 is set4 = \",set4)\n",
    "\n",
    "set5=set2.issubset(set3)\n",
    "print(\"Is set 2 subset of set 3? :\",set5)\n",
    "\n",
    "set6= set1.intersection(set2)\n",
    "print(\"Intersection of set1 and set2 is set6 =  \",set6)\n",
    "\n",
    "set7=set3.symmetric_difference(set1)\n",
    "print(\"Symmetric diffference of set1 and set3 is set7 =:\",set7)\n"
   ]
  },
  {
   "cell_type": "markdown",
   "metadata": {},
   "source": [
    "# 4.Given a list of n-1 numbers ranging from 1 to n, your task is to find the missing number. No duplicates present."
   ]
  },
  {
   "cell_type": "code",
   "execution_count": 8,
   "metadata": {},
   "outputs": [
    {
     "name": "stdout",
     "output_type": "stream",
     "text": [
      "Enter the numbers: 1 4 6 2 3\n",
      "Missing number is: 5\n"
     ]
    }
   ],
   "source": [
    "list1=input(\"Enter the numbers: \")\n",
    "list1= list1.split(' ')\n",
    "list2=[]\n",
    "for i in list1:\n",
    "    list2.append(int(i))\n",
    "num = len(list2)+2\n",
    "for i in range(1, num):\n",
    "    if i not in list2:\n",
    "        print(\"Missing number is:\",i)"
   ]
  },
  {
   "cell_type": "markdown",
   "metadata": {},
   "source": [
    "# 5.With a given list L, write a program to print this list L after removing all duplicate values with original order reserved."
   ]
  },
  {
   "cell_type": "code",
   "execution_count": 12,
   "metadata": {},
   "outputs": [
    {
     "name": "stdout",
     "output_type": "stream",
     "text": [
      "List L: 12 24 35 24 88 120 155 88 120 155\n",
      "After removing duplicates list L:  12 24 35 88 120 155\n"
     ]
    }
   ],
   "source": [
    "list_a = input(\"List L: \")\n",
    "list_a = list_a.split(\" \")\n",
    "list_b = []\n",
    "for i in list_a:\n",
    "     if i not in list_b:\n",
    "        list_b.append(i)\n",
    "list_b=\" \".join(list_b)\n",
    "print(\"After removing duplicates list L: \",list_b)"
   ]
  },
  {
   "cell_type": "code",
   "execution_count": null,
   "metadata": {},
   "outputs": [],
   "source": []
  }
 ],
 "metadata": {
  "kernelspec": {
   "display_name": "Python 3",
   "language": "python",
   "name": "python3"
  },
  "language_info": {
   "codemirror_mode": {
    "name": "ipython",
    "version": 3
   },
   "file_extension": ".py",
   "mimetype": "text/x-python",
   "name": "python",
   "nbconvert_exporter": "python",
   "pygments_lexer": "ipython3",
   "version": "3.8.3"
  }
 },
 "nbformat": 4,
 "nbformat_minor": 4
}
