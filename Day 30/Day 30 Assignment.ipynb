{
 "cells": [
  {
   "cell_type": "markdown",
   "metadata": {
    "id": "nw9Ln9VxI6ZX"
   },
   "source": [
    "**Question 1:**\n",
    "Use Digit dataset and perform the Logistic Regression. Import the dataset from Sklearn"
   ]
  },
  {
   "cell_type": "code",
   "execution_count": 1,
   "metadata": {
    "executionInfo": {
     "elapsed": 1489,
     "status": "ok",
     "timestamp": 1603117263149,
     "user": {
      "displayName": "Imad Khanzada",
      "photoUrl": "https://lh3.googleusercontent.com/a-/AOh14GglUSPC1xTBFmnNxhIdCYGqq_23ydifOGEG9nMW=s64",
      "userId": "18384988035224797336"
     },
     "user_tz": -330
    },
    "id": "b86_ZuDfI5dl"
   },
   "outputs": [],
   "source": [
    "import pandas as pd \n",
    "import matplotlib.pyplot as plt\n",
    "import seaborn as sns\n"
   ]
  },
  {
   "cell_type": "markdown",
   "metadata": {
    "id": "GQTuwQdULo3M"
   },
   "source": [
    "# Importing dataset from sklearn"
   ]
  },
  {
   "cell_type": "code",
   "execution_count": 2,
   "metadata": {
    "colab": {
     "base_uri": "https://localhost:8080/",
     "height": 1000
    },
    "executionInfo": {
     "elapsed": 1435,
     "status": "ok",
     "timestamp": 1603117263153,
     "user": {
      "displayName": "Imad Khanzada",
      "photoUrl": "https://lh3.googleusercontent.com/a-/AOh14GglUSPC1xTBFmnNxhIdCYGqq_23ydifOGEG9nMW=s64",
      "userId": "18384988035224797336"
     },
     "user_tz": -330
    },
    "id": "wPcvOOLIJzKF",
    "outputId": "27698715-e941-4814-d024-f8d6dfeebb6d"
   },
   "outputs": [
    {
     "data": {
      "text/plain": [
       "{'data': array([[ 0.,  0.,  5., ...,  0.,  0.,  0.],\n",
       "        [ 0.,  0.,  0., ..., 10.,  0.,  0.],\n",
       "        [ 0.,  0.,  0., ..., 16.,  9.,  0.],\n",
       "        ...,\n",
       "        [ 0.,  0.,  1., ...,  6.,  0.,  0.],\n",
       "        [ 0.,  0.,  2., ..., 12.,  0.,  0.],\n",
       "        [ 0.,  0., 10., ..., 12.,  1.,  0.]]),\n",
       " 'target': array([0, 1, 2, ..., 8, 9, 8]),\n",
       " 'frame': None,\n",
       " 'feature_names': ['pixel_0_0',\n",
       "  'pixel_0_1',\n",
       "  'pixel_0_2',\n",
       "  'pixel_0_3',\n",
       "  'pixel_0_4',\n",
       "  'pixel_0_5',\n",
       "  'pixel_0_6',\n",
       "  'pixel_0_7',\n",
       "  'pixel_1_0',\n",
       "  'pixel_1_1',\n",
       "  'pixel_1_2',\n",
       "  'pixel_1_3',\n",
       "  'pixel_1_4',\n",
       "  'pixel_1_5',\n",
       "  'pixel_1_6',\n",
       "  'pixel_1_7',\n",
       "  'pixel_2_0',\n",
       "  'pixel_2_1',\n",
       "  'pixel_2_2',\n",
       "  'pixel_2_3',\n",
       "  'pixel_2_4',\n",
       "  'pixel_2_5',\n",
       "  'pixel_2_6',\n",
       "  'pixel_2_7',\n",
       "  'pixel_3_0',\n",
       "  'pixel_3_1',\n",
       "  'pixel_3_2',\n",
       "  'pixel_3_3',\n",
       "  'pixel_3_4',\n",
       "  'pixel_3_5',\n",
       "  'pixel_3_6',\n",
       "  'pixel_3_7',\n",
       "  'pixel_4_0',\n",
       "  'pixel_4_1',\n",
       "  'pixel_4_2',\n",
       "  'pixel_4_3',\n",
       "  'pixel_4_4',\n",
       "  'pixel_4_5',\n",
       "  'pixel_4_6',\n",
       "  'pixel_4_7',\n",
       "  'pixel_5_0',\n",
       "  'pixel_5_1',\n",
       "  'pixel_5_2',\n",
       "  'pixel_5_3',\n",
       "  'pixel_5_4',\n",
       "  'pixel_5_5',\n",
       "  'pixel_5_6',\n",
       "  'pixel_5_7',\n",
       "  'pixel_6_0',\n",
       "  'pixel_6_1',\n",
       "  'pixel_6_2',\n",
       "  'pixel_6_3',\n",
       "  'pixel_6_4',\n",
       "  'pixel_6_5',\n",
       "  'pixel_6_6',\n",
       "  'pixel_6_7',\n",
       "  'pixel_7_0',\n",
       "  'pixel_7_1',\n",
       "  'pixel_7_2',\n",
       "  'pixel_7_3',\n",
       "  'pixel_7_4',\n",
       "  'pixel_7_5',\n",
       "  'pixel_7_6',\n",
       "  'pixel_7_7'],\n",
       " 'target_names': array([0, 1, 2, 3, 4, 5, 6, 7, 8, 9]),\n",
       " 'images': array([[[ 0.,  0.,  5., ...,  1.,  0.,  0.],\n",
       "         [ 0.,  0., 13., ..., 15.,  5.,  0.],\n",
       "         [ 0.,  3., 15., ..., 11.,  8.,  0.],\n",
       "         ...,\n",
       "         [ 0.,  4., 11., ..., 12.,  7.,  0.],\n",
       "         [ 0.,  2., 14., ..., 12.,  0.,  0.],\n",
       "         [ 0.,  0.,  6., ...,  0.,  0.,  0.]],\n",
       " \n",
       "        [[ 0.,  0.,  0., ...,  5.,  0.,  0.],\n",
       "         [ 0.,  0.,  0., ...,  9.,  0.,  0.],\n",
       "         [ 0.,  0.,  3., ...,  6.,  0.,  0.],\n",
       "         ...,\n",
       "         [ 0.,  0.,  1., ...,  6.,  0.,  0.],\n",
       "         [ 0.,  0.,  1., ...,  6.,  0.,  0.],\n",
       "         [ 0.,  0.,  0., ..., 10.,  0.,  0.]],\n",
       " \n",
       "        [[ 0.,  0.,  0., ..., 12.,  0.,  0.],\n",
       "         [ 0.,  0.,  3., ..., 14.,  0.,  0.],\n",
       "         [ 0.,  0.,  8., ..., 16.,  0.,  0.],\n",
       "         ...,\n",
       "         [ 0.,  9., 16., ...,  0.,  0.,  0.],\n",
       "         [ 0.,  3., 13., ..., 11.,  5.,  0.],\n",
       "         [ 0.,  0.,  0., ..., 16.,  9.,  0.]],\n",
       " \n",
       "        ...,\n",
       " \n",
       "        [[ 0.,  0.,  1., ...,  1.,  0.,  0.],\n",
       "         [ 0.,  0., 13., ...,  2.,  1.,  0.],\n",
       "         [ 0.,  0., 16., ..., 16.,  5.,  0.],\n",
       "         ...,\n",
       "         [ 0.,  0., 16., ..., 15.,  0.,  0.],\n",
       "         [ 0.,  0., 15., ..., 16.,  0.,  0.],\n",
       "         [ 0.,  0.,  2., ...,  6.,  0.,  0.]],\n",
       " \n",
       "        [[ 0.,  0.,  2., ...,  0.,  0.,  0.],\n",
       "         [ 0.,  0., 14., ..., 15.,  1.,  0.],\n",
       "         [ 0.,  4., 16., ..., 16.,  7.,  0.],\n",
       "         ...,\n",
       "         [ 0.,  0.,  0., ..., 16.,  2.,  0.],\n",
       "         [ 0.,  0.,  4., ..., 16.,  2.,  0.],\n",
       "         [ 0.,  0.,  5., ..., 12.,  0.,  0.]],\n",
       " \n",
       "        [[ 0.,  0., 10., ...,  1.,  0.,  0.],\n",
       "         [ 0.,  2., 16., ...,  1.,  0.,  0.],\n",
       "         [ 0.,  0., 15., ..., 15.,  0.,  0.],\n",
       "         ...,\n",
       "         [ 0.,  4., 16., ..., 16.,  6.,  0.],\n",
       "         [ 0.,  8., 16., ..., 16.,  8.,  0.],\n",
       "         [ 0.,  1.,  8., ..., 12.,  1.,  0.]]]),\n",
       " 'DESCR': \".. _digits_dataset:\\n\\nOptical recognition of handwritten digits dataset\\n--------------------------------------------------\\n\\n**Data Set Characteristics:**\\n\\n    :Number of Instances: 5620\\n    :Number of Attributes: 64\\n    :Attribute Information: 8x8 image of integer pixels in the range 0..16.\\n    :Missing Attribute Values: None\\n    :Creator: E. Alpaydin (alpaydin '@' boun.edu.tr)\\n    :Date: July; 1998\\n\\nThis is a copy of the test set of the UCI ML hand-written digits datasets\\nhttps://archive.ics.uci.edu/ml/datasets/Optical+Recognition+of+Handwritten+Digits\\n\\nThe data set contains images of hand-written digits: 10 classes where\\neach class refers to a digit.\\n\\nPreprocessing programs made available by NIST were used to extract\\nnormalized bitmaps of handwritten digits from a preprinted form. From a\\ntotal of 43 people, 30 contributed to the training set and different 13\\nto the test set. 32x32 bitmaps are divided into nonoverlapping blocks of\\n4x4 and the number of on pixels are counted in each block. This generates\\nan input matrix of 8x8 where each element is an integer in the range\\n0..16. This reduces dimensionality and gives invariance to small\\ndistortions.\\n\\nFor info on NIST preprocessing routines, see M. D. Garris, J. L. Blue, G.\\nT. Candela, D. L. Dimmick, J. Geist, P. J. Grother, S. A. Janet, and C.\\nL. Wilson, NIST Form-Based Handprint Recognition System, NISTIR 5469,\\n1994.\\n\\n.. topic:: References\\n\\n  - C. Kaynak (1995) Methods of Combining Multiple Classifiers and Their\\n    Applications to Handwritten Digit Recognition, MSc Thesis, Institute of\\n    Graduate Studies in Science and Engineering, Bogazici University.\\n  - E. Alpaydin, C. Kaynak (1998) Cascading Classifiers, Kybernetika.\\n  - Ken Tang and Ponnuthurai N. Suganthan and Xi Yao and A. Kai Qin.\\n    Linear dimensionalityreduction using relevance weighted LDA. School of\\n    Electrical and Electronic Engineering Nanyang Technological University.\\n    2005.\\n  - Claudio Gentile. A New Approximate Maximal Margin Classification\\n    Algorithm. NIPS. 2000.\"}"
      ]
     },
     "execution_count": 2,
     "metadata": {},
     "output_type": "execute_result"
    }
   ],
   "source": [
    "from sklearn.datasets import load_digits\n",
    "data=load_digits()\n",
    "data\n"
   ]
  },
  {
   "cell_type": "code",
   "execution_count": 3,
   "metadata": {
    "colab": {
     "base_uri": "https://localhost:8080/",
     "height": 34
    },
    "executionInfo": {
     "elapsed": 1875,
     "status": "ok",
     "timestamp": 1603117263618,
     "user": {
      "displayName": "Imad Khanzada",
      "photoUrl": "https://lh3.googleusercontent.com/a-/AOh14GglUSPC1xTBFmnNxhIdCYGqq_23ydifOGEG9nMW=s64",
      "userId": "18384988035224797336"
     },
     "user_tz": -330
    },
    "id": "rI95-psMKxPw",
    "outputId": "2fd315c6-6ef9-479d-e67b-f97e655843c1"
   },
   "outputs": [
    {
     "data": {
      "text/plain": [
       "['DESCR', 'data', 'feature_names', 'frame', 'images', 'target', 'target_names']"
      ]
     },
     "execution_count": 3,
     "metadata": {},
     "output_type": "execute_result"
    }
   ],
   "source": [
    "dir(data)"
   ]
  },
  {
   "cell_type": "code",
   "execution_count": 4,
   "metadata": {
    "colab": {
     "base_uri": "https://localhost:8080/",
     "height": 34
    },
    "executionInfo": {
     "elapsed": 1853,
     "status": "ok",
     "timestamp": 1603117263619,
     "user": {
      "displayName": "Imad Khanzada",
      "photoUrl": "https://lh3.googleusercontent.com/a-/AOh14GglUSPC1xTBFmnNxhIdCYGqq_23ydifOGEG9nMW=s64",
      "userId": "18384988035224797336"
     },
     "user_tz": -330
    },
    "id": "eSMLCQ4TKRx5",
    "outputId": "9d659f81-f49b-4828-a05c-1f1e4ba62e44"
   },
   "outputs": [
    {
     "data": {
      "text/plain": [
       "(1797, 64)"
      ]
     },
     "execution_count": 4,
     "metadata": {},
     "output_type": "execute_result"
    }
   ],
   "source": [
    "data.data.shape"
   ]
  },
  {
   "cell_type": "code",
   "execution_count": 5,
   "metadata": {
    "colab": {
     "base_uri": "https://localhost:8080/",
     "height": 34
    },
    "executionInfo": {
     "elapsed": 1837,
     "status": "ok",
     "timestamp": 1603117263620,
     "user": {
      "displayName": "Imad Khanzada",
      "photoUrl": "https://lh3.googleusercontent.com/a-/AOh14GglUSPC1xTBFmnNxhIdCYGqq_23ydifOGEG9nMW=s64",
      "userId": "18384988035224797336"
     },
     "user_tz": -330
    },
    "id": "HVZN9_rYLJmI",
    "outputId": "0e0f0d96-5ed3-4bd9-af1f-88d2d7ece947"
   },
   "outputs": [
    {
     "data": {
      "text/plain": [
       "(1797,)"
      ]
     },
     "execution_count": 5,
     "metadata": {},
     "output_type": "execute_result"
    }
   ],
   "source": [
    "data.target.shape"
   ]
  },
  {
   "cell_type": "code",
   "execution_count": 6,
   "metadata": {
    "colab": {
     "base_uri": "https://localhost:8080/",
     "height": 34
    },
    "executionInfo": {
     "elapsed": 1809,
     "status": "ok",
     "timestamp": 1603117263621,
     "user": {
      "displayName": "Imad Khanzada",
      "photoUrl": "https://lh3.googleusercontent.com/a-/AOh14GglUSPC1xTBFmnNxhIdCYGqq_23ydifOGEG9nMW=s64",
      "userId": "18384988035224797336"
     },
     "user_tz": -330
    },
    "id": "f1mjD5OyLW3v",
    "outputId": "7371a62c-f8ba-49bd-91af-81f633038a58"
   },
   "outputs": [
    {
     "data": {
      "text/plain": [
       "array([0, 1, 2, ..., 8, 9, 8])"
      ]
     },
     "execution_count": 6,
     "metadata": {},
     "output_type": "execute_result"
    }
   ],
   "source": [
    "data.target"
   ]
  },
  {
   "cell_type": "markdown",
   "metadata": {
    "id": "DnKHijS9LamX"
   },
   "source": [
    "Spliting the train and test data "
   ]
  },
  {
   "cell_type": "code",
   "execution_count": 7,
   "metadata": {
    "executionInfo": {
     "elapsed": 1800,
     "status": "ok",
     "timestamp": 1603117263622,
     "user": {
      "displayName": "Imad Khanzada",
      "photoUrl": "https://lh3.googleusercontent.com/a-/AOh14GglUSPC1xTBFmnNxhIdCYGqq_23ydifOGEG9nMW=s64",
      "userId": "18384988035224797336"
     },
     "user_tz": -330
    },
    "id": "zmHXwGAWL45y"
   },
   "outputs": [],
   "source": [
    "from sklearn.model_selection import train_test_split ## training and testing\n",
    "from sklearn.linear_model import LogisticRegression  ## for logistic regression\n",
    "from sklearn.metrics import accuracy_score,confusion_matrix ## checking accuracy and confusion matrix \n",
    "from sklearn.preprocessing import StandardScaler ## scaling down the features"
   ]
  },
  {
   "cell_type": "code",
   "execution_count": 8,
   "metadata": {
    "executionInfo": {
     "elapsed": 1789,
     "status": "ok",
     "timestamp": 1603117263623,
     "user": {
      "displayName": "Imad Khanzada",
      "photoUrl": "https://lh3.googleusercontent.com/a-/AOh14GglUSPC1xTBFmnNxhIdCYGqq_23ydifOGEG9nMW=s64",
      "userId": "18384988035224797336"
     },
     "user_tz": -330
    },
    "id": "cPIOAYWZNemO"
   },
   "outputs": [],
   "source": [
    "xtrain,xtest,ytrain,ytest=train_test_split(data.data,data.target,test_size=0.2,random_state=1)"
   ]
  },
  {
   "cell_type": "code",
   "execution_count": 9,
   "metadata": {
    "colab": {
     "base_uri": "https://localhost:8080/",
     "height": 153
    },
    "executionInfo": {
     "elapsed": 1769,
     "status": "ok",
     "timestamp": 1603117263624,
     "user": {
      "displayName": "Imad Khanzada",
      "photoUrl": "https://lh3.googleusercontent.com/a-/AOh14GglUSPC1xTBFmnNxhIdCYGqq_23ydifOGEG9nMW=s64",
      "userId": "18384988035224797336"
     },
     "user_tz": -330
    },
    "id": "sHTRw0urN3Ad",
    "outputId": "cbb48b5a-1be5-48db-eaa9-1f70a0a519e5"
   },
   "outputs": [
    {
     "name": "stdout",
     "output_type": "stream",
     "text": [
      "\n",
      " xtrain: (1437, 64)\n",
      "\n",
      " xtest: (360, 64)\n",
      "\n",
      " ytrain: (1437,)\n",
      "\n",
      " ytest: (360,)\n"
     ]
    }
   ],
   "source": [
    "print('\\n xtrain:',xtrain.shape)\n",
    "print('\\n xtest:',xtest.shape)\n",
    "print('\\n ytrain:',ytrain.shape)\n",
    "print('\\n ytest:',ytest.shape)"
   ]
  },
  {
   "cell_type": "markdown",
   "metadata": {
    "id": "HAoJ_joTObG_"
   },
   "source": [
    "Scaling down the feature "
   ]
  },
  {
   "cell_type": "code",
   "execution_count": 10,
   "metadata": {
    "colab": {
     "base_uri": "https://localhost:8080/",
     "height": 34
    },
    "executionInfo": {
     "elapsed": 1753,
     "status": "ok",
     "timestamp": 1603117263625,
     "user": {
      "displayName": "Imad Khanzada",
      "photoUrl": "https://lh3.googleusercontent.com/a-/AOh14GglUSPC1xTBFmnNxhIdCYGqq_23ydifOGEG9nMW=s64",
      "userId": "18384988035224797336"
     },
     "user_tz": -330
    },
    "id": "iIaXHiiLO09A",
    "outputId": "bb30159b-bfb4-4842-9f69-462922b0a64c"
   },
   "outputs": [
    {
     "data": {
      "text/plain": [
       "StandardScaler()"
      ]
     },
     "execution_count": 10,
     "metadata": {},
     "output_type": "execute_result"
    }
   ],
   "source": [
    "scaler= StandardScaler()\n",
    "scaler.fit(xtrain)"
   ]
  },
  {
   "cell_type": "code",
   "execution_count": 11,
   "metadata": {
    "executionInfo": {
     "elapsed": 1747,
     "status": "ok",
     "timestamp": 1603117263626,
     "user": {
      "displayName": "Imad Khanzada",
      "photoUrl": "https://lh3.googleusercontent.com/a-/AOh14GglUSPC1xTBFmnNxhIdCYGqq_23ydifOGEG9nMW=s64",
      "userId": "18384988035224797336"
     },
     "user_tz": -330
    },
    "id": "UGfvqEa2PAXB"
   },
   "outputs": [],
   "source": [
    "scaled_xtrain=scaler.fit_transform(xtrain)\n",
    "scaled_xtest=scaler.fit_transform(xtest)"
   ]
  },
  {
   "cell_type": "markdown",
   "metadata": {
    "id": "kpVrLOMrPdX8"
   },
   "source": [
    "Logistic Regression\n"
   ]
  },
  {
   "cell_type": "code",
   "execution_count": 12,
   "metadata": {
    "colab": {
     "base_uri": "https://localhost:8080/",
     "height": 102
    },
    "executionInfo": {
     "elapsed": 2491,
     "status": "ok",
     "timestamp": 1603117264392,
     "user": {
      "displayName": "Imad Khanzada",
      "photoUrl": "https://lh3.googleusercontent.com/a-/AOh14GglUSPC1xTBFmnNxhIdCYGqq_23ydifOGEG9nMW=s64",
      "userId": "18384988035224797336"
     },
     "user_tz": -330
    },
    "id": "TwFnU8kmPnTM",
    "outputId": "74c415a1-adc7-48cd-8ed2-e7b7876be761"
   },
   "outputs": [
    {
     "data": {
      "text/plain": [
       "LogisticRegression()"
      ]
     },
     "execution_count": 12,
     "metadata": {},
     "output_type": "execute_result"
    }
   ],
   "source": [
    "log_reg=LogisticRegression()\n",
    "log_reg.fit(scaled_xtrain,ytrain)   ## as we have scaled down the xtrain we use scaled_xtrain"
   ]
  },
  {
   "cell_type": "code",
   "execution_count": 13,
   "metadata": {
    "executionInfo": {
     "elapsed": 2486,
     "status": "ok",
     "timestamp": 1603117264394,
     "user": {
      "displayName": "Imad Khanzada",
      "photoUrl": "https://lh3.googleusercontent.com/a-/AOh14GglUSPC1xTBFmnNxhIdCYGqq_23ydifOGEG9nMW=s64",
      "userId": "18384988035224797336"
     },
     "user_tz": -330
    },
    "id": "Jsba0XrYP6aU"
   },
   "outputs": [],
   "source": [
    "ypred=log_reg.predict(scaled_xtest)"
   ]
  },
  {
   "cell_type": "code",
   "execution_count": 14,
   "metadata": {
    "colab": {
     "base_uri": "https://localhost:8080/",
     "height": 306
    },
    "executionInfo": {
     "elapsed": 2469,
     "status": "ok",
     "timestamp": 1603117264395,
     "user": {
      "displayName": "Imad Khanzada",
      "photoUrl": "https://lh3.googleusercontent.com/a-/AOh14GglUSPC1xTBFmnNxhIdCYGqq_23ydifOGEG9nMW=s64",
      "userId": "18384988035224797336"
     },
     "user_tz": -330
    },
    "id": "mbq_pPZrQj92",
    "outputId": "98a717ac-ceb2-4fe2-9b43-ddd0912b1b28"
   },
   "outputs": [
    {
     "data": {
      "text/plain": [
       "array([1, 5, 0, 7, 1, 0, 6, 1, 5, 4, 9, 2, 7, 8, 4, 6, 9, 3, 7, 4, 7, 1,\n",
       "       8, 6, 0, 9, 6, 1, 3, 7, 5, 9, 8, 3, 2, 8, 8, 1, 1, 0, 7, 9, 0, 0,\n",
       "       8, 7, 2, 7, 4, 3, 4, 3, 4, 0, 4, 7, 0, 5, 5, 5, 2, 1, 7, 0, 5, 1,\n",
       "       8, 3, 3, 4, 0, 3, 7, 4, 3, 4, 2, 9, 7, 3, 2, 5, 3, 4, 1, 5, 5, 2,\n",
       "       1, 2, 2, 2, 2, 7, 0, 8, 1, 7, 4, 2, 3, 8, 2, 3, 3, 0, 2, 9, 5, 2,\n",
       "       3, 2, 8, 1, 1, 9, 1, 2, 0, 4, 8, 5, 4, 4, 7, 6, 7, 6, 6, 1, 7, 5,\n",
       "       6, 3, 8, 3, 7, 1, 8, 5, 3, 4, 7, 8, 5, 0, 6, 0, 6, 3, 7, 6, 5, 6,\n",
       "       2, 2, 2, 3, 0, 7, 6, 5, 6, 4, 1, 0, 6, 0, 6, 4, 0, 9, 3, 5, 9, 2,\n",
       "       3, 1, 9, 0, 7, 6, 2, 9, 3, 5, 3, 4, 6, 3, 3, 7, 4, 9, 2, 7, 6, 1,\n",
       "       6, 8, 4, 0, 3, 1, 0, 9, 9, 9, 0, 1, 2, 6, 8, 0, 9, 5, 9, 8, 2, 3,\n",
       "       5, 3, 0, 8, 7, 4, 0, 3, 3, 3, 6, 3, 3, 2, 9, 1, 6, 9, 0, 4, 2, 2,\n",
       "       7, 9, 1, 6, 7, 6, 3, 9, 1, 9, 3, 4, 0, 6, 4, 8, 5, 3, 6, 3, 1, 4,\n",
       "       0, 4, 4, 8, 7, 9, 1, 5, 2, 7, 0, 9, 0, 4, 4, 0, 1, 0, 6, 4, 2, 8,\n",
       "       5, 0, 2, 6, 0, 1, 8, 2, 0, 9, 5, 6, 2, 0, 5, 0, 9, 1, 4, 7, 1, 7,\n",
       "       0, 6, 6, 8, 0, 2, 2, 6, 9, 9, 7, 5, 1, 7, 6, 4, 6, 1, 9, 4, 7, 1,\n",
       "       3, 7, 8, 1, 6, 9, 8, 3, 2, 4, 8, 7, 5, 5, 6, 9, 9, 8, 3, 0, 0, 4,\n",
       "       9, 3, 0, 4, 9, 4, 2, 5])"
      ]
     },
     "execution_count": 14,
     "metadata": {},
     "output_type": "execute_result"
    }
   ],
   "source": [
    "ypred\n"
   ]
  },
  {
   "cell_type": "code",
   "execution_count": 15,
   "metadata": {
    "colab": {
     "base_uri": "https://localhost:8080/",
     "height": 34
    },
    "executionInfo": {
     "elapsed": 2453,
     "status": "ok",
     "timestamp": 1603117264396,
     "user": {
      "displayName": "Imad Khanzada",
      "photoUrl": "https://lh3.googleusercontent.com/a-/AOh14GglUSPC1xTBFmnNxhIdCYGqq_23ydifOGEG9nMW=s64",
      "userId": "18384988035224797336"
     },
     "user_tz": -330
    },
    "id": "GbXb67uARb91",
    "outputId": "ead78c60-2507-4f56-ab7e-d51701605381"
   },
   "outputs": [
    {
     "name": "stdout",
     "output_type": "stream",
     "text": [
      "ACcuracy: 0.9805555555555555\n"
     ]
    }
   ],
   "source": [
    "print('ACcuracy:',accuracy_score(ytest,ypred))"
   ]
  },
  {
   "cell_type": "markdown",
   "metadata": {
    "id": "rFJ93uOeR9bb"
   },
   "source": [
    "*above our model got 98%  accuracy *"
   ]
  },
  {
   "cell_type": "code",
   "execution_count": 16,
   "metadata": {
    "colab": {
     "base_uri": "https://localhost:8080/",
     "height": 187
    },
    "executionInfo": {
     "elapsed": 2424,
     "status": "ok",
     "timestamp": 1603117264396,
     "user": {
      "displayName": "Imad Khanzada",
      "photoUrl": "https://lh3.googleusercontent.com/a-/AOh14GglUSPC1xTBFmnNxhIdCYGqq_23ydifOGEG9nMW=s64",
      "userId": "18384988035224797336"
     },
     "user_tz": -330
    },
    "id": "tNkGItO6SRxW",
    "outputId": "751b526e-6ee3-4572-c55b-ac5ac45b9c97"
   },
   "outputs": [
    {
     "data": {
      "text/plain": [
       "array([[43,  0,  0,  0,  0,  0,  0,  0,  0,  0],\n",
       "       [ 0, 34,  0,  0,  0,  0,  0,  0,  0,  1],\n",
       "       [ 0,  0, 36,  0,  0,  0,  0,  0,  0,  0],\n",
       "       [ 0,  0,  0, 41,  0,  0,  0,  0,  0,  0],\n",
       "       [ 0,  0,  0,  0, 38,  0,  0,  0,  0,  0],\n",
       "       [ 0,  1,  0,  1,  0, 28,  0,  0,  0,  0],\n",
       "       [ 0,  0,  0,  0,  0,  0, 37,  0,  0,  0],\n",
       "       [ 0,  0,  0,  0,  0,  0,  0, 36,  0,  1],\n",
       "       [ 0,  0,  1,  0,  0,  1,  0,  0, 27,  0],\n",
       "       [ 0,  0,  0,  0,  0,  1,  0,  0,  0, 33]], dtype=int64)"
      ]
     },
     "execution_count": 16,
     "metadata": {},
     "output_type": "execute_result"
    }
   ],
   "source": [
    "matrix= confusion_matrix(ytest,ypred)  \n",
    "matrix"
   ]
  },
  {
   "cell_type": "code",
   "execution_count": 17,
   "metadata": {
    "colab": {
     "base_uri": "https://localhost:8080/",
     "height": 459
    },
    "executionInfo": {
     "elapsed": 2965,
     "status": "ok",
     "timestamp": 1603117264965,
     "user": {
      "displayName": "Imad Khanzada",
      "photoUrl": "https://lh3.googleusercontent.com/a-/AOh14GglUSPC1xTBFmnNxhIdCYGqq_23ydifOGEG9nMW=s64",
      "userId": "18384988035224797336"
     },
     "user_tz": -330
    },
    "id": "eZiFU1LYSuzS",
    "outputId": "9ecb13bc-e3a4-462c-9d05-295514590045"
   },
   "outputs": [
    {
     "data": {
      "text/plain": [
       "Text(105.0, 0.5, 'Predicted values')"
      ]
     },
     "execution_count": 17,
     "metadata": {},
     "output_type": "execute_result"
    },
    {
     "data": {
      "image/png": "[encoded data removed]",
      "text/plain": [
       "<Figure size 1008x504 with 2 Axes>"
      ]
     },
     "metadata": {
      "needs_background": "light"
     },
     "output_type": "display_data"
    }
   ],
   "source": [
    "plt.figure(figsize=(14,7))\n",
    "sns.heatmap(matrix,annot=True)\n",
    "plt.xlabel('Actual values ')\n",
    "plt.ylabel('Predicted values')\n"
   ]
  },
  {
   "cell_type": "code",
   "execution_count": 18,
   "metadata": {
    "colab": {
     "base_uri": "https://localhost:8080/",
     "height": 306
    },
    "executionInfo": {
     "elapsed": 2920,
     "status": "ok",
     "timestamp": 1603117264969,
     "user": {
      "displayName": "Imad Khanzada",
      "photoUrl": "https://lh3.googleusercontent.com/a-/AOh14GglUSPC1xTBFmnNxhIdCYGqq_23ydifOGEG9nMW=s64",
      "userId": "18384988035224797336"
     },
     "user_tz": -330
    },
    "id": "OtJnK81RDqzg",
    "outputId": "bbd53cc6-f853-4445-ee81-85a5e1a32dc3"
   },
   "outputs": [
    {
     "name": "stdout",
     "output_type": "stream",
     "text": [
      "              precision    recall  f1-score   support\n",
      "\n",
      "           0       1.00      1.00      1.00        43\n",
      "           1       0.97      0.97      0.97        35\n",
      "           2       0.97      1.00      0.99        36\n",
      "           3       0.98      1.00      0.99        41\n",
      "           4       1.00      1.00      1.00        38\n",
      "           5       0.93      0.93      0.93        30\n",
      "           6       1.00      1.00      1.00        37\n",
      "           7       1.00      0.97      0.99        37\n",
      "           8       1.00      0.93      0.96        29\n",
      "           9       0.94      0.97      0.96        34\n",
      "\n",
      "    accuracy                           0.98       360\n",
      "   macro avg       0.98      0.98      0.98       360\n",
      "weighted avg       0.98      0.98      0.98       360\n",
      "\n"
     ]
    }
   ],
   "source": [
    "## classification report table \n",
    "from sklearn.metrics import classification_report\n",
    "print(classification_report(ytest,ypred))"
   ]
  },
  {
   "cell_type": "code",
   "execution_count": null,
   "metadata": {},
   "outputs": [],
   "source": []
  },
  {
   "cell_type": "code",
   "execution_count": null,
   "metadata": {},
   "outputs": [],
   "source": []
  }
 ],
 "metadata": {
  "colab": {
   "authorship_tag": "ABX9TyO2KxZ26tpPWlUsqn0eN1KM",
   "collapsed_sections": [],
   "name": "Day 30 Assignment.ipynb",
   "provenance": []
  },
  "kernelspec": {
   "display_name": "Python 3",
   "language": "python",
   "name": "python3"
  },
  "language_info": {
   "codemirror_mode": {
    "name": "ipython",
    "version": 3
   },
   "file_extension": ".py",
   "mimetype": "text/x-python",
   "name": "python",
   "nbconvert_exporter": "python",
   "pygments_lexer": "ipython3",
   "version": "3.8.3"
  }
 },
 "nbformat": 4,
 "nbformat_minor": 1
}
